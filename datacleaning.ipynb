{
 "metadata": {
  "language_info": {
   "codemirror_mode": {
    "name": "ipython",
    "version": 3
   },
   "file_extension": ".py",
   "mimetype": "text/x-python",
   "name": "python",
   "nbconvert_exporter": "python",
   "pygments_lexer": "ipython3",
   "version": "3.8.0"
  },
  "orig_nbformat": 2,
  "kernelspec": {
   "name": "python3",
   "display_name": "Python 3.8.0 64-bit",
   "metadata": {
    "interpreter": {
     "hash": "752579dbebe7f4dfe7c1aa72eac13e23fc88be2cc1ea7ab14e1f8d69b2d97d12"
    }
   }
  }
 },
 "nbformat": 4,
 "nbformat_minor": 2,
 "cells": [
  {
   "cell_type": "code",
   "execution_count": 2,
   "metadata": {},
   "outputs": [],
   "source": [
    "import pandas as pd"
   ]
  },
  {
   "cell_type": "code",
   "execution_count": 11,
   "metadata": {},
   "outputs": [],
   "source": [
    "demographic_data = pd.read_csv(\"https://raw.githubusercontent.com/asmaaalaa99/SS154-Final-Project/main/Data/hd2019%20-%20hd2019.csv\")\n",
    "salary_data = pd.read_csv(\"https://raw.githubusercontent.com/asmaaalaa99/SS154-Final-Project/main/Data/salaries-by-region.csv\")\n",
    "salary_data_school_type = pd.read_csv(\"/Users/asmaaaly/Minerva/SF_spring/SS154/SS154-assignment/Data/salaries-by-college-type.csv\")"
   ]
  },
  {
   "cell_type": "code",
   "execution_count": 17,
   "metadata": {},
   "outputs": [],
   "source": [
    "salary_data = pd.merge(salary_data,salary_data_school_type[['School Name','School Type']],on='School Name', how='left')\n"
   ]
  },
  {
   "cell_type": "code",
   "execution_count": 42,
   "metadata": {},
   "outputs": [
    {
     "output_type": "execute_result",
     "data": {
      "text/plain": [
       "                                         School Name        Region  \\\n",
       "0                                Stanford University    California   \n",
       "1           California Institute of Technology (CIT)    California   \n",
       "2                                Harvey Mudd College    California   \n",
       "3                 University of California, Berkeley    California   \n",
       "4                                 Occidental College    California   \n",
       "..                                               ...           ...   \n",
       "335   State University of New York (SUNY) at Potsdam  Northeastern   \n",
       "336                               Niagara University  Northeastern   \n",
       "337  State University of New York (SUNY) at Fredonia  Northeastern   \n",
       "338                     University of Southern Maine  Northeastern   \n",
       "339                                    Mercy College  Northeastern   \n",
       "\n",
       "    Starting Median Salary Mid-Career Median Salary  \\\n",
       "0               $70,400.00              $129,000.00   \n",
       "1               $75,500.00              $123,000.00   \n",
       "2               $71,800.00              $122,000.00   \n",
       "3               $59,900.00              $112,000.00   \n",
       "4               $51,900.00              $105,000.00   \n",
       "..                     ...                      ...   \n",
       "335             $38,000.00               $70,300.00   \n",
       "336             $36,900.00               $69,700.00   \n",
       "337             $37,800.00               $66,200.00   \n",
       "338             $39,400.00               $63,600.00   \n",
       "339             $43,700.00               $62,600.00   \n",
       "\n",
       "    Mid-Career 10th Percentile Salary Mid-Career 25th Percentile Salary  \\\n",
       "0                          $68,400.00                        $93,100.00   \n",
       "1                                 NaN                       $104,000.00   \n",
       "2                                 NaN                        $96,000.00   \n",
       "3                          $59,500.00                        $81,000.00   \n",
       "4                                 NaN                        $54,800.00   \n",
       "..                                ...                               ...   \n",
       "335                        $35,100.00                        $51,200.00   \n",
       "336                        $44,000.00                        $57,000.00   \n",
       "337                        $32,800.00                        $44,200.00   \n",
       "338                        $40,400.00                        $47,900.00   \n",
       "339                        $35,600.00                        $47,300.00   \n",
       "\n",
       "    Mid-Career 75th Percentile Salary Mid-Career 90th Percentile Salary  \\\n",
       "0                         $184,000.00                       $257,000.00   \n",
       "1                         $161,000.00                               NaN   \n",
       "2                         $180,000.00                               NaN   \n",
       "3                         $149,000.00                       $201,000.00   \n",
       "4                         $157,000.00                               NaN   \n",
       "..                                ...                               ...   \n",
       "335                       $100,000.00                       $179,000.00   \n",
       "336                        $92,000.00                       $128,000.00   \n",
       "337                        $93,300.00                       $181,000.00   \n",
       "338                        $85,700.00                       $117,000.00   \n",
       "339                        $99,000.00                       $134,000.00   \n",
       "\n",
       "      School Type  \n",
       "0             NaN  \n",
       "1     Engineering  \n",
       "2     Engineering  \n",
       "3           State  \n",
       "4    Liberal Arts  \n",
       "..            ...  \n",
       "335         State  \n",
       "336           NaN  \n",
       "337         State  \n",
       "338         State  \n",
       "339           NaN  \n",
       "\n",
       "[340 rows x 9 columns]"
      ],
      "text/html": "<div>\n<style scoped>\n    .dataframe tbody tr th:only-of-type {\n        vertical-align: middle;\n    }\n\n    .dataframe tbody tr th {\n        vertical-align: top;\n    }\n\n    .dataframe thead th {\n        text-align: right;\n    }\n</style>\n<table border=\"1\" class=\"dataframe\">\n  <thead>\n    <tr style=\"text-align: right;\">\n      <th></th>\n      <th>School Name</th>\n      <th>Region</th>\n      <th>Starting Median Salary</th>\n      <th>Mid-Career Median Salary</th>\n      <th>Mid-Career 10th Percentile Salary</th>\n      <th>Mid-Career 25th Percentile Salary</th>\n      <th>Mid-Career 75th Percentile Salary</th>\n      <th>Mid-Career 90th Percentile Salary</th>\n      <th>School Type</th>\n    </tr>\n  </thead>\n  <tbody>\n    <tr>\n      <th>0</th>\n      <td>Stanford University</td>\n      <td>California</td>\n      <td>$70,400.00</td>\n      <td>$129,000.00</td>\n      <td>$68,400.00</td>\n      <td>$93,100.00</td>\n      <td>$184,000.00</td>\n      <td>$257,000.00</td>\n      <td>NaN</td>\n    </tr>\n    <tr>\n      <th>1</th>\n      <td>California Institute of Technology (CIT)</td>\n      <td>California</td>\n      <td>$75,500.00</td>\n      <td>$123,000.00</td>\n      <td>NaN</td>\n      <td>$104,000.00</td>\n      <td>$161,000.00</td>\n      <td>NaN</td>\n      <td>Engineering</td>\n    </tr>\n    <tr>\n      <th>2</th>\n      <td>Harvey Mudd College</td>\n      <td>California</td>\n      <td>$71,800.00</td>\n      <td>$122,000.00</td>\n      <td>NaN</td>\n      <td>$96,000.00</td>\n      <td>$180,000.00</td>\n      <td>NaN</td>\n      <td>Engineering</td>\n    </tr>\n    <tr>\n      <th>3</th>\n      <td>University of California, Berkeley</td>\n      <td>California</td>\n      <td>$59,900.00</td>\n      <td>$112,000.00</td>\n      <td>$59,500.00</td>\n      <td>$81,000.00</td>\n      <td>$149,000.00</td>\n      <td>$201,000.00</td>\n      <td>State</td>\n    </tr>\n    <tr>\n      <th>4</th>\n      <td>Occidental College</td>\n      <td>California</td>\n      <td>$51,900.00</td>\n      <td>$105,000.00</td>\n      <td>NaN</td>\n      <td>$54,800.00</td>\n      <td>$157,000.00</td>\n      <td>NaN</td>\n      <td>Liberal Arts</td>\n    </tr>\n    <tr>\n      <th>...</th>\n      <td>...</td>\n      <td>...</td>\n      <td>...</td>\n      <td>...</td>\n      <td>...</td>\n      <td>...</td>\n      <td>...</td>\n      <td>...</td>\n      <td>...</td>\n    </tr>\n    <tr>\n      <th>335</th>\n      <td>State University of New York (SUNY) at Potsdam</td>\n      <td>Northeastern</td>\n      <td>$38,000.00</td>\n      <td>$70,300.00</td>\n      <td>$35,100.00</td>\n      <td>$51,200.00</td>\n      <td>$100,000.00</td>\n      <td>$179,000.00</td>\n      <td>State</td>\n    </tr>\n    <tr>\n      <th>336</th>\n      <td>Niagara University</td>\n      <td>Northeastern</td>\n      <td>$36,900.00</td>\n      <td>$69,700.00</td>\n      <td>$44,000.00</td>\n      <td>$57,000.00</td>\n      <td>$92,000.00</td>\n      <td>$128,000.00</td>\n      <td>NaN</td>\n    </tr>\n    <tr>\n      <th>337</th>\n      <td>State University of New York (SUNY) at Fredonia</td>\n      <td>Northeastern</td>\n      <td>$37,800.00</td>\n      <td>$66,200.00</td>\n      <td>$32,800.00</td>\n      <td>$44,200.00</td>\n      <td>$93,300.00</td>\n      <td>$181,000.00</td>\n      <td>State</td>\n    </tr>\n    <tr>\n      <th>338</th>\n      <td>University of Southern Maine</td>\n      <td>Northeastern</td>\n      <td>$39,400.00</td>\n      <td>$63,600.00</td>\n      <td>$40,400.00</td>\n      <td>$47,900.00</td>\n      <td>$85,700.00</td>\n      <td>$117,000.00</td>\n      <td>State</td>\n    </tr>\n    <tr>\n      <th>339</th>\n      <td>Mercy College</td>\n      <td>Northeastern</td>\n      <td>$43,700.00</td>\n      <td>$62,600.00</td>\n      <td>$35,600.00</td>\n      <td>$47,300.00</td>\n      <td>$99,000.00</td>\n      <td>$134,000.00</td>\n      <td>NaN</td>\n    </tr>\n  </tbody>\n</table>\n<p>340 rows × 9 columns</p>\n</div>"
     },
     "metadata": {},
     "execution_count": 42
    }
   ],
   "source": [
    "salary_data"
   ]
  },
  {
   "cell_type": "code",
   "execution_count": 30,
   "metadata": {},
   "outputs": [],
   "source": [
    "#only get the first columns of the salary data \n",
    "salary_data_clean = salary_data.iloc[:,np.r_[0:4,8:9]]\n"
   ]
  },
  {
   "cell_type": "code",
   "execution_count": 31,
   "metadata": {},
   "outputs": [
    {
     "output_type": "execute_result",
     "data": {
      "text/plain": [
       "                                School Name      Region  \\\n",
       "0                       Stanford University  California   \n",
       "1  California Institute of Technology (CIT)  California   \n",
       "2                       Harvey Mudd College  California   \n",
       "3        University of California, Berkeley  California   \n",
       "4                        Occidental College  California   \n",
       "\n",
       "  Starting Median Salary Mid-Career Median Salary   School Type  \n",
       "0             $70,400.00              $129,000.00           NaN  \n",
       "1             $75,500.00              $123,000.00   Engineering  \n",
       "2             $71,800.00              $122,000.00   Engineering  \n",
       "3             $59,900.00              $112,000.00         State  \n",
       "4             $51,900.00              $105,000.00  Liberal Arts  "
      ],
      "text/html": "<div>\n<style scoped>\n    .dataframe tbody tr th:only-of-type {\n        vertical-align: middle;\n    }\n\n    .dataframe tbody tr th {\n        vertical-align: top;\n    }\n\n    .dataframe thead th {\n        text-align: right;\n    }\n</style>\n<table border=\"1\" class=\"dataframe\">\n  <thead>\n    <tr style=\"text-align: right;\">\n      <th></th>\n      <th>School Name</th>\n      <th>Region</th>\n      <th>Starting Median Salary</th>\n      <th>Mid-Career Median Salary</th>\n      <th>School Type</th>\n    </tr>\n  </thead>\n  <tbody>\n    <tr>\n      <th>0</th>\n      <td>Stanford University</td>\n      <td>California</td>\n      <td>$70,400.00</td>\n      <td>$129,000.00</td>\n      <td>NaN</td>\n    </tr>\n    <tr>\n      <th>1</th>\n      <td>California Institute of Technology (CIT)</td>\n      <td>California</td>\n      <td>$75,500.00</td>\n      <td>$123,000.00</td>\n      <td>Engineering</td>\n    </tr>\n    <tr>\n      <th>2</th>\n      <td>Harvey Mudd College</td>\n      <td>California</td>\n      <td>$71,800.00</td>\n      <td>$122,000.00</td>\n      <td>Engineering</td>\n    </tr>\n    <tr>\n      <th>3</th>\n      <td>University of California, Berkeley</td>\n      <td>California</td>\n      <td>$59,900.00</td>\n      <td>$112,000.00</td>\n      <td>State</td>\n    </tr>\n    <tr>\n      <th>4</th>\n      <td>Occidental College</td>\n      <td>California</td>\n      <td>$51,900.00</td>\n      <td>$105,000.00</td>\n      <td>Liberal Arts</td>\n    </tr>\n  </tbody>\n</table>\n</div>"
     },
     "metadata": {},
     "execution_count": 31
    }
   ],
   "source": [
    "salary_data_clean.head(5)"
   ]
  },
  {
   "cell_type": "code",
   "execution_count": 32,
   "metadata": {},
   "outputs": [
    {
     "output_type": "execute_result",
     "data": {
      "text/plain": [
       "   UNITID                               INSTNM  \\\n",
       "0  100654             Alabama A & M University   \n",
       "1  100663  University of Alabama at Birmingham   \n",
       "2  100690                   Amridge University   \n",
       "3  100706  University of Alabama in Huntsville   \n",
       "4  100724             Alabama State University   \n",
       "\n",
       "                                              IALIAS  \\\n",
       "0                                               AAMU   \n",
       "1                                                      \n",
       "2  Southern Christian University  Regions University   \n",
       "3              UAH  University of Alabama Huntsville   \n",
       "4                                                      \n",
       "\n",
       "                             ADDR        CITY STABBR         ZIP  FIPS  \\\n",
       "0            4900 Meridian Street      Normal     AL       35762     1   \n",
       "1  Administration Bldg Suite 1070  Birmingham     AL  35294-0110     1   \n",
       "2                  1200 Taylor Rd  Montgomery     AL  36117-3553     1   \n",
       "3                 301 Sparkman Dr  Huntsville     AL       35899     1   \n",
       "4            915 S Jackson Street  Montgomery     AL  36104-0271     1   \n",
       "\n",
       "   OBEREG                   CHFNM  ... CBSATYPE  CSA  NECTA COUNTYCD  \\\n",
       "0       5  Dr. Andrew Hugine, Jr.  ...        1  290     -2     1089   \n",
       "1       5            Ray L. Watts  ...        1  142     -2     1073   \n",
       "2       5        Michael C.Turner  ...        1  388     -2     1101   \n",
       "3       5           Darren Dawson  ...        1  290     -2     1089   \n",
       "4       5         Quinton T. Ross  ...        1  388     -2     1101   \n",
       "\n",
       "            COUNTYNM  CNGDSTCD   LONGITUD   LATITUDE DFRCGID DFRCUSCG  \n",
       "0     Madison County       105 -86.568502  34.783368     112        1  \n",
       "1   Jefferson County       107 -86.799345  33.505697      98        1  \n",
       "2  Montgomery County       102 -86.174010  32.362609     129        2  \n",
       "3     Madison County       105 -86.640449  34.724557     102        2  \n",
       "4  Montgomery County       107 -86.295677  32.364317     120        1  \n",
       "\n",
       "[5 rows x 73 columns]"
      ],
      "text/html": "<div>\n<style scoped>\n    .dataframe tbody tr th:only-of-type {\n        vertical-align: middle;\n    }\n\n    .dataframe tbody tr th {\n        vertical-align: top;\n    }\n\n    .dataframe thead th {\n        text-align: right;\n    }\n</style>\n<table border=\"1\" class=\"dataframe\">\n  <thead>\n    <tr style=\"text-align: right;\">\n      <th></th>\n      <th>UNITID</th>\n      <th>INSTNM</th>\n      <th>IALIAS</th>\n      <th>ADDR</th>\n      <th>CITY</th>\n      <th>STABBR</th>\n      <th>ZIP</th>\n      <th>FIPS</th>\n      <th>OBEREG</th>\n      <th>CHFNM</th>\n      <th>...</th>\n      <th>CBSATYPE</th>\n      <th>CSA</th>\n      <th>NECTA</th>\n      <th>COUNTYCD</th>\n      <th>COUNTYNM</th>\n      <th>CNGDSTCD</th>\n      <th>LONGITUD</th>\n      <th>LATITUDE</th>\n      <th>DFRCGID</th>\n      <th>DFRCUSCG</th>\n    </tr>\n  </thead>\n  <tbody>\n    <tr>\n      <th>0</th>\n      <td>100654</td>\n      <td>Alabama A &amp; M University</td>\n      <td>AAMU</td>\n      <td>4900 Meridian Street</td>\n      <td>Normal</td>\n      <td>AL</td>\n      <td>35762</td>\n      <td>1</td>\n      <td>5</td>\n      <td>Dr. Andrew Hugine, Jr.</td>\n      <td>...</td>\n      <td>1</td>\n      <td>290</td>\n      <td>-2</td>\n      <td>1089</td>\n      <td>Madison County</td>\n      <td>105</td>\n      <td>-86.568502</td>\n      <td>34.783368</td>\n      <td>112</td>\n      <td>1</td>\n    </tr>\n    <tr>\n      <th>1</th>\n      <td>100663</td>\n      <td>University of Alabama at Birmingham</td>\n      <td></td>\n      <td>Administration Bldg Suite 1070</td>\n      <td>Birmingham</td>\n      <td>AL</td>\n      <td>35294-0110</td>\n      <td>1</td>\n      <td>5</td>\n      <td>Ray L. Watts</td>\n      <td>...</td>\n      <td>1</td>\n      <td>142</td>\n      <td>-2</td>\n      <td>1073</td>\n      <td>Jefferson County</td>\n      <td>107</td>\n      <td>-86.799345</td>\n      <td>33.505697</td>\n      <td>98</td>\n      <td>1</td>\n    </tr>\n    <tr>\n      <th>2</th>\n      <td>100690</td>\n      <td>Amridge University</td>\n      <td>Southern Christian University  Regions University</td>\n      <td>1200 Taylor Rd</td>\n      <td>Montgomery</td>\n      <td>AL</td>\n      <td>36117-3553</td>\n      <td>1</td>\n      <td>5</td>\n      <td>Michael C.Turner</td>\n      <td>...</td>\n      <td>1</td>\n      <td>388</td>\n      <td>-2</td>\n      <td>1101</td>\n      <td>Montgomery County</td>\n      <td>102</td>\n      <td>-86.174010</td>\n      <td>32.362609</td>\n      <td>129</td>\n      <td>2</td>\n    </tr>\n    <tr>\n      <th>3</th>\n      <td>100706</td>\n      <td>University of Alabama in Huntsville</td>\n      <td>UAH  University of Alabama Huntsville</td>\n      <td>301 Sparkman Dr</td>\n      <td>Huntsville</td>\n      <td>AL</td>\n      <td>35899</td>\n      <td>1</td>\n      <td>5</td>\n      <td>Darren Dawson</td>\n      <td>...</td>\n      <td>1</td>\n      <td>290</td>\n      <td>-2</td>\n      <td>1089</td>\n      <td>Madison County</td>\n      <td>105</td>\n      <td>-86.640449</td>\n      <td>34.724557</td>\n      <td>102</td>\n      <td>2</td>\n    </tr>\n    <tr>\n      <th>4</th>\n      <td>100724</td>\n      <td>Alabama State University</td>\n      <td></td>\n      <td>915 S Jackson Street</td>\n      <td>Montgomery</td>\n      <td>AL</td>\n      <td>36104-0271</td>\n      <td>1</td>\n      <td>5</td>\n      <td>Quinton T. Ross</td>\n      <td>...</td>\n      <td>1</td>\n      <td>388</td>\n      <td>-2</td>\n      <td>1101</td>\n      <td>Montgomery County</td>\n      <td>107</td>\n      <td>-86.295677</td>\n      <td>32.364317</td>\n      <td>120</td>\n      <td>1</td>\n    </tr>\n  </tbody>\n</table>\n<p>5 rows × 73 columns</p>\n</div>"
     },
     "metadata": {},
     "execution_count": 32
    }
   ],
   "source": [
    "demographic_data.head(5)"
   ]
  },
  {
   "cell_type": "code",
   "execution_count": 33,
   "metadata": {},
   "outputs": [
    {
     "output_type": "execute_result",
     "data": {
      "text/plain": [
       "     UNITID                     school_name  \\\n",
       "0    100858               auburn university   \n",
       "1    102553  university of alaska anchorage   \n",
       "2    104179           university of arizona   \n",
       "3    106397          university of arkansas   \n",
       "4    115409             harvey mudd college   \n",
       "..      ...                             ...   \n",
       "146  236595              seattle university   \n",
       "147  237011   western washington university   \n",
       "148  237057                 whitman college   \n",
       "149  239105            marquette university   \n",
       "150  243744             stanford university   \n",
       "\n",
       "                                                IALIAS  \\\n",
       "0                                                        \n",
       "1                                                  UAA   \n",
       "2    UA|U of A|Arizona|UofA|The University of Arizo...   \n",
       "3                      University of Arkansas|Arkansas   \n",
       "4                                            Mudd, HMC   \n",
       "..                                                 ...   \n",
       "146                                          Seattle U   \n",
       "147  Western Washington State College|Western Washi...   \n",
       "148                                                      \n",
       "149                                                      \n",
       "150                                                      \n",
       "\n",
       "                        ADDR          CITY STABBR         ZIP  FIPS  OBEREG  \\\n",
       "0                                   Auburn     AL       36849     1       5   \n",
       "1      3211 Providence Drive     Anchorage     AK       99508     2       8   \n",
       "2          1401 E University        Tucson     AZ  85721-0066     4       6   \n",
       "3    Administration Bldg 425  Fayetteville     AR       72701     5       5   \n",
       "4            301 Platt Blvd.     Claremont     CA       91711     6       8   \n",
       "..                       ...           ...    ...         ...   ...     ...   \n",
       "146             900 Broadway       Seattle     WA  98122-4340    53       8   \n",
       "147          516 High Street    Bellingham     WA  98225-9008    53       8   \n",
       "148            345 Boyer Ave   Walla Walla     WA       99362    53       8   \n",
       "149  1250 W Wisconsin Avenue     Milwaukee     WI       53233    55       3   \n",
       "150                               Stanford     CA       94305     6       8   \n",
       "\n",
       "                     CHFNM  ...                COUNTYNM CNGDSTCD    LONGITUD  \\\n",
       "0                Jay Gogue  ...              Lee County      103  -85.488258   \n",
       "1            Cathy Sandeen  ...  Anchorage Municipality      200 -149.826190   \n",
       "2    Dr. Robert C. Robbins  ...             Pima County      403 -110.950815   \n",
       "3      Joseph E. Steinmetz  ...       Washington County      503  -94.176981   \n",
       "4              Maria Klawe  ...      Los Angeles County      627 -117.709837   \n",
       "..                     ...  ...                     ...      ...         ...   \n",
       "146     Stephen V Sundborg  ...             King County     5309 -122.318851   \n",
       "147         Sabah Randhawa  ...          Whatcom County     5302 -122.485734   \n",
       "148        Kathleen Murray  ...      Walla Walla County     5305 -118.331546   \n",
       "149     Dr. Michael Lovell  ...        Milwaukee County     5504  -87.927961   \n",
       "150   Marc Tessier-Lavigne  ...      Santa Clara County      618 -122.167359   \n",
       "\n",
       "      LATITUDE  DFRCGID  DFRCUSCG      Region Starting Median Salary  \\\n",
       "0    32.599378       97         1    Southern             $45,400.00   \n",
       "1    61.190163      110         1     Western             $45,900.00   \n",
       "2    32.232672       96         1     Western             $47,500.00   \n",
       "3    36.070009       98         1    Southern             $44,100.00   \n",
       "4    34.106515      137         1  California             $71,800.00   \n",
       "..         ...      ...       ...         ...                    ...   \n",
       "146  47.608859      105         1     Western             $48,300.00   \n",
       "147  48.737812      109         1     Western             $42,700.00   \n",
       "148  46.069815      135         1     Western             $43,500.00   \n",
       "149  43.039030      103         1  Midwestern             $48,500.00   \n",
       "150  37.429434       99         1  California             $70,400.00   \n",
       "\n",
       "    Mid-Career Median Salary   School Type  \n",
       "0                 $84,700.00         State  \n",
       "1                 $72,600.00         State  \n",
       "2                 $86,100.00         State  \n",
       "3                 $82,800.00         State  \n",
       "4                $122,000.00   Engineering  \n",
       "..                       ...           ...  \n",
       "146               $82,800.00           NaN  \n",
       "147               $75,400.00         State  \n",
       "148               $80,100.00  Liberal Arts  \n",
       "149               $88,400.00           NaN  \n",
       "150              $129,000.00           NaN  \n",
       "\n",
       "[151 rows x 77 columns]"
      ],
      "text/html": "<div>\n<style scoped>\n    .dataframe tbody tr th:only-of-type {\n        vertical-align: middle;\n    }\n\n    .dataframe tbody tr th {\n        vertical-align: top;\n    }\n\n    .dataframe thead th {\n        text-align: right;\n    }\n</style>\n<table border=\"1\" class=\"dataframe\">\n  <thead>\n    <tr style=\"text-align: right;\">\n      <th></th>\n      <th>UNITID</th>\n      <th>school_name</th>\n      <th>IALIAS</th>\n      <th>ADDR</th>\n      <th>CITY</th>\n      <th>STABBR</th>\n      <th>ZIP</th>\n      <th>FIPS</th>\n      <th>OBEREG</th>\n      <th>CHFNM</th>\n      <th>...</th>\n      <th>COUNTYNM</th>\n      <th>CNGDSTCD</th>\n      <th>LONGITUD</th>\n      <th>LATITUDE</th>\n      <th>DFRCGID</th>\n      <th>DFRCUSCG</th>\n      <th>Region</th>\n      <th>Starting Median Salary</th>\n      <th>Mid-Career Median Salary</th>\n      <th>School Type</th>\n    </tr>\n  </thead>\n  <tbody>\n    <tr>\n      <th>0</th>\n      <td>100858</td>\n      <td>auburn university</td>\n      <td></td>\n      <td></td>\n      <td>Auburn</td>\n      <td>AL</td>\n      <td>36849</td>\n      <td>1</td>\n      <td>5</td>\n      <td>Jay Gogue</td>\n      <td>...</td>\n      <td>Lee County</td>\n      <td>103</td>\n      <td>-85.488258</td>\n      <td>32.599378</td>\n      <td>97</td>\n      <td>1</td>\n      <td>Southern</td>\n      <td>$45,400.00</td>\n      <td>$84,700.00</td>\n      <td>State</td>\n    </tr>\n    <tr>\n      <th>1</th>\n      <td>102553</td>\n      <td>university of alaska anchorage</td>\n      <td>UAA</td>\n      <td>3211 Providence Drive</td>\n      <td>Anchorage</td>\n      <td>AK</td>\n      <td>99508</td>\n      <td>2</td>\n      <td>8</td>\n      <td>Cathy Sandeen</td>\n      <td>...</td>\n      <td>Anchorage Municipality</td>\n      <td>200</td>\n      <td>-149.826190</td>\n      <td>61.190163</td>\n      <td>110</td>\n      <td>1</td>\n      <td>Western</td>\n      <td>$45,900.00</td>\n      <td>$72,600.00</td>\n      <td>State</td>\n    </tr>\n    <tr>\n      <th>2</th>\n      <td>104179</td>\n      <td>university of arizona</td>\n      <td>UA|U of A|Arizona|UofA|The University of Arizo...</td>\n      <td>1401 E University</td>\n      <td>Tucson</td>\n      <td>AZ</td>\n      <td>85721-0066</td>\n      <td>4</td>\n      <td>6</td>\n      <td>Dr. Robert C. Robbins</td>\n      <td>...</td>\n      <td>Pima County</td>\n      <td>403</td>\n      <td>-110.950815</td>\n      <td>32.232672</td>\n      <td>96</td>\n      <td>1</td>\n      <td>Western</td>\n      <td>$47,500.00</td>\n      <td>$86,100.00</td>\n      <td>State</td>\n    </tr>\n    <tr>\n      <th>3</th>\n      <td>106397</td>\n      <td>university of arkansas</td>\n      <td>University of Arkansas|Arkansas</td>\n      <td>Administration Bldg 425</td>\n      <td>Fayetteville</td>\n      <td>AR</td>\n      <td>72701</td>\n      <td>5</td>\n      <td>5</td>\n      <td>Joseph E. Steinmetz</td>\n      <td>...</td>\n      <td>Washington County</td>\n      <td>503</td>\n      <td>-94.176981</td>\n      <td>36.070009</td>\n      <td>98</td>\n      <td>1</td>\n      <td>Southern</td>\n      <td>$44,100.00</td>\n      <td>$82,800.00</td>\n      <td>State</td>\n    </tr>\n    <tr>\n      <th>4</th>\n      <td>115409</td>\n      <td>harvey mudd college</td>\n      <td>Mudd, HMC</td>\n      <td>301 Platt Blvd.</td>\n      <td>Claremont</td>\n      <td>CA</td>\n      <td>91711</td>\n      <td>6</td>\n      <td>8</td>\n      <td>Maria Klawe</td>\n      <td>...</td>\n      <td>Los Angeles County</td>\n      <td>627</td>\n      <td>-117.709837</td>\n      <td>34.106515</td>\n      <td>137</td>\n      <td>1</td>\n      <td>California</td>\n      <td>$71,800.00</td>\n      <td>$122,000.00</td>\n      <td>Engineering</td>\n    </tr>\n    <tr>\n      <th>...</th>\n      <td>...</td>\n      <td>...</td>\n      <td>...</td>\n      <td>...</td>\n      <td>...</td>\n      <td>...</td>\n      <td>...</td>\n      <td>...</td>\n      <td>...</td>\n      <td>...</td>\n      <td>...</td>\n      <td>...</td>\n      <td>...</td>\n      <td>...</td>\n      <td>...</td>\n      <td>...</td>\n      <td>...</td>\n      <td>...</td>\n      <td>...</td>\n      <td>...</td>\n      <td>...</td>\n    </tr>\n    <tr>\n      <th>146</th>\n      <td>236595</td>\n      <td>seattle university</td>\n      <td>Seattle U</td>\n      <td>900 Broadway</td>\n      <td>Seattle</td>\n      <td>WA</td>\n      <td>98122-4340</td>\n      <td>53</td>\n      <td>8</td>\n      <td>Stephen V Sundborg</td>\n      <td>...</td>\n      <td>King County</td>\n      <td>5309</td>\n      <td>-122.318851</td>\n      <td>47.608859</td>\n      <td>105</td>\n      <td>1</td>\n      <td>Western</td>\n      <td>$48,300.00</td>\n      <td>$82,800.00</td>\n      <td>NaN</td>\n    </tr>\n    <tr>\n      <th>147</th>\n      <td>237011</td>\n      <td>western washington university</td>\n      <td>Western Washington State College|Western Washi...</td>\n      <td>516 High Street</td>\n      <td>Bellingham</td>\n      <td>WA</td>\n      <td>98225-9008</td>\n      <td>53</td>\n      <td>8</td>\n      <td>Sabah Randhawa</td>\n      <td>...</td>\n      <td>Whatcom County</td>\n      <td>5302</td>\n      <td>-122.485734</td>\n      <td>48.737812</td>\n      <td>109</td>\n      <td>1</td>\n      <td>Western</td>\n      <td>$42,700.00</td>\n      <td>$75,400.00</td>\n      <td>State</td>\n    </tr>\n    <tr>\n      <th>148</th>\n      <td>237057</td>\n      <td>whitman college</td>\n      <td></td>\n      <td>345 Boyer Ave</td>\n      <td>Walla Walla</td>\n      <td>WA</td>\n      <td>99362</td>\n      <td>53</td>\n      <td>8</td>\n      <td>Kathleen Murray</td>\n      <td>...</td>\n      <td>Walla Walla County</td>\n      <td>5305</td>\n      <td>-118.331546</td>\n      <td>46.069815</td>\n      <td>135</td>\n      <td>1</td>\n      <td>Western</td>\n      <td>$43,500.00</td>\n      <td>$80,100.00</td>\n      <td>Liberal Arts</td>\n    </tr>\n    <tr>\n      <th>149</th>\n      <td>239105</td>\n      <td>marquette university</td>\n      <td></td>\n      <td>1250 W Wisconsin Avenue</td>\n      <td>Milwaukee</td>\n      <td>WI</td>\n      <td>53233</td>\n      <td>55</td>\n      <td>3</td>\n      <td>Dr. Michael Lovell</td>\n      <td>...</td>\n      <td>Milwaukee County</td>\n      <td>5504</td>\n      <td>-87.927961</td>\n      <td>43.039030</td>\n      <td>103</td>\n      <td>1</td>\n      <td>Midwestern</td>\n      <td>$48,500.00</td>\n      <td>$88,400.00</td>\n      <td>NaN</td>\n    </tr>\n    <tr>\n      <th>150</th>\n      <td>243744</td>\n      <td>stanford university</td>\n      <td></td>\n      <td></td>\n      <td>Stanford</td>\n      <td>CA</td>\n      <td>94305</td>\n      <td>6</td>\n      <td>8</td>\n      <td>Marc Tessier-Lavigne</td>\n      <td>...</td>\n      <td>Santa Clara County</td>\n      <td>618</td>\n      <td>-122.167359</td>\n      <td>37.429434</td>\n      <td>99</td>\n      <td>1</td>\n      <td>California</td>\n      <td>$70,400.00</td>\n      <td>$129,000.00</td>\n      <td>NaN</td>\n    </tr>\n  </tbody>\n</table>\n<p>151 rows × 77 columns</p>\n</div>"
     },
     "metadata": {},
     "execution_count": 33
    }
   ],
   "source": [
    "df1 = demographic_data.copy()\n",
    "df1.rename({'INSTNM': 'school_name'}, axis=1, inplace=True)\n",
    "df1[\"school_name\"] = df1[\"school_name\"].str.lower()\n",
    "df1[\"school_name\"] = df1[\"school_name\"].replace({'-': '', ',': ''}, regex=True)\n",
    "\n",
    "df2 = salary_data_clean.copy()\n",
    "df2.rename({'School Name': 'school_name'}, axis=1, inplace=True)\n",
    "df2[\"school_name\"] = df2[\"school_name\"].str.lower()\n",
    "df2[\"school_name\"] = df2[\"school_name\"].replace({'-': '', ',': ''}, regex=True)\n",
    "import re\n",
    "df2[\"school_name\"].str.lower()\n",
    "df2[\"school_name\"] = df2[\"school_name\"].apply(lambda x: re.sub(r\"\\(.*\\)\", \"\", x))\n",
    "df1[\"school_name\"] = df1[\"school_name\"].apply(lambda x: re.sub(r\"\\(.*\\)\", \"\", x))\n",
    "df1.merge(df2, how='inner', on='school_name')"
   ]
  },
  {
   "cell_type": "code",
   "execution_count": 39,
   "metadata": {},
   "outputs": [],
   "source": [
    "import pandas as pd\n",
    "import difflib\n",
    "\n"
   ]
  },
  {
   "cell_type": "code",
   "execution_count": 35,
   "metadata": {},
   "outputs": [
    {
     "output_type": "stream",
     "name": "stdout",
     "text": [
      "     UNITID                                        school_name  \\\n0    100663                university of alabama at birmingham   \n1    100706                university of alabama in huntsville   \n2    100858                                  auburn university   \n3    102553                     university of alaska anchorage   \n4    104179                              university of arizona   \n..      ...                                                ...   \n274  240480               university of wisconsinstevens point   \n275  240727                              university of wyoming   \n276  243744                                stanford university   \n277  438498                               stratford university   \n278  459082  virginia polytechnic institute & state university   \n\n                                                IALIAS  \\\n0                                                        \n1                UAH  University of Alabama Huntsville   \n2                                                        \n3                                                  UAA   \n4    UA|U of A|Arizona|UofA|The University of Arizo...   \n..                                                 ...   \n274                                   UW-Stevens Point   \n275                                                 UW   \n276                                                      \n277                                                      \n278                                                      \n\n                                ADDR           CITY STABBR         ZIP  FIPS  \\\n0     Administration Bldg Suite 1070     Birmingham     AL  35294-0110     1   \n1                    301 Sparkman Dr     Huntsville     AL       35899     1   \n2                                            Auburn     AL       36849     1   \n3              3211 Providence Drive      Anchorage     AK       99508     2   \n4                  1401 E University         Tucson     AZ  85721-0066     4   \n..                               ...            ...    ...         ...   ...   \n274                     2100 Main St  Stevens Point     WI  54481-3897    55   \n275      Corner of Ninth and Ivinson        Laramie     WY       82071    56   \n276                                        Stanford     CA       94305     6   \n277  3201 Jermantown Road, Suite 500        Fairfax     VA       22030    51   \n278               2 Riverside Circle        Roanoke     VA  24016-4950    51   \n\n     OBEREG                       CHFNM  ... CNGDSTCD    LONGITUD   LATITUDE  \\\n0         5                Ray L. Watts  ...      107  -86.799345  33.505697   \n1         5               Darren Dawson  ...      105  -86.640449  34.724557   \n2         5                   Jay Gogue  ...      103  -85.488258  32.599378   \n3         8               Cathy Sandeen  ...      200 -149.826190  61.190163   \n4         6       Dr. Robert C. Robbins  ...      403 -110.950815  32.232672   \n..      ...                         ...  ...      ...         ...        ...   \n274       3            Bernie Patterson  ...     5503  -89.570934  44.529582   \n275       7               Neil Theobald  ...     5600 -105.579310  41.311773   \n276       8        Marc Tessier-Lavigne  ...      618 -122.167359  37.429434   \n277       5  Dr.  Richard R. Shurtz, II  ...     5111  -77.310970  38.874798   \n278       5                              ...     5106  -79.942599  37.257489   \n\n    DFRCGID  DFRCUSCG                                        school_name  \\\n0        98         1               university of alabama at birmingham    \n1       102         2               university of alabama at huntsville    \n2        97         1                                  auburn university   \n3       110         1                     university of alaska anchorage   \n4        96         1                              university of arizona   \n..      ...       ...                                                ...   \n274     127         1            university of wisconsin   stevens point   \n275     101         1                             university of wyoming    \n276      99         1                                stanford university   \n277     119         2                                stanford university   \n278      -2        -2  virginia polytechnic institute and state unive...   \n\n         Region Starting Median Salary Mid-Career Median Salary  School Type  \n0      Southern             $39,200.00               $70,100.00        State  \n1      Southern             $43,100.00               $82,700.00        State  \n2      Southern             $45,400.00               $84,700.00        State  \n3       Western             $45,900.00               $72,600.00        State  \n4       Western             $47,500.00               $86,100.00        State  \n..          ...                    ...                      ...          ...  \n274  Midwestern             $39,800.00               $64,000.00        State  \n275     Western             $44,500.00               $78,700.00        State  \n276  California             $70,400.00              $129,000.00          NaN  \n277  California             $70,400.00              $129,000.00          NaN  \n278    Southern             $53,500.00               $95,400.00  Engineering  \n\n[279 rows x 78 columns]\n"
     ]
    }
   ],
   "source": [
    "import pandas as pd\n",
    "import fuzzy_pandas as fpd\n",
    "\n",
    "matches = fpd.fuzzy_merge(df1, df2, on = ['school_name'],\n",
    "                          ignore_case=True,\n",
    "                    method = \"levenshtein\", threshold = 0.9)\n",
    "\n",
    "print(matches)"
   ]
  },
  {
   "cell_type": "code",
   "execution_count": 44,
   "metadata": {},
   "outputs": [],
   "source": [
    "location_info = matches.copy()[[\"CITY\",\"STABBR\",\"LOCALE\",\"School Type\"]]"
   ]
  },
  {
   "cell_type": "code",
   "execution_count": 45,
   "metadata": {},
   "outputs": [
    {
     "output_type": "error",
     "ename": "AttributeError",
     "evalue": "Can only use .str accessor with string values!",
     "traceback": [
      "\u001b[0;31m---------------------------------------------------------------------------\u001b[0m",
      "\u001b[0;31mAttributeError\u001b[0m                            Traceback (most recent call last)",
      "\u001b[0;32m<ipython-input-45-fb773ace93fc>\u001b[0m in \u001b[0;36m<module>\u001b[0;34m\u001b[0m\n\u001b[1;32m      2\u001b[0m \u001b[0;34m\u001b[0m\u001b[0m\n\u001b[1;32m      3\u001b[0m \u001b[0;32mfor\u001b[0m \u001b[0mx\u001b[0m \u001b[0;32min\u001b[0m \u001b[0mdollar_cols\u001b[0m\u001b[0;34m:\u001b[0m\u001b[0;34m\u001b[0m\u001b[0;34m\u001b[0m\u001b[0m\n\u001b[0;32m----> 4\u001b[0;31m     \u001b[0mmatches\u001b[0m\u001b[0;34m[\u001b[0m\u001b[0mx\u001b[0m\u001b[0;34m]\u001b[0m \u001b[0;34m=\u001b[0m \u001b[0mmatches\u001b[0m\u001b[0;34m[\u001b[0m\u001b[0mx\u001b[0m\u001b[0;34m]\u001b[0m\u001b[0;34m.\u001b[0m\u001b[0mstr\u001b[0m\u001b[0;34m.\u001b[0m\u001b[0mreplace\u001b[0m\u001b[0;34m(\u001b[0m\u001b[0;34m\"$\"\u001b[0m\u001b[0;34m,\u001b[0m\u001b[0;34m\"\"\u001b[0m\u001b[0;34m)\u001b[0m\u001b[0;34m\u001b[0m\u001b[0;34m\u001b[0m\u001b[0m\n\u001b[0m\u001b[1;32m      5\u001b[0m     \u001b[0mmatches\u001b[0m\u001b[0;34m[\u001b[0m\u001b[0mx\u001b[0m\u001b[0;34m]\u001b[0m \u001b[0;34m=\u001b[0m \u001b[0mmatches\u001b[0m\u001b[0;34m[\u001b[0m\u001b[0mx\u001b[0m\u001b[0;34m]\u001b[0m\u001b[0;34m.\u001b[0m\u001b[0mstr\u001b[0m\u001b[0;34m.\u001b[0m\u001b[0mreplace\u001b[0m\u001b[0;34m(\u001b[0m\u001b[0;34m\",\"\u001b[0m\u001b[0;34m,\u001b[0m\u001b[0;34m\"\"\u001b[0m\u001b[0;34m)\u001b[0m\u001b[0;34m\u001b[0m\u001b[0;34m\u001b[0m\u001b[0m\n\u001b[1;32m      6\u001b[0m     \u001b[0mmatches\u001b[0m\u001b[0;34m[\u001b[0m\u001b[0mx\u001b[0m\u001b[0;34m]\u001b[0m \u001b[0;34m=\u001b[0m \u001b[0mpd\u001b[0m\u001b[0;34m.\u001b[0m\u001b[0mto_numeric\u001b[0m\u001b[0;34m(\u001b[0m\u001b[0mmatches\u001b[0m\u001b[0;34m[\u001b[0m\u001b[0mx\u001b[0m\u001b[0;34m]\u001b[0m\u001b[0;34m)\u001b[0m\u001b[0;34m\u001b[0m\u001b[0;34m\u001b[0m\u001b[0m\n",
      "\u001b[0;32m/Library/Frameworks/Python.framework/Versions/3.8/lib/python3.8/site-packages/pandas/core/generic.py\u001b[0m in \u001b[0;36m__getattr__\u001b[0;34m(self, name)\u001b[0m\n\u001b[1;32m   5456\u001b[0m             \u001b[0;32mor\u001b[0m \u001b[0mname\u001b[0m \u001b[0;32min\u001b[0m \u001b[0mself\u001b[0m\u001b[0;34m.\u001b[0m\u001b[0m_accessors\u001b[0m\u001b[0;34m\u001b[0m\u001b[0;34m\u001b[0m\u001b[0m\n\u001b[1;32m   5457\u001b[0m         ):\n\u001b[0;32m-> 5458\u001b[0;31m             \u001b[0;32mreturn\u001b[0m \u001b[0mobject\u001b[0m\u001b[0;34m.\u001b[0m\u001b[0m__getattribute__\u001b[0m\u001b[0;34m(\u001b[0m\u001b[0mself\u001b[0m\u001b[0;34m,\u001b[0m \u001b[0mname\u001b[0m\u001b[0;34m)\u001b[0m\u001b[0;34m\u001b[0m\u001b[0;34m\u001b[0m\u001b[0m\n\u001b[0m\u001b[1;32m   5459\u001b[0m         \u001b[0;32melse\u001b[0m\u001b[0;34m:\u001b[0m\u001b[0;34m\u001b[0m\u001b[0;34m\u001b[0m\u001b[0m\n\u001b[1;32m   5460\u001b[0m             \u001b[0;32mif\u001b[0m \u001b[0mself\u001b[0m\u001b[0;34m.\u001b[0m\u001b[0m_info_axis\u001b[0m\u001b[0;34m.\u001b[0m\u001b[0m_can_hold_identifiers_and_holds_name\u001b[0m\u001b[0;34m(\u001b[0m\u001b[0mname\u001b[0m\u001b[0;34m)\u001b[0m\u001b[0;34m:\u001b[0m\u001b[0;34m\u001b[0m\u001b[0;34m\u001b[0m\u001b[0m\n",
      "\u001b[0;32m/Library/Frameworks/Python.framework/Versions/3.8/lib/python3.8/site-packages/pandas/core/accessor.py\u001b[0m in \u001b[0;36m__get__\u001b[0;34m(self, obj, cls)\u001b[0m\n\u001b[1;32m    178\u001b[0m             \u001b[0;31m# we're accessing the attribute of the class, i.e., Dataset.geo\u001b[0m\u001b[0;34m\u001b[0m\u001b[0;34m\u001b[0m\u001b[0;34m\u001b[0m\u001b[0m\n\u001b[1;32m    179\u001b[0m             \u001b[0;32mreturn\u001b[0m \u001b[0mself\u001b[0m\u001b[0;34m.\u001b[0m\u001b[0m_accessor\u001b[0m\u001b[0;34m\u001b[0m\u001b[0;34m\u001b[0m\u001b[0m\n\u001b[0;32m--> 180\u001b[0;31m         \u001b[0maccessor_obj\u001b[0m \u001b[0;34m=\u001b[0m \u001b[0mself\u001b[0m\u001b[0;34m.\u001b[0m\u001b[0m_accessor\u001b[0m\u001b[0;34m(\u001b[0m\u001b[0mobj\u001b[0m\u001b[0;34m)\u001b[0m\u001b[0;34m\u001b[0m\u001b[0;34m\u001b[0m\u001b[0m\n\u001b[0m\u001b[1;32m    181\u001b[0m         \u001b[0;31m# Replace the property with the accessor object. Inspired by:\u001b[0m\u001b[0;34m\u001b[0m\u001b[0;34m\u001b[0m\u001b[0;34m\u001b[0m\u001b[0m\n\u001b[1;32m    182\u001b[0m         \u001b[0;31m# https://www.pydanny.com/cached-property.html\u001b[0m\u001b[0;34m\u001b[0m\u001b[0;34m\u001b[0m\u001b[0;34m\u001b[0m\u001b[0m\n",
      "\u001b[0;32m/Library/Frameworks/Python.framework/Versions/3.8/lib/python3.8/site-packages/pandas/core/strings/accessor.py\u001b[0m in \u001b[0;36m__init__\u001b[0;34m(self, data)\u001b[0m\n\u001b[1;32m    152\u001b[0m         \u001b[0;32mfrom\u001b[0m \u001b[0mpandas\u001b[0m\u001b[0;34m.\u001b[0m\u001b[0mcore\u001b[0m\u001b[0;34m.\u001b[0m\u001b[0marrays\u001b[0m\u001b[0;34m.\u001b[0m\u001b[0mstring_\u001b[0m \u001b[0;32mimport\u001b[0m \u001b[0mStringDtype\u001b[0m\u001b[0;34m\u001b[0m\u001b[0;34m\u001b[0m\u001b[0m\n\u001b[1;32m    153\u001b[0m \u001b[0;34m\u001b[0m\u001b[0m\n\u001b[0;32m--> 154\u001b[0;31m         \u001b[0mself\u001b[0m\u001b[0;34m.\u001b[0m\u001b[0m_inferred_dtype\u001b[0m \u001b[0;34m=\u001b[0m \u001b[0mself\u001b[0m\u001b[0;34m.\u001b[0m\u001b[0m_validate\u001b[0m\u001b[0;34m(\u001b[0m\u001b[0mdata\u001b[0m\u001b[0;34m)\u001b[0m\u001b[0;34m\u001b[0m\u001b[0;34m\u001b[0m\u001b[0m\n\u001b[0m\u001b[1;32m    155\u001b[0m         \u001b[0mself\u001b[0m\u001b[0;34m.\u001b[0m\u001b[0m_is_categorical\u001b[0m \u001b[0;34m=\u001b[0m \u001b[0mis_categorical_dtype\u001b[0m\u001b[0;34m(\u001b[0m\u001b[0mdata\u001b[0m\u001b[0;34m.\u001b[0m\u001b[0mdtype\u001b[0m\u001b[0;34m)\u001b[0m\u001b[0;34m\u001b[0m\u001b[0;34m\u001b[0m\u001b[0m\n\u001b[1;32m    156\u001b[0m         \u001b[0mself\u001b[0m\u001b[0;34m.\u001b[0m\u001b[0m_is_string\u001b[0m \u001b[0;34m=\u001b[0m \u001b[0misinstance\u001b[0m\u001b[0;34m(\u001b[0m\u001b[0mdata\u001b[0m\u001b[0;34m.\u001b[0m\u001b[0mdtype\u001b[0m\u001b[0;34m,\u001b[0m \u001b[0mStringDtype\u001b[0m\u001b[0;34m)\u001b[0m\u001b[0;34m\u001b[0m\u001b[0;34m\u001b[0m\u001b[0m\n",
      "\u001b[0;32m/Library/Frameworks/Python.framework/Versions/3.8/lib/python3.8/site-packages/pandas/core/strings/accessor.py\u001b[0m in \u001b[0;36m_validate\u001b[0;34m(data)\u001b[0m\n\u001b[1;32m    215\u001b[0m \u001b[0;34m\u001b[0m\u001b[0m\n\u001b[1;32m    216\u001b[0m         \u001b[0;32mif\u001b[0m \u001b[0minferred_dtype\u001b[0m \u001b[0;32mnot\u001b[0m \u001b[0;32min\u001b[0m \u001b[0mallowed_types\u001b[0m\u001b[0;34m:\u001b[0m\u001b[0;34m\u001b[0m\u001b[0;34m\u001b[0m\u001b[0m\n\u001b[0;32m--> 217\u001b[0;31m             \u001b[0;32mraise\u001b[0m \u001b[0mAttributeError\u001b[0m\u001b[0;34m(\u001b[0m\u001b[0;34m\"Can only use .str accessor with string values!\"\u001b[0m\u001b[0;34m)\u001b[0m\u001b[0;34m\u001b[0m\u001b[0;34m\u001b[0m\u001b[0m\n\u001b[0m\u001b[1;32m    218\u001b[0m         \u001b[0;32mreturn\u001b[0m \u001b[0minferred_dtype\u001b[0m\u001b[0;34m\u001b[0m\u001b[0;34m\u001b[0m\u001b[0m\n\u001b[1;32m    219\u001b[0m \u001b[0;34m\u001b[0m\u001b[0m\n",
      "\u001b[0;31mAttributeError\u001b[0m: Can only use .str accessor with string values!"
     ]
    }
   ],
   "source": [
    "dollar_cols = ['Starting Median Salary','Mid-Career Median Salary']\n",
    "\n",
    "for x in dollar_cols:\n",
    "    matches[x] = matches[x].str.replace(\"$\",\"\")\n",
    "    matches[x] = matches[x].str.replace(\",\",\"\")\n",
    "    matches[x] = pd.to_numeric(matches[x])"
   ]
  },
  {
   "cell_type": "code",
   "execution_count": 46,
   "metadata": {},
   "outputs": [],
   "source": [
    " df_final = matches.copy()\n"
   ]
  },
  {
   "cell_type": "code",
   "execution_count": 47,
   "metadata": {},
   "outputs": [],
   "source": [
    "df_final = df_final.groupby(['CITY','STABBR']).agg({'Mid-Career Median Salary':'mean','Starting Median Salary':\n",
    " 'mean'}).reset_index()\n"
   ]
  },
  {
   "cell_type": "code",
   "execution_count": 48,
   "metadata": {},
   "outputs": [],
   "source": [
    "final_clean_data = df_final.merge(location_info, how='inner', on=['CITY','STABBR'])"
   ]
  },
  {
   "cell_type": "code",
   "execution_count": 52,
   "metadata": {},
   "outputs": [],
   "source": [
    "final_clean_data = final_clean_data.dropna()"
   ]
  },
  {
   "cell_type": "code",
   "execution_count": 53,
   "metadata": {},
   "outputs": [],
   "source": [
    "final_clean_data.to_csv(\"Complete_full_data.csv\")"
   ]
  },
  {
   "cell_type": "code",
   "execution_count": null,
   "metadata": {},
   "outputs": [],
   "source": []
  }
 ]
}