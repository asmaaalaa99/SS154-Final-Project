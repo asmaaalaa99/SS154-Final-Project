{
 "metadata": {
  "language_info": {
   "codemirror_mode": {
    "name": "ipython",
    "version": 3
   },
   "file_extension": ".py",
   "mimetype": "text/x-python",
   "name": "python",
   "nbconvert_exporter": "python",
   "pygments_lexer": "ipython3",
   "version": "3.8.0"
  },
  "orig_nbformat": 2,
  "kernelspec": {
   "name": "python3",
   "display_name": "Python 3.8.0 64-bit",
   "metadata": {
    "interpreter": {
     "hash": "752579dbebe7f4dfe7c1aa72eac13e23fc88be2cc1ea7ab14e1f8d69b2d97d12"
    }
   }
  }
 },
 "nbformat": 4,
 "nbformat_minor": 2,
 "cells": [
  {
   "source": [
    "## Import the libraries "
   ],
   "cell_type": "markdown",
   "metadata": {}
  },
  {
   "cell_type": "code",
   "execution_count": 268,
   "metadata": {},
   "outputs": [],
   "source": [
    "import pandas as pd\n",
    "import numpy as np\n",
    "import pandas as pd\n",
    "import fuzzy_pandas as fpd"
   ]
  },
  {
   "cell_type": "code",
   "execution_count": 270,
   "metadata": {},
   "outputs": [],
   "source": [
    "di = {\"AL\":\"Alabama\",\"AK\":\"Alaska\",\"AZ\":\"Arizona\",\"AR\":\"Arkansas\",\"CA\":\"California\",\"CO\":\"Colorado\",\"CT\":\"Connecticut\",\"DE\":\"Delaware\",\"FL\":\"Florida\",\"GA\":\"Georgia\",\"HI\":\"Hawaii\",\"ID\":\"Idaho\",\"IL\":\"Illinois\",\"IN\":\"Indiana\",\"IA\":\"Iowa\",\"KS\":\"Kansas\",\"KY\":\"Kentucky\",\"LA\":\"Louisiana\",\"ME\":\"Maine\",\"MD\":\"Maryland\",\"MA\":\"Massachusetts\",\"MI\":\"Michigan\",\"MN\":\"Minnesota\",\"MS\":\"Mississippi\",\"MO\":\"Missouri\",\"MT\":\"Montana\",\"NE\":\"Nebraska\",\"NV\":\"Nevada\",\"NH\":\"New Hampshire\",\"NJ\":\"New Jersey\",\"NM\":\"New Mexico\",\"NY\":\"New York\",\"NC\":\"North Carolina\",\"ND\":\"North Dakota\",\"OH\":\"Ohio\",\"OK\":\"Oklahoma\",\"OR\":\"Oregon\",\"PA\":\"Pennsylvania\",\"RI\":\"Rhode Island\",\"SC\":\"South Carolina\",\"SD\":\"South Dakota\",\"TN\":\"Tennessee\",\"TX\":\"Texas\",\"UT\":\"Utah\",\"VT\":\"Vermont\",\"VA\":\"Virginia\",\"WA\":\"Washington\",\"WV\":\"West Virginia\",\"WI\":\"Wisconsin\",\"WY\":\"Wyoming\"}\n"
   ]
  },
  {
   "cell_type": "code",
   "execution_count": 267,
   "metadata": {},
   "outputs": [],
   "source": [
    "#since the data is too large for Github, I uploaded the dataset on google drive \n",
    "#https://drive.google.com/file/d/1L9WlxgJmudO8iM-n2OCFUpdPBjBlLUhi/view?usp=sharing\n",
    "df = pd.read_csv(\"/Users/asmaaaly/Minerva/SF_spring/SS154/SS154-assignment/Data/Most-Recent-Cohorts-All-Data-Elements.csv\")\n",
    "df2 = pd.read_csv(\"https://raw.githubusercontent.com/asmaaalaa99/SS154-Final-Project/main/Data/population_data.csv\", header=0)\n"
   ]
  },
  {
   "cell_type": "code",
   "execution_count": 269,
   "metadata": {},
   "outputs": [],
   "source": [
    "df['STABBR'] = df['STABBR'].map(di)\n",
    "df.rename({'CITY': 'City','STABBR':'State'}, axis=1, inplace=True)\n",
    "df['Geographic Area'] = df[['City', 'State']].apply(lambda x: ' , '.join(x[x.notnull()]), axis = 1)\n",
    "df2['Geographic Area'] = df2[\"Geographic Area\"].apply(lambda x: pd.Series(str(x).replace(\"city\",\"\")))\n",
    "df2[\"Geographic Area\"] = df2[\"Geographic Area\"].str.lower()\n",
    "df[\"Geographic Area\"] = df[\"Geographic Area\"].str.lower()\n",
    "df2 = df2[['2019','Geographic Area']]\n"
   ]
  },
  {
   "cell_type": "code",
   "execution_count": 230,
   "metadata": {},
   "outputs": [
    {
     "output_type": "stream",
     "name": "stdout",
     "text": [
      "        UNITID    OPEID  OPEID6                                INSTNM  \\\n0       100663   105200    1052   University of Alabama at Birmingham   \n1       100690  2503400   25034                    Amridge University   \n2       100706   105500    1055   University of Alabama in Huntsville   \n3       100724   100500    1005              Alabama State University   \n4       100751   105100    1051             The University of Alabama   \n...        ...      ...     ...                                   ...   \n3366  48511103   157101    1571   Georgia Military College - Valdosta   \n3367  48511106   157105    1571     Georgia Military College - Robins   \n3368  48511107   157107    1571   Georgia Military College - Columbus   \n3369  49005401  4182601   41826  HCI College - Fort Lauderdale Campus   \n3370  49146401  4227001   42270      ABC Adult School - Cabrillo Lane   \n\n                 City       State         ZIP  \\\n0          Birmingham     Alabama  35294-0110   \n1          Montgomery     Alabama  36117-3553   \n2          Huntsville     Alabama       35899   \n3          Montgomery     Alabama  36104-0271   \n4          Tuscaloosa     Alabama  35487-0100   \n...               ...         ...         ...   \n3366         Valdosta     Georgia   316057084   \n3367    Warner Robins     Georgia   310930711   \n3368         Columbus     Georgia   319094460   \n3369  Fort Lauderdale     Florida       33309   \n3370         Cerritos  California   907037748   \n\n                                           ACCREDAGENCY  \\\n0     Southern Association of Colleges and Schools C...   \n1     Southern Association of Colleges and Schools C...   \n2     Southern Association of Colleges and Schools C...   \n3     Southern Association of Colleges and Schools C...   \n4     Southern Association of Colleges and Schools C...   \n...                                                 ...   \n3366  Southern Association of Colleges and Schools C...   \n3367  Southern Association of Colleges and Schools C...   \n3368  Southern Association of Colleges and Schools C...   \n3369  Accrediting Commission of Career Schools and C...   \n3370                  Council on Occupational Education   \n\n                            INSTURL  \\\n0               https://www.uab.edu   \n1         www.amridgeuniversity.edu   \n2                       www.uah.edu   \n3                     www.alasu.edu   \n4                       www.ua.edu/   \n...                             ...   \n3366  https://www.gmc.edu/index.cms   \n3367  https://www.gmc.edu/index.cms   \n3368  https://www.gmc.edu/index.cms   \n3369                   www.hci.edu/   \n3370                            NaN   \n\n                                                 NPCURL  ...  LPSTAFFORD_AMT  \\\n0      https://uab.studentaidcalculator.com/survey.aspx  ...      1720042015   \n1                      www2.amridgeuniversity.edu:9091/  ...       174222020   \n2                                       finaid.uah.edu/  ...       407184805   \n3     www.alasu.edu/cost-aid/tuition-costs/net-price...  ...       947070736   \n4             financialaid.ua.edu/net-price-calculator/  ...      1771875477   \n...                                                 ...  ...             ...   \n3366                                                NaN  ...       314378676   \n3367                                                NaN  ...       314378676   \n3368                                                NaN  ...       314378676   \n3369                                                NaN  ...        19902445   \n3370                                                NaN  ...             NaN   \n\n      LPPPLUS_CNT  LPPPLUS_AMT        LPGPLUS_CNT        LPGPLUS_AMT  \\\n0            3727     87421879               3461          134126588   \n1              16       309618                298           16290781   \n2            1397     29789762                144            2377759   \n3            4602     95359062                587           12174367   \n4           11535    619905869               2035           69504249   \n...           ...          ...                ...                ...   \n3366          551      4903237  PrivacySuppressed  PrivacySuppressed   \n3367          551      4903237  PrivacySuppressed  PrivacySuppressed   \n3368          551      4903237  PrivacySuppressed  PrivacySuppressed   \n3369           25       286863  PrivacySuppressed  PrivacySuppressed   \n3370          NaN          NaN                NaN                NaN   \n\n      FEDSCHCD                                      SEARCH_STRING  \\\n0         1052               University of Alabama at Birmingham    \n1        16885  Amridge University Southern Christian Universi...   \n2         1055  University of Alabama in Huntsville UAH  Unive...   \n3         1005                          Alabama State University    \n4         1051                         The University of Alabama    \n...        ...                                                ...   \n3366      1571               Georgia Military College - Valdosta    \n3367      1571                 Georgia Military College - Robins    \n3368      1571               Georgia Military College - Columbus    \n3369     41826              HCI College - Fort Lauderdale Campus    \n3370     42270                  ABC Adult School - Cabrillo Lane    \n\n                Geographic Area     2019            Geographic Area  \n0          birmingham , alabama  209,403       birmingham , alabama  \n1          montgomery , alabama  198,525       montgomery , alabama  \n2          huntsville , alabama  200,574       huntsville , alabama  \n3          montgomery , alabama  198,525       montgomery , alabama  \n4          tuscaloosa , alabama  101,129       tuscaloosa , alabama  \n...                         ...      ...                        ...  \n3366         valdosta , georgia   56,457         valdosta , georgia  \n3367    warner robins , georgia   77,617    warner robins , georgia  \n3368         columbus , georgia  195,769         columbus , georgia  \n3369  fort lauderdale , florida  182,437  fort lauderdale , florida  \n3370      cerritos , california   49,859      cerritos , california  \n\n[3371 rows x 2387 columns]\n"
     ]
    }
   ],
   "source": [
    "matches = fpd.fuzzy_merge(df, df2, on = ['Geographic Area'],\n",
    "                          ignore_case=True,\n",
    "                    method = \"levenshtein\", threshold = 0.9)\n"
   ]
  },
  {
   "cell_type": "code",
   "execution_count": 240,
   "metadata": {},
   "outputs": [],
   "source": [
    "columns_of_interest= [\"MD_EARN_WNE_P10\", \"MD_EARN_WNE_P8\", \"MD_EARN_WNE_P6\", \"INSTNM\", \"2019\", \"GRAD_DEBT_MDN\",\"FIRST_GEN\",\"MARRIED\",\"ADM_RATE\",\"SAT_AVG\",\"POVERTY_RATE\",\"Geographic Area\",\"LN_MEDIAN_HH_INC\",\"COSTT4_A\",\"UGDS_WHITE\",\"MEDIAN_HH_INC\",\"MD_EARN_WNE_P8\",\"MD_EARN_WNE_P10\"]\n",
    "regression_columns = [\"MD_EARN_WNE_P10\", \"MD_EARN_WNE_P8\", \"MD_EARN_WNE_P6\", \"INSTNM\", \"population_2019\", \"GRAD_DEBT_MDN\",\"FIRST_GEN\",\"MARRIED\",\"POVERTY_RATE\",\"Geographic Area\",\"LN_MEDIAN_HH_INC\",\"COSTT4_A\",\"UGDS_WHITE\",\"MEDIAN_HH_INC\",\"MD_EARN_WNE_P10\"]"
   ]
  },
  {
   "cell_type": "code",
   "execution_count": 241,
   "metadata": {},
   "outputs": [],
   "source": [
    "raw_data = matches.copy()[columns_of_interest]\n",
    "raw_data.rename({'2019': 'population_2019'}, axis=1, inplace=True)\n",
    "raw_data = raw_data.replace('PrivacySuppressed', np.nan)\n",
    "clean_data = raw_data.dropna(subset=regression_columns)\n",
    "clean_data[\"population_2019\"] = clean_data[\"population_2019\"].str.replace(',', '').astype(float)\n",
    "clean_data.to_csv(\"clean_data.csv\")"
   ]
  }
 ]
}