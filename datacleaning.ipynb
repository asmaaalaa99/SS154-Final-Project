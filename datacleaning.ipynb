{
 "metadata": {
  "language_info": {
   "codemirror_mode": {
    "name": "ipython",
    "version": 3
   },
   "file_extension": ".py",
   "mimetype": "text/x-python",
   "name": "python",
   "nbconvert_exporter": "python",
   "pygments_lexer": "ipython3",
   "version": "3.8.0"
  },
  "orig_nbformat": 2,
  "kernelspec": {
   "name": "python3",
   "display_name": "Python 3.8.0 64-bit",
   "metadata": {
    "interpreter": {
     "hash": "752579dbebe7f4dfe7c1aa72eac13e23fc88be2cc1ea7ab14e1f8d69b2d97d12"
    }
   }
  }
 },
 "nbformat": 4,
 "nbformat_minor": 2,
 "cells": [
  {
   "cell_type": "code",
   "execution_count": 1,
   "metadata": {},
   "outputs": [],
   "source": [
    "import pandas as pd"
   ]
  },
  {
   "cell_type": "code",
   "execution_count": 88,
   "metadata": {},
   "outputs": [],
   "source": [
    "demographic_data = pd.read_csv(\"https://raw.githubusercontent.com/asmaaalaa99/SS154-Final-Project/main/Data/hd2019%20-%20hd2019.csv\")\n",
    "salary_data = pd.read_csv(\"https://raw.githubusercontent.com/asmaaalaa99/SS154-Final-Project/main/Data/salaries-by-region.csv\")"
   ]
  },
  {
   "cell_type": "code",
   "execution_count": 89,
   "metadata": {},
   "outputs": [],
   "source": [
    "#only get the first columns of the salary data \n",
    "salary_data_clean = salary_data[salary_data.columns[0:4]].copy()"
   ]
  },
  {
   "cell_type": "code",
   "execution_count": 90,
   "metadata": {},
   "outputs": [
    {
     "output_type": "execute_result",
     "data": {
      "text/plain": [
       "                                School Name      Region  \\\n",
       "0                       Stanford University  California   \n",
       "1  California Institute of Technology (CIT)  California   \n",
       "2                       Harvey Mudd College  California   \n",
       "3        University of California, Berkeley  California   \n",
       "4                        Occidental College  California   \n",
       "\n",
       "  Starting Median Salary Mid-Career Median Salary  \n",
       "0             $70,400.00              $129,000.00  \n",
       "1             $75,500.00              $123,000.00  \n",
       "2             $71,800.00              $122,000.00  \n",
       "3             $59,900.00              $112,000.00  \n",
       "4             $51,900.00              $105,000.00  "
      ],
      "text/html": "<div>\n<style scoped>\n    .dataframe tbody tr th:only-of-type {\n        vertical-align: middle;\n    }\n\n    .dataframe tbody tr th {\n        vertical-align: top;\n    }\n\n    .dataframe thead th {\n        text-align: right;\n    }\n</style>\n<table border=\"1\" class=\"dataframe\">\n  <thead>\n    <tr style=\"text-align: right;\">\n      <th></th>\n      <th>School Name</th>\n      <th>Region</th>\n      <th>Starting Median Salary</th>\n      <th>Mid-Career Median Salary</th>\n    </tr>\n  </thead>\n  <tbody>\n    <tr>\n      <th>0</th>\n      <td>Stanford University</td>\n      <td>California</td>\n      <td>$70,400.00</td>\n      <td>$129,000.00</td>\n    </tr>\n    <tr>\n      <th>1</th>\n      <td>California Institute of Technology (CIT)</td>\n      <td>California</td>\n      <td>$75,500.00</td>\n      <td>$123,000.00</td>\n    </tr>\n    <tr>\n      <th>2</th>\n      <td>Harvey Mudd College</td>\n      <td>California</td>\n      <td>$71,800.00</td>\n      <td>$122,000.00</td>\n    </tr>\n    <tr>\n      <th>3</th>\n      <td>University of California, Berkeley</td>\n      <td>California</td>\n      <td>$59,900.00</td>\n      <td>$112,000.00</td>\n    </tr>\n    <tr>\n      <th>4</th>\n      <td>Occidental College</td>\n      <td>California</td>\n      <td>$51,900.00</td>\n      <td>$105,000.00</td>\n    </tr>\n  </tbody>\n</table>\n</div>"
     },
     "metadata": {},
     "execution_count": 90
    }
   ],
   "source": [
    "salary_data_clean.head(5)"
   ]
  },
  {
   "cell_type": "code",
   "execution_count": 91,
   "metadata": {},
   "outputs": [
    {
     "output_type": "execute_result",
     "data": {
      "text/plain": [
       "   UNITID                               INSTNM  \\\n",
       "0  100654             Alabama A & M University   \n",
       "1  100663  University of Alabama at Birmingham   \n",
       "2  100690                   Amridge University   \n",
       "3  100706  University of Alabama in Huntsville   \n",
       "4  100724             Alabama State University   \n",
       "\n",
       "                                              IALIAS  \\\n",
       "0                                               AAMU   \n",
       "1                                                      \n",
       "2  Southern Christian University  Regions University   \n",
       "3              UAH  University of Alabama Huntsville   \n",
       "4                                                      \n",
       "\n",
       "                             ADDR        CITY STABBR         ZIP  FIPS  \\\n",
       "0            4900 Meridian Street      Normal     AL       35762     1   \n",
       "1  Administration Bldg Suite 1070  Birmingham     AL  35294-0110     1   \n",
       "2                  1200 Taylor Rd  Montgomery     AL  36117-3553     1   \n",
       "3                 301 Sparkman Dr  Huntsville     AL       35899     1   \n",
       "4            915 S Jackson Street  Montgomery     AL  36104-0271     1   \n",
       "\n",
       "   OBEREG                   CHFNM  ... CBSATYPE  CSA  NECTA COUNTYCD  \\\n",
       "0       5  Dr. Andrew Hugine, Jr.  ...        1  290     -2     1089   \n",
       "1       5            Ray L. Watts  ...        1  142     -2     1073   \n",
       "2       5        Michael C.Turner  ...        1  388     -2     1101   \n",
       "3       5           Darren Dawson  ...        1  290     -2     1089   \n",
       "4       5         Quinton T. Ross  ...        1  388     -2     1101   \n",
       "\n",
       "            COUNTYNM  CNGDSTCD   LONGITUD   LATITUDE DFRCGID DFRCUSCG  \n",
       "0     Madison County       105 -86.568502  34.783368     112        1  \n",
       "1   Jefferson County       107 -86.799345  33.505697      98        1  \n",
       "2  Montgomery County       102 -86.174010  32.362609     129        2  \n",
       "3     Madison County       105 -86.640449  34.724557     102        2  \n",
       "4  Montgomery County       107 -86.295677  32.364317     120        1  \n",
       "\n",
       "[5 rows x 73 columns]"
      ],
      "text/html": "<div>\n<style scoped>\n    .dataframe tbody tr th:only-of-type {\n        vertical-align: middle;\n    }\n\n    .dataframe tbody tr th {\n        vertical-align: top;\n    }\n\n    .dataframe thead th {\n        text-align: right;\n    }\n</style>\n<table border=\"1\" class=\"dataframe\">\n  <thead>\n    <tr style=\"text-align: right;\">\n      <th></th>\n      <th>UNITID</th>\n      <th>INSTNM</th>\n      <th>IALIAS</th>\n      <th>ADDR</th>\n      <th>CITY</th>\n      <th>STABBR</th>\n      <th>ZIP</th>\n      <th>FIPS</th>\n      <th>OBEREG</th>\n      <th>CHFNM</th>\n      <th>...</th>\n      <th>CBSATYPE</th>\n      <th>CSA</th>\n      <th>NECTA</th>\n      <th>COUNTYCD</th>\n      <th>COUNTYNM</th>\n      <th>CNGDSTCD</th>\n      <th>LONGITUD</th>\n      <th>LATITUDE</th>\n      <th>DFRCGID</th>\n      <th>DFRCUSCG</th>\n    </tr>\n  </thead>\n  <tbody>\n    <tr>\n      <th>0</th>\n      <td>100654</td>\n      <td>Alabama A &amp; M University</td>\n      <td>AAMU</td>\n      <td>4900 Meridian Street</td>\n      <td>Normal</td>\n      <td>AL</td>\n      <td>35762</td>\n      <td>1</td>\n      <td>5</td>\n      <td>Dr. Andrew Hugine, Jr.</td>\n      <td>...</td>\n      <td>1</td>\n      <td>290</td>\n      <td>-2</td>\n      <td>1089</td>\n      <td>Madison County</td>\n      <td>105</td>\n      <td>-86.568502</td>\n      <td>34.783368</td>\n      <td>112</td>\n      <td>1</td>\n    </tr>\n    <tr>\n      <th>1</th>\n      <td>100663</td>\n      <td>University of Alabama at Birmingham</td>\n      <td></td>\n      <td>Administration Bldg Suite 1070</td>\n      <td>Birmingham</td>\n      <td>AL</td>\n      <td>35294-0110</td>\n      <td>1</td>\n      <td>5</td>\n      <td>Ray L. Watts</td>\n      <td>...</td>\n      <td>1</td>\n      <td>142</td>\n      <td>-2</td>\n      <td>1073</td>\n      <td>Jefferson County</td>\n      <td>107</td>\n      <td>-86.799345</td>\n      <td>33.505697</td>\n      <td>98</td>\n      <td>1</td>\n    </tr>\n    <tr>\n      <th>2</th>\n      <td>100690</td>\n      <td>Amridge University</td>\n      <td>Southern Christian University  Regions University</td>\n      <td>1200 Taylor Rd</td>\n      <td>Montgomery</td>\n      <td>AL</td>\n      <td>36117-3553</td>\n      <td>1</td>\n      <td>5</td>\n      <td>Michael C.Turner</td>\n      <td>...</td>\n      <td>1</td>\n      <td>388</td>\n      <td>-2</td>\n      <td>1101</td>\n      <td>Montgomery County</td>\n      <td>102</td>\n      <td>-86.174010</td>\n      <td>32.362609</td>\n      <td>129</td>\n      <td>2</td>\n    </tr>\n    <tr>\n      <th>3</th>\n      <td>100706</td>\n      <td>University of Alabama in Huntsville</td>\n      <td>UAH  University of Alabama Huntsville</td>\n      <td>301 Sparkman Dr</td>\n      <td>Huntsville</td>\n      <td>AL</td>\n      <td>35899</td>\n      <td>1</td>\n      <td>5</td>\n      <td>Darren Dawson</td>\n      <td>...</td>\n      <td>1</td>\n      <td>290</td>\n      <td>-2</td>\n      <td>1089</td>\n      <td>Madison County</td>\n      <td>105</td>\n      <td>-86.640449</td>\n      <td>34.724557</td>\n      <td>102</td>\n      <td>2</td>\n    </tr>\n    <tr>\n      <th>4</th>\n      <td>100724</td>\n      <td>Alabama State University</td>\n      <td></td>\n      <td>915 S Jackson Street</td>\n      <td>Montgomery</td>\n      <td>AL</td>\n      <td>36104-0271</td>\n      <td>1</td>\n      <td>5</td>\n      <td>Quinton T. Ross</td>\n      <td>...</td>\n      <td>1</td>\n      <td>388</td>\n      <td>-2</td>\n      <td>1101</td>\n      <td>Montgomery County</td>\n      <td>107</td>\n      <td>-86.295677</td>\n      <td>32.364317</td>\n      <td>120</td>\n      <td>1</td>\n    </tr>\n  </tbody>\n</table>\n<p>5 rows × 73 columns</p>\n</div>"
     },
     "metadata": {},
     "execution_count": 91
    }
   ],
   "source": [
    "demographic_data.head(5)"
   ]
  },
  {
   "cell_type": "code",
   "execution_count": 135,
   "metadata": {},
   "outputs": [
    {
     "output_type": "execute_result",
     "data": {
      "text/plain": [
       "     UNITID                     school_name  \\\n",
       "0    100858               auburn university   \n",
       "1    102553  university of alaska anchorage   \n",
       "2    104179           university of arizona   \n",
       "3    106397          university of arkansas   \n",
       "4    115409             harvey mudd college   \n",
       "..      ...                             ...   \n",
       "144  236595              seattle university   \n",
       "145  237011   western washington university   \n",
       "146  237057                 whitman college   \n",
       "147  239105            marquette university   \n",
       "148  243744             stanford university   \n",
       "\n",
       "                                                IALIAS  \\\n",
       "0                                                        \n",
       "1                                                  UAA   \n",
       "2    UA|U of A|Arizona|UofA|The University of Arizo...   \n",
       "3                      University of Arkansas|Arkansas   \n",
       "4                                            Mudd, HMC   \n",
       "..                                                 ...   \n",
       "144                                          Seattle U   \n",
       "145  Western Washington State College|Western Washi...   \n",
       "146                                                      \n",
       "147                                                      \n",
       "148                                                      \n",
       "\n",
       "                        ADDR          CITY STABBR         ZIP  FIPS  OBEREG  \\\n",
       "0                                   Auburn     AL       36849     1       5   \n",
       "1      3211 Providence Drive     Anchorage     AK       99508     2       8   \n",
       "2          1401 E University        Tucson     AZ  85721-0066     4       6   \n",
       "3    Administration Bldg 425  Fayetteville     AR       72701     5       5   \n",
       "4            301 Platt Blvd.     Claremont     CA       91711     6       8   \n",
       "..                       ...           ...    ...         ...   ...     ...   \n",
       "144             900 Broadway       Seattle     WA  98122-4340    53       8   \n",
       "145          516 High Street    Bellingham     WA  98225-9008    53       8   \n",
       "146            345 Boyer Ave   Walla Walla     WA       99362    53       8   \n",
       "147  1250 W Wisconsin Avenue     Milwaukee     WI       53233    55       3   \n",
       "148                               Stanford     CA       94305     6       8   \n",
       "\n",
       "                     CHFNM  ... COUNTYCD                COUNTYNM  CNGDSTCD  \\\n",
       "0                Jay Gogue  ...     1081              Lee County       103   \n",
       "1            Cathy Sandeen  ...     2020  Anchorage Municipality       200   \n",
       "2    Dr. Robert C. Robbins  ...     4019             Pima County       403   \n",
       "3      Joseph E. Steinmetz  ...     5143       Washington County       503   \n",
       "4              Maria Klawe  ...     6037      Los Angeles County       627   \n",
       "..                     ...  ...      ...                     ...       ...   \n",
       "144     Stephen V Sundborg  ...    53033             King County      5309   \n",
       "145         Sabah Randhawa  ...    53073          Whatcom County      5302   \n",
       "146        Kathleen Murray  ...    53071      Walla Walla County      5305   \n",
       "147     Dr. Michael Lovell  ...    55079        Milwaukee County      5504   \n",
       "148   Marc Tessier-Lavigne  ...     6085      Santa Clara County       618   \n",
       "\n",
       "       LONGITUD   LATITUDE  DFRCGID DFRCUSCG      Region  \\\n",
       "0    -85.488258  32.599378       97        1    Southern   \n",
       "1   -149.826190  61.190163      110        1     Western   \n",
       "2   -110.950815  32.232672       96        1     Western   \n",
       "3    -94.176981  36.070009       98        1    Southern   \n",
       "4   -117.709837  34.106515      137        1  California   \n",
       "..          ...        ...      ...      ...         ...   \n",
       "144 -122.318851  47.608859      105        1     Western   \n",
       "145 -122.485734  48.737812      109        1     Western   \n",
       "146 -118.331546  46.069815      135        1     Western   \n",
       "147  -87.927961  43.039030      103        1  Midwestern   \n",
       "148 -122.167359  37.429434       99        1  California   \n",
       "\n",
       "    Starting Median Salary Mid-Career Median Salary  \n",
       "0               $45,400.00               $84,700.00  \n",
       "1               $45,900.00               $72,600.00  \n",
       "2               $47,500.00               $86,100.00  \n",
       "3               $44,100.00               $82,800.00  \n",
       "4               $71,800.00              $122,000.00  \n",
       "..                     ...                      ...  \n",
       "144             $48,300.00               $82,800.00  \n",
       "145             $42,700.00               $75,400.00  \n",
       "146             $43,500.00               $80,100.00  \n",
       "147             $48,500.00               $88,400.00  \n",
       "148             $70,400.00              $129,000.00  \n",
       "\n",
       "[149 rows x 76 columns]"
      ],
      "text/html": "<div>\n<style scoped>\n    .dataframe tbody tr th:only-of-type {\n        vertical-align: middle;\n    }\n\n    .dataframe tbody tr th {\n        vertical-align: top;\n    }\n\n    .dataframe thead th {\n        text-align: right;\n    }\n</style>\n<table border=\"1\" class=\"dataframe\">\n  <thead>\n    <tr style=\"text-align: right;\">\n      <th></th>\n      <th>UNITID</th>\n      <th>school_name</th>\n      <th>IALIAS</th>\n      <th>ADDR</th>\n      <th>CITY</th>\n      <th>STABBR</th>\n      <th>ZIP</th>\n      <th>FIPS</th>\n      <th>OBEREG</th>\n      <th>CHFNM</th>\n      <th>...</th>\n      <th>COUNTYCD</th>\n      <th>COUNTYNM</th>\n      <th>CNGDSTCD</th>\n      <th>LONGITUD</th>\n      <th>LATITUDE</th>\n      <th>DFRCGID</th>\n      <th>DFRCUSCG</th>\n      <th>Region</th>\n      <th>Starting Median Salary</th>\n      <th>Mid-Career Median Salary</th>\n    </tr>\n  </thead>\n  <tbody>\n    <tr>\n      <th>0</th>\n      <td>100858</td>\n      <td>auburn university</td>\n      <td></td>\n      <td></td>\n      <td>Auburn</td>\n      <td>AL</td>\n      <td>36849</td>\n      <td>1</td>\n      <td>5</td>\n      <td>Jay Gogue</td>\n      <td>...</td>\n      <td>1081</td>\n      <td>Lee County</td>\n      <td>103</td>\n      <td>-85.488258</td>\n      <td>32.599378</td>\n      <td>97</td>\n      <td>1</td>\n      <td>Southern</td>\n      <td>$45,400.00</td>\n      <td>$84,700.00</td>\n    </tr>\n    <tr>\n      <th>1</th>\n      <td>102553</td>\n      <td>university of alaska anchorage</td>\n      <td>UAA</td>\n      <td>3211 Providence Drive</td>\n      <td>Anchorage</td>\n      <td>AK</td>\n      <td>99508</td>\n      <td>2</td>\n      <td>8</td>\n      <td>Cathy Sandeen</td>\n      <td>...</td>\n      <td>2020</td>\n      <td>Anchorage Municipality</td>\n      <td>200</td>\n      <td>-149.826190</td>\n      <td>61.190163</td>\n      <td>110</td>\n      <td>1</td>\n      <td>Western</td>\n      <td>$45,900.00</td>\n      <td>$72,600.00</td>\n    </tr>\n    <tr>\n      <th>2</th>\n      <td>104179</td>\n      <td>university of arizona</td>\n      <td>UA|U of A|Arizona|UofA|The University of Arizo...</td>\n      <td>1401 E University</td>\n      <td>Tucson</td>\n      <td>AZ</td>\n      <td>85721-0066</td>\n      <td>4</td>\n      <td>6</td>\n      <td>Dr. Robert C. Robbins</td>\n      <td>...</td>\n      <td>4019</td>\n      <td>Pima County</td>\n      <td>403</td>\n      <td>-110.950815</td>\n      <td>32.232672</td>\n      <td>96</td>\n      <td>1</td>\n      <td>Western</td>\n      <td>$47,500.00</td>\n      <td>$86,100.00</td>\n    </tr>\n    <tr>\n      <th>3</th>\n      <td>106397</td>\n      <td>university of arkansas</td>\n      <td>University of Arkansas|Arkansas</td>\n      <td>Administration Bldg 425</td>\n      <td>Fayetteville</td>\n      <td>AR</td>\n      <td>72701</td>\n      <td>5</td>\n      <td>5</td>\n      <td>Joseph E. Steinmetz</td>\n      <td>...</td>\n      <td>5143</td>\n      <td>Washington County</td>\n      <td>503</td>\n      <td>-94.176981</td>\n      <td>36.070009</td>\n      <td>98</td>\n      <td>1</td>\n      <td>Southern</td>\n      <td>$44,100.00</td>\n      <td>$82,800.00</td>\n    </tr>\n    <tr>\n      <th>4</th>\n      <td>115409</td>\n      <td>harvey mudd college</td>\n      <td>Mudd, HMC</td>\n      <td>301 Platt Blvd.</td>\n      <td>Claremont</td>\n      <td>CA</td>\n      <td>91711</td>\n      <td>6</td>\n      <td>8</td>\n      <td>Maria Klawe</td>\n      <td>...</td>\n      <td>6037</td>\n      <td>Los Angeles County</td>\n      <td>627</td>\n      <td>-117.709837</td>\n      <td>34.106515</td>\n      <td>137</td>\n      <td>1</td>\n      <td>California</td>\n      <td>$71,800.00</td>\n      <td>$122,000.00</td>\n    </tr>\n    <tr>\n      <th>...</th>\n      <td>...</td>\n      <td>...</td>\n      <td>...</td>\n      <td>...</td>\n      <td>...</td>\n      <td>...</td>\n      <td>...</td>\n      <td>...</td>\n      <td>...</td>\n      <td>...</td>\n      <td>...</td>\n      <td>...</td>\n      <td>...</td>\n      <td>...</td>\n      <td>...</td>\n      <td>...</td>\n      <td>...</td>\n      <td>...</td>\n      <td>...</td>\n      <td>...</td>\n      <td>...</td>\n    </tr>\n    <tr>\n      <th>144</th>\n      <td>236595</td>\n      <td>seattle university</td>\n      <td>Seattle U</td>\n      <td>900 Broadway</td>\n      <td>Seattle</td>\n      <td>WA</td>\n      <td>98122-4340</td>\n      <td>53</td>\n      <td>8</td>\n      <td>Stephen V Sundborg</td>\n      <td>...</td>\n      <td>53033</td>\n      <td>King County</td>\n      <td>5309</td>\n      <td>-122.318851</td>\n      <td>47.608859</td>\n      <td>105</td>\n      <td>1</td>\n      <td>Western</td>\n      <td>$48,300.00</td>\n      <td>$82,800.00</td>\n    </tr>\n    <tr>\n      <th>145</th>\n      <td>237011</td>\n      <td>western washington university</td>\n      <td>Western Washington State College|Western Washi...</td>\n      <td>516 High Street</td>\n      <td>Bellingham</td>\n      <td>WA</td>\n      <td>98225-9008</td>\n      <td>53</td>\n      <td>8</td>\n      <td>Sabah Randhawa</td>\n      <td>...</td>\n      <td>53073</td>\n      <td>Whatcom County</td>\n      <td>5302</td>\n      <td>-122.485734</td>\n      <td>48.737812</td>\n      <td>109</td>\n      <td>1</td>\n      <td>Western</td>\n      <td>$42,700.00</td>\n      <td>$75,400.00</td>\n    </tr>\n    <tr>\n      <th>146</th>\n      <td>237057</td>\n      <td>whitman college</td>\n      <td></td>\n      <td>345 Boyer Ave</td>\n      <td>Walla Walla</td>\n      <td>WA</td>\n      <td>99362</td>\n      <td>53</td>\n      <td>8</td>\n      <td>Kathleen Murray</td>\n      <td>...</td>\n      <td>53071</td>\n      <td>Walla Walla County</td>\n      <td>5305</td>\n      <td>-118.331546</td>\n      <td>46.069815</td>\n      <td>135</td>\n      <td>1</td>\n      <td>Western</td>\n      <td>$43,500.00</td>\n      <td>$80,100.00</td>\n    </tr>\n    <tr>\n      <th>147</th>\n      <td>239105</td>\n      <td>marquette university</td>\n      <td></td>\n      <td>1250 W Wisconsin Avenue</td>\n      <td>Milwaukee</td>\n      <td>WI</td>\n      <td>53233</td>\n      <td>55</td>\n      <td>3</td>\n      <td>Dr. Michael Lovell</td>\n      <td>...</td>\n      <td>55079</td>\n      <td>Milwaukee County</td>\n      <td>5504</td>\n      <td>-87.927961</td>\n      <td>43.039030</td>\n      <td>103</td>\n      <td>1</td>\n      <td>Midwestern</td>\n      <td>$48,500.00</td>\n      <td>$88,400.00</td>\n    </tr>\n    <tr>\n      <th>148</th>\n      <td>243744</td>\n      <td>stanford university</td>\n      <td></td>\n      <td></td>\n      <td>Stanford</td>\n      <td>CA</td>\n      <td>94305</td>\n      <td>6</td>\n      <td>8</td>\n      <td>Marc Tessier-Lavigne</td>\n      <td>...</td>\n      <td>6085</td>\n      <td>Santa Clara County</td>\n      <td>618</td>\n      <td>-122.167359</td>\n      <td>37.429434</td>\n      <td>99</td>\n      <td>1</td>\n      <td>California</td>\n      <td>$70,400.00</td>\n      <td>$129,000.00</td>\n    </tr>\n  </tbody>\n</table>\n<p>149 rows × 76 columns</p>\n</div>"
     },
     "metadata": {},
     "execution_count": 135
    }
   ],
   "source": [
    "df1 = demographic_data.copy()\n",
    "df1.rename({'INSTNM': 'school_name'}, axis=1, inplace=True)\n",
    "df1[\"school_name\"] = df1[\"school_name\"].str.lower()\n",
    "df1[\"school_name\"] = df1[\"school_name\"].replace({'-': '', ',': ''}, regex=True)\n",
    "\n",
    "df2 = salary_data_clean.copy()\n",
    "df2.rename({'School Name': 'school_name'}, axis=1, inplace=True)\n",
    "df2[\"school_name\"] = df2[\"school_name\"].str.lower()\n",
    "df2[\"school_name\"] = df2[\"school_name\"].replace({'-': '', ',': ''}, regex=True)\n",
    "import re\n",
    "df2[\"school_name\"].str.lower()\n",
    "df2[\"school_name\"] = df2[\"school_name\"].apply(lambda x: re.sub(r\"\\(.*\\)\", \"\", x))\n",
    "df1[\"school_name\"] = df1[\"school_name\"].apply(lambda x: re.sub(r\"\\(.*\\)\", \"\", x))\n",
    "df1.merge(df2, how='inner', on='school_name')"
   ]
  },
  {
   "cell_type": "code",
   "execution_count": 134,
   "metadata": {},
   "outputs": [
    {
     "output_type": "execute_result",
     "data": {
      "text/plain": [
       "0                            stanford university\n",
       "1            california institute of technology \n",
       "2                            harvey mudd college\n",
       "3              university of california berkeley\n",
       "4                             occidental college\n",
       "                         ...                    \n",
       "315     state university of new york  at potsdam\n",
       "316                           niagara university\n",
       "317    state university of new york  at fredonia\n",
       "318                 university of southern maine\n",
       "319                                mercy college\n",
       "Name: school_name, Length: 320, dtype: object"
      ]
     },
     "metadata": {},
     "execution_count": 134
    }
   ],
   "source": [
    "df2[\"school_name\"]"
   ]
  },
  {
   "cell_type": "code",
   "execution_count": 39,
   "metadata": {},
   "outputs": [],
   "source": [
    "import pandas as pd\n",
    "import difflib\n",
    "\n"
   ]
  },
  {
   "cell_type": "code",
   "execution_count": 155,
   "metadata": {},
   "outputs": [
    {
     "output_type": "stream",
     "name": "stdout",
     "text": [
      "     UNITID                                        school_name  \\\n0    100663                university of alabama at birmingham   \n1    100706                university of alabama in huntsville   \n2    100858                                  auburn university   \n3    102553                     university of alaska anchorage   \n4    104179                              university of arizona   \n..      ...                                                ...   \n263  240480               university of wisconsinstevens point   \n264  240727                              university of wyoming   \n265  243744                                stanford university   \n266  438498                               stratford university   \n267  459082  virginia polytechnic institute & state university   \n\n                                                IALIAS  \\\n0                                                        \n1                UAH  University of Alabama Huntsville   \n2                                                        \n3                                                  UAA   \n4    UA|U of A|Arizona|UofA|The University of Arizo...   \n..                                                 ...   \n263                                   UW-Stevens Point   \n264                                                 UW   \n265                                                      \n266                                                      \n267                                                      \n\n                                ADDR           CITY STABBR         ZIP  FIPS  \\\n0     Administration Bldg Suite 1070     Birmingham     AL  35294-0110     1   \n1                    301 Sparkman Dr     Huntsville     AL       35899     1   \n2                                            Auburn     AL       36849     1   \n3              3211 Providence Drive      Anchorage     AK       99508     2   \n4                  1401 E University         Tucson     AZ  85721-0066     4   \n..                               ...            ...    ...         ...   ...   \n263                     2100 Main St  Stevens Point     WI  54481-3897    55   \n264      Corner of Ninth and Ivinson        Laramie     WY       82071    56   \n265                                        Stanford     CA       94305     6   \n266  3201 Jermantown Road, Suite 500        Fairfax     VA       22030    51   \n267               2 Riverside Circle        Roanoke     VA  24016-4950    51   \n\n     OBEREG                       CHFNM  ...                COUNTYNM CNGDSTCD  \\\n0         5                Ray L. Watts  ...        Jefferson County      107   \n1         5               Darren Dawson  ...          Madison County      105   \n2         5                   Jay Gogue  ...              Lee County      103   \n3         8               Cathy Sandeen  ...  Anchorage Municipality      200   \n4         6       Dr. Robert C. Robbins  ...             Pima County      403   \n..      ...                         ...  ...                     ...      ...   \n263       3            Bernie Patterson  ...          Portage County     5503   \n264       7               Neil Theobald  ...           Albany County     5600   \n265       8        Marc Tessier-Lavigne  ...      Santa Clara County      618   \n266       5  Dr.  Richard R. Shurtz, II  ...          Fairfax County     5111   \n267       5                              ...            Roanoke City     5106   \n\n       LONGITUD   LATITUDE  DFRCGID  DFRCUSCG  \\\n0    -86.799345  33.505697       98         1   \n1    -86.640449  34.724557      102         2   \n2    -85.488258  32.599378       97         1   \n3   -149.826190  61.190163      110         1   \n4   -110.950815  32.232672       96         1   \n..          ...        ...      ...       ...   \n263  -89.570934  44.529582      127         1   \n264 -105.579310  41.311773      101         1   \n265 -122.167359  37.429434       99         1   \n266  -77.310970  38.874798      119         2   \n267  -79.942599  37.257489       -2        -2   \n\n                                           school_name      Region  \\\n0                 university of alabama at birmingham     Southern   \n1                 university of alabama at huntsville     Southern   \n2                                    auburn university    Southern   \n3                       university of alaska anchorage     Western   \n4                                university of arizona     Western   \n..                                                 ...         ...   \n263            university of wisconsin   stevens point  Midwestern   \n264                             university of wyoming      Western   \n265                                stanford university  California   \n266                                stanford university  California   \n267  virginia polytechnic institute and state unive...    Southern   \n\n    Starting Median Salary Mid-Career Median Salary  \n0               $39,200.00               $70,100.00  \n1               $43,100.00               $82,700.00  \n2               $45,400.00               $84,700.00  \n3               $45,900.00               $72,600.00  \n4               $47,500.00               $86,100.00  \n..                     ...                      ...  \n263             $39,800.00               $64,000.00  \n264             $44,500.00               $78,700.00  \n265             $70,400.00              $129,000.00  \n266             $70,400.00              $129,000.00  \n267             $53,500.00               $95,400.00  \n\n[268 rows x 77 columns]\n"
     ]
    }
   ],
   "source": [
    "import pandas as pd\n",
    "import fuzzy_pandas as fpd\n",
    "\n",
    "matches = fpd.fuzzy_merge(df1, df2, on = ['school_name'],\n",
    "                          ignore_case=True,\n",
    "                    method = \"levenshtein\", threshold = 0.9)\n",
    "\n",
    "print(matches)"
   ]
  },
  {
   "cell_type": "code",
   "execution_count": 181,
   "metadata": {},
   "outputs": [],
   "source": [
    "location_info = matches.copy()[[\"CITY\",\"STABBR\",\"LOCALE\"]]"
   ]
  },
  {
   "cell_type": "code",
   "execution_count": 157,
   "metadata": {},
   "outputs": [],
   "source": [
    "dollar_cols = ['Starting Median Salary','Mid-Career Median Salary']\n",
    "\n",
    "for x in dollar_cols:\n",
    "    matches[x] = matches[x].str.replace(\"$\",\"\")\n",
    "    matches[x] = matches[x].str.replace(\",\",\"\")\n",
    "    matches[x] = pd.to_numeric(matches[x])"
   ]
  },
  {
   "cell_type": "code",
   "execution_count": 189,
   "metadata": {},
   "outputs": [],
   "source": [
    " df_final = matches.copy()\n"
   ]
  },
  {
   "cell_type": "code",
   "execution_count": 190,
   "metadata": {},
   "outputs": [],
   "source": [
    "df_final = df_final.groupby(['CITY','STABBR']).agg({'Mid-Career Median Salary':'mean','Starting Median Salary':\n",
    " 'mean'}).reset_index()\n"
   ]
  },
  {
   "cell_type": "code",
   "execution_count": 192,
   "metadata": {},
   "outputs": [],
   "source": [
    "final_clean_data = df_final.merge(location_info, how='inner', on=['CITY','STABBR'])"
   ]
  },
  {
   "cell_type": "code",
   "execution_count": 195,
   "metadata": {},
   "outputs": [],
   "source": [
    "final_clean_data.to_csv(\"Complete_full_data.csv\")"
   ]
  },
  {
   "cell_type": "code",
   "execution_count": null,
   "metadata": {},
   "outputs": [],
   "source": []
  }
 ]
}