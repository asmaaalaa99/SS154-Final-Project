{
 "metadata": {
  "language_info": {
   "codemirror_mode": {
    "name": "ipython",
    "version": 3
   },
   "file_extension": ".py",
   "mimetype": "text/x-python",
   "name": "python",
   "nbconvert_exporter": "python",
   "pygments_lexer": "ipython3",
   "version": "3.8.0"
  },
  "orig_nbformat": 2,
  "kernelspec": {
   "name": "python3",
   "display_name": "Python 3.8.0 64-bit",
   "metadata": {
    "interpreter": {
     "hash": "752579dbebe7f4dfe7c1aa72eac13e23fc88be2cc1ea7ab14e1f8d69b2d97d12"
    }
   }
  }
 },
 "nbformat": 4,
 "nbformat_minor": 2,
 "cells": [
  {
   "cell_type": "code",
   "execution_count": 1,
   "metadata": {},
   "outputs": [],
   "source": [
    "import pandas as pd\n",
    "import numpy as np"
   ]
  },
  {
   "cell_type": "code",
   "execution_count": 8,
   "metadata": {},
   "outputs": [],
   "source": [
    "demographic_data = pd.read_csv(\"https://raw.githubusercontent.com/asmaaalaa99/SS154-Final-Project/main/Data/hd2019%20-%20hd2019.csv\")\n",
    "salary_data = pd.read_csv(\"https://raw.githubusercontent.com/asmaaalaa99/SS154-Final-Project/main/Data/salaries-by-region.csv\")\n",
    "salary_data_school_type = pd.read_csv(\"/Users/asmaaaly/Minerva/SF_spring/SS154/SS154-assignment/Data/salaries-by-college-type.csv\")"
   ]
  },
  {
   "cell_type": "code",
   "execution_count": 9,
   "metadata": {},
   "outputs": [],
   "source": [
    "salary_data = pd.merge(salary_data,salary_data_school_type[['School Name','School Type']],on='School Name', how='left')\n"
   ]
  },
  {
   "cell_type": "code",
   "execution_count": 10,
   "metadata": {},
   "outputs": [
    {
     "output_type": "execute_result",
     "data": {
      "text/plain": [
       "                                         School Name        Region  \\\n",
       "0                                Stanford University    California   \n",
       "1           California Institute of Technology (CIT)    California   \n",
       "2                                Harvey Mudd College    California   \n",
       "3                 University of California, Berkeley    California   \n",
       "4                                 Occidental College    California   \n",
       "..                                               ...           ...   \n",
       "335   State University of New York (SUNY) at Potsdam  Northeastern   \n",
       "336                               Niagara University  Northeastern   \n",
       "337  State University of New York (SUNY) at Fredonia  Northeastern   \n",
       "338                     University of Southern Maine  Northeastern   \n",
       "339                                    Mercy College  Northeastern   \n",
       "\n",
       "    Starting Median Salary Mid-Career Median Salary  \\\n",
       "0               $70,400.00              $129,000.00   \n",
       "1               $75,500.00              $123,000.00   \n",
       "2               $71,800.00              $122,000.00   \n",
       "3               $59,900.00              $112,000.00   \n",
       "4               $51,900.00              $105,000.00   \n",
       "..                     ...                      ...   \n",
       "335             $38,000.00               $70,300.00   \n",
       "336             $36,900.00               $69,700.00   \n",
       "337             $37,800.00               $66,200.00   \n",
       "338             $39,400.00               $63,600.00   \n",
       "339             $43,700.00               $62,600.00   \n",
       "\n",
       "    Mid-Career 10th Percentile Salary Mid-Career 25th Percentile Salary  \\\n",
       "0                          $68,400.00                        $93,100.00   \n",
       "1                                 NaN                       $104,000.00   \n",
       "2                                 NaN                        $96,000.00   \n",
       "3                          $59,500.00                        $81,000.00   \n",
       "4                                 NaN                        $54,800.00   \n",
       "..                                ...                               ...   \n",
       "335                        $35,100.00                        $51,200.00   \n",
       "336                        $44,000.00                        $57,000.00   \n",
       "337                        $32,800.00                        $44,200.00   \n",
       "338                        $40,400.00                        $47,900.00   \n",
       "339                        $35,600.00                        $47,300.00   \n",
       "\n",
       "    Mid-Career 75th Percentile Salary Mid-Career 90th Percentile Salary  \\\n",
       "0                         $184,000.00                       $257,000.00   \n",
       "1                         $161,000.00                               NaN   \n",
       "2                         $180,000.00                               NaN   \n",
       "3                         $149,000.00                       $201,000.00   \n",
       "4                         $157,000.00                               NaN   \n",
       "..                                ...                               ...   \n",
       "335                       $100,000.00                       $179,000.00   \n",
       "336                        $92,000.00                       $128,000.00   \n",
       "337                        $93,300.00                       $181,000.00   \n",
       "338                        $85,700.00                       $117,000.00   \n",
       "339                        $99,000.00                       $134,000.00   \n",
       "\n",
       "      School Type  \n",
       "0             NaN  \n",
       "1     Engineering  \n",
       "2     Engineering  \n",
       "3           State  \n",
       "4    Liberal Arts  \n",
       "..            ...  \n",
       "335         State  \n",
       "336           NaN  \n",
       "337         State  \n",
       "338         State  \n",
       "339           NaN  \n",
       "\n",
       "[340 rows x 9 columns]"
      ],
      "text/html": "<div>\n<style scoped>\n    .dataframe tbody tr th:only-of-type {\n        vertical-align: middle;\n    }\n\n    .dataframe tbody tr th {\n        vertical-align: top;\n    }\n\n    .dataframe thead th {\n        text-align: right;\n    }\n</style>\n<table border=\"1\" class=\"dataframe\">\n  <thead>\n    <tr style=\"text-align: right;\">\n      <th></th>\n      <th>School Name</th>\n      <th>Region</th>\n      <th>Starting Median Salary</th>\n      <th>Mid-Career Median Salary</th>\n      <th>Mid-Career 10th Percentile Salary</th>\n      <th>Mid-Career 25th Percentile Salary</th>\n      <th>Mid-Career 75th Percentile Salary</th>\n      <th>Mid-Career 90th Percentile Salary</th>\n      <th>School Type</th>\n    </tr>\n  </thead>\n  <tbody>\n    <tr>\n      <th>0</th>\n      <td>Stanford University</td>\n      <td>California</td>\n      <td>$70,400.00</td>\n      <td>$129,000.00</td>\n      <td>$68,400.00</td>\n      <td>$93,100.00</td>\n      <td>$184,000.00</td>\n      <td>$257,000.00</td>\n      <td>NaN</td>\n    </tr>\n    <tr>\n      <th>1</th>\n      <td>California Institute of Technology (CIT)</td>\n      <td>California</td>\n      <td>$75,500.00</td>\n      <td>$123,000.00</td>\n      <td>NaN</td>\n      <td>$104,000.00</td>\n      <td>$161,000.00</td>\n      <td>NaN</td>\n      <td>Engineering</td>\n    </tr>\n    <tr>\n      <th>2</th>\n      <td>Harvey Mudd College</td>\n      <td>California</td>\n      <td>$71,800.00</td>\n      <td>$122,000.00</td>\n      <td>NaN</td>\n      <td>$96,000.00</td>\n      <td>$180,000.00</td>\n      <td>NaN</td>\n      <td>Engineering</td>\n    </tr>\n    <tr>\n      <th>3</th>\n      <td>University of California, Berkeley</td>\n      <td>California</td>\n      <td>$59,900.00</td>\n      <td>$112,000.00</td>\n      <td>$59,500.00</td>\n      <td>$81,000.00</td>\n      <td>$149,000.00</td>\n      <td>$201,000.00</td>\n      <td>State</td>\n    </tr>\n    <tr>\n      <th>4</th>\n      <td>Occidental College</td>\n      <td>California</td>\n      <td>$51,900.00</td>\n      <td>$105,000.00</td>\n      <td>NaN</td>\n      <td>$54,800.00</td>\n      <td>$157,000.00</td>\n      <td>NaN</td>\n      <td>Liberal Arts</td>\n    </tr>\n    <tr>\n      <th>...</th>\n      <td>...</td>\n      <td>...</td>\n      <td>...</td>\n      <td>...</td>\n      <td>...</td>\n      <td>...</td>\n      <td>...</td>\n      <td>...</td>\n      <td>...</td>\n    </tr>\n    <tr>\n      <th>335</th>\n      <td>State University of New York (SUNY) at Potsdam</td>\n      <td>Northeastern</td>\n      <td>$38,000.00</td>\n      <td>$70,300.00</td>\n      <td>$35,100.00</td>\n      <td>$51,200.00</td>\n      <td>$100,000.00</td>\n      <td>$179,000.00</td>\n      <td>State</td>\n    </tr>\n    <tr>\n      <th>336</th>\n      <td>Niagara University</td>\n      <td>Northeastern</td>\n      <td>$36,900.00</td>\n      <td>$69,700.00</td>\n      <td>$44,000.00</td>\n      <td>$57,000.00</td>\n      <td>$92,000.00</td>\n      <td>$128,000.00</td>\n      <td>NaN</td>\n    </tr>\n    <tr>\n      <th>337</th>\n      <td>State University of New York (SUNY) at Fredonia</td>\n      <td>Northeastern</td>\n      <td>$37,800.00</td>\n      <td>$66,200.00</td>\n      <td>$32,800.00</td>\n      <td>$44,200.00</td>\n      <td>$93,300.00</td>\n      <td>$181,000.00</td>\n      <td>State</td>\n    </tr>\n    <tr>\n      <th>338</th>\n      <td>University of Southern Maine</td>\n      <td>Northeastern</td>\n      <td>$39,400.00</td>\n      <td>$63,600.00</td>\n      <td>$40,400.00</td>\n      <td>$47,900.00</td>\n      <td>$85,700.00</td>\n      <td>$117,000.00</td>\n      <td>State</td>\n    </tr>\n    <tr>\n      <th>339</th>\n      <td>Mercy College</td>\n      <td>Northeastern</td>\n      <td>$43,700.00</td>\n      <td>$62,600.00</td>\n      <td>$35,600.00</td>\n      <td>$47,300.00</td>\n      <td>$99,000.00</td>\n      <td>$134,000.00</td>\n      <td>NaN</td>\n    </tr>\n  </tbody>\n</table>\n<p>340 rows × 9 columns</p>\n</div>"
     },
     "metadata": {},
     "execution_count": 10
    }
   ],
   "source": [
    "salary_data"
   ]
  },
  {
   "cell_type": "code",
   "execution_count": 11,
   "metadata": {},
   "outputs": [],
   "source": [
    "#only get the first columns of the salary data \n",
    "salary_data_clean = salary_data.iloc[:,np.r_[0:4,8:9]]\n"
   ]
  },
  {
   "cell_type": "code",
   "execution_count": 12,
   "metadata": {},
   "outputs": [
    {
     "output_type": "execute_result",
     "data": {
      "text/plain": [
       "                                School Name      Region  \\\n",
       "0                       Stanford University  California   \n",
       "1  California Institute of Technology (CIT)  California   \n",
       "2                       Harvey Mudd College  California   \n",
       "3        University of California, Berkeley  California   \n",
       "4                        Occidental College  California   \n",
       "\n",
       "  Starting Median Salary Mid-Career Median Salary   School Type  \n",
       "0             $70,400.00              $129,000.00           NaN  \n",
       "1             $75,500.00              $123,000.00   Engineering  \n",
       "2             $71,800.00              $122,000.00   Engineering  \n",
       "3             $59,900.00              $112,000.00         State  \n",
       "4             $51,900.00              $105,000.00  Liberal Arts  "
      ],
      "text/html": "<div>\n<style scoped>\n    .dataframe tbody tr th:only-of-type {\n        vertical-align: middle;\n    }\n\n    .dataframe tbody tr th {\n        vertical-align: top;\n    }\n\n    .dataframe thead th {\n        text-align: right;\n    }\n</style>\n<table border=\"1\" class=\"dataframe\">\n  <thead>\n    <tr style=\"text-align: right;\">\n      <th></th>\n      <th>School Name</th>\n      <th>Region</th>\n      <th>Starting Median Salary</th>\n      <th>Mid-Career Median Salary</th>\n      <th>School Type</th>\n    </tr>\n  </thead>\n  <tbody>\n    <tr>\n      <th>0</th>\n      <td>Stanford University</td>\n      <td>California</td>\n      <td>$70,400.00</td>\n      <td>$129,000.00</td>\n      <td>NaN</td>\n    </tr>\n    <tr>\n      <th>1</th>\n      <td>California Institute of Technology (CIT)</td>\n      <td>California</td>\n      <td>$75,500.00</td>\n      <td>$123,000.00</td>\n      <td>Engineering</td>\n    </tr>\n    <tr>\n      <th>2</th>\n      <td>Harvey Mudd College</td>\n      <td>California</td>\n      <td>$71,800.00</td>\n      <td>$122,000.00</td>\n      <td>Engineering</td>\n    </tr>\n    <tr>\n      <th>3</th>\n      <td>University of California, Berkeley</td>\n      <td>California</td>\n      <td>$59,900.00</td>\n      <td>$112,000.00</td>\n      <td>State</td>\n    </tr>\n    <tr>\n      <th>4</th>\n      <td>Occidental College</td>\n      <td>California</td>\n      <td>$51,900.00</td>\n      <td>$105,000.00</td>\n      <td>Liberal Arts</td>\n    </tr>\n  </tbody>\n</table>\n</div>"
     },
     "metadata": {},
     "execution_count": 12
    }
   ],
   "source": [
    "salary_data_clean.head(5)"
   ]
  },
  {
   "cell_type": "code",
   "execution_count": 13,
   "metadata": {},
   "outputs": [
    {
     "output_type": "execute_result",
     "data": {
      "text/plain": [
       "   UNITID                               INSTNM  \\\n",
       "0  100654             Alabama A & M University   \n",
       "1  100663  University of Alabama at Birmingham   \n",
       "2  100690                   Amridge University   \n",
       "3  100706  University of Alabama in Huntsville   \n",
       "4  100724             Alabama State University   \n",
       "\n",
       "                                              IALIAS  \\\n",
       "0                                               AAMU   \n",
       "1                                                      \n",
       "2  Southern Christian University  Regions University   \n",
       "3              UAH  University of Alabama Huntsville   \n",
       "4                                                      \n",
       "\n",
       "                             ADDR        CITY STABBR         ZIP  FIPS  \\\n",
       "0            4900 Meridian Street      Normal     AL       35762     1   \n",
       "1  Administration Bldg Suite 1070  Birmingham     AL  35294-0110     1   \n",
       "2                  1200 Taylor Rd  Montgomery     AL  36117-3553     1   \n",
       "3                 301 Sparkman Dr  Huntsville     AL       35899     1   \n",
       "4            915 S Jackson Street  Montgomery     AL  36104-0271     1   \n",
       "\n",
       "   OBEREG                   CHFNM  ... CBSATYPE  CSA  NECTA COUNTYCD  \\\n",
       "0       5  Dr. Andrew Hugine, Jr.  ...        1  290     -2     1089   \n",
       "1       5            Ray L. Watts  ...        1  142     -2     1073   \n",
       "2       5        Michael C.Turner  ...        1  388     -2     1101   \n",
       "3       5           Darren Dawson  ...        1  290     -2     1089   \n",
       "4       5         Quinton T. Ross  ...        1  388     -2     1101   \n",
       "\n",
       "            COUNTYNM  CNGDSTCD   LONGITUD   LATITUDE DFRCGID DFRCUSCG  \n",
       "0     Madison County       105 -86.568502  34.783368     112        1  \n",
       "1   Jefferson County       107 -86.799345  33.505697      98        1  \n",
       "2  Montgomery County       102 -86.174010  32.362609     129        2  \n",
       "3     Madison County       105 -86.640449  34.724557     102        2  \n",
       "4  Montgomery County       107 -86.295677  32.364317     120        1  \n",
       "\n",
       "[5 rows x 73 columns]"
      ],
      "text/html": "<div>\n<style scoped>\n    .dataframe tbody tr th:only-of-type {\n        vertical-align: middle;\n    }\n\n    .dataframe tbody tr th {\n        vertical-align: top;\n    }\n\n    .dataframe thead th {\n        text-align: right;\n    }\n</style>\n<table border=\"1\" class=\"dataframe\">\n  <thead>\n    <tr style=\"text-align: right;\">\n      <th></th>\n      <th>UNITID</th>\n      <th>INSTNM</th>\n      <th>IALIAS</th>\n      <th>ADDR</th>\n      <th>CITY</th>\n      <th>STABBR</th>\n      <th>ZIP</th>\n      <th>FIPS</th>\n      <th>OBEREG</th>\n      <th>CHFNM</th>\n      <th>...</th>\n      <th>CBSATYPE</th>\n      <th>CSA</th>\n      <th>NECTA</th>\n      <th>COUNTYCD</th>\n      <th>COUNTYNM</th>\n      <th>CNGDSTCD</th>\n      <th>LONGITUD</th>\n      <th>LATITUDE</th>\n      <th>DFRCGID</th>\n      <th>DFRCUSCG</th>\n    </tr>\n  </thead>\n  <tbody>\n    <tr>\n      <th>0</th>\n      <td>100654</td>\n      <td>Alabama A &amp; M University</td>\n      <td>AAMU</td>\n      <td>4900 Meridian Street</td>\n      <td>Normal</td>\n      <td>AL</td>\n      <td>35762</td>\n      <td>1</td>\n      <td>5</td>\n      <td>Dr. Andrew Hugine, Jr.</td>\n      <td>...</td>\n      <td>1</td>\n      <td>290</td>\n      <td>-2</td>\n      <td>1089</td>\n      <td>Madison County</td>\n      <td>105</td>\n      <td>-86.568502</td>\n      <td>34.783368</td>\n      <td>112</td>\n      <td>1</td>\n    </tr>\n    <tr>\n      <th>1</th>\n      <td>100663</td>\n      <td>University of Alabama at Birmingham</td>\n      <td></td>\n      <td>Administration Bldg Suite 1070</td>\n      <td>Birmingham</td>\n      <td>AL</td>\n      <td>35294-0110</td>\n      <td>1</td>\n      <td>5</td>\n      <td>Ray L. Watts</td>\n      <td>...</td>\n      <td>1</td>\n      <td>142</td>\n      <td>-2</td>\n      <td>1073</td>\n      <td>Jefferson County</td>\n      <td>107</td>\n      <td>-86.799345</td>\n      <td>33.505697</td>\n      <td>98</td>\n      <td>1</td>\n    </tr>\n    <tr>\n      <th>2</th>\n      <td>100690</td>\n      <td>Amridge University</td>\n      <td>Southern Christian University  Regions University</td>\n      <td>1200 Taylor Rd</td>\n      <td>Montgomery</td>\n      <td>AL</td>\n      <td>36117-3553</td>\n      <td>1</td>\n      <td>5</td>\n      <td>Michael C.Turner</td>\n      <td>...</td>\n      <td>1</td>\n      <td>388</td>\n      <td>-2</td>\n      <td>1101</td>\n      <td>Montgomery County</td>\n      <td>102</td>\n      <td>-86.174010</td>\n      <td>32.362609</td>\n      <td>129</td>\n      <td>2</td>\n    </tr>\n    <tr>\n      <th>3</th>\n      <td>100706</td>\n      <td>University of Alabama in Huntsville</td>\n      <td>UAH  University of Alabama Huntsville</td>\n      <td>301 Sparkman Dr</td>\n      <td>Huntsville</td>\n      <td>AL</td>\n      <td>35899</td>\n      <td>1</td>\n      <td>5</td>\n      <td>Darren Dawson</td>\n      <td>...</td>\n      <td>1</td>\n      <td>290</td>\n      <td>-2</td>\n      <td>1089</td>\n      <td>Madison County</td>\n      <td>105</td>\n      <td>-86.640449</td>\n      <td>34.724557</td>\n      <td>102</td>\n      <td>2</td>\n    </tr>\n    <tr>\n      <th>4</th>\n      <td>100724</td>\n      <td>Alabama State University</td>\n      <td></td>\n      <td>915 S Jackson Street</td>\n      <td>Montgomery</td>\n      <td>AL</td>\n      <td>36104-0271</td>\n      <td>1</td>\n      <td>5</td>\n      <td>Quinton T. Ross</td>\n      <td>...</td>\n      <td>1</td>\n      <td>388</td>\n      <td>-2</td>\n      <td>1101</td>\n      <td>Montgomery County</td>\n      <td>107</td>\n      <td>-86.295677</td>\n      <td>32.364317</td>\n      <td>120</td>\n      <td>1</td>\n    </tr>\n  </tbody>\n</table>\n<p>5 rows × 73 columns</p>\n</div>"
     },
     "metadata": {},
     "execution_count": 13
    }
   ],
   "source": [
    "demographic_data.head(5)"
   ]
  },
  {
   "cell_type": "code",
   "execution_count": 14,
   "metadata": {},
   "outputs": [
    {
     "output_type": "execute_result",
     "data": {
      "text/plain": [
       "     UNITID                     school_name  \\\n",
       "0    100858               auburn university   \n",
       "1    102553  university of alaska anchorage   \n",
       "2    104179           university of arizona   \n",
       "3    106397          university of arkansas   \n",
       "4    115409             harvey mudd college   \n",
       "..      ...                             ...   \n",
       "146  236595              seattle university   \n",
       "147  237011   western washington university   \n",
       "148  237057                 whitman college   \n",
       "149  239105            marquette university   \n",
       "150  243744             stanford university   \n",
       "\n",
       "                                                IALIAS  \\\n",
       "0                                                        \n",
       "1                                                  UAA   \n",
       "2    UA|U of A|Arizona|UofA|The University of Arizo...   \n",
       "3                      University of Arkansas|Arkansas   \n",
       "4                                            Mudd, HMC   \n",
       "..                                                 ...   \n",
       "146                                          Seattle U   \n",
       "147  Western Washington State College|Western Washi...   \n",
       "148                                                      \n",
       "149                                                      \n",
       "150                                                      \n",
       "\n",
       "                        ADDR          CITY STABBR         ZIP  FIPS  OBEREG  \\\n",
       "0                                   Auburn     AL       36849     1       5   \n",
       "1      3211 Providence Drive     Anchorage     AK       99508     2       8   \n",
       "2          1401 E University        Tucson     AZ  85721-0066     4       6   \n",
       "3    Administration Bldg 425  Fayetteville     AR       72701     5       5   \n",
       "4            301 Platt Blvd.     Claremont     CA       91711     6       8   \n",
       "..                       ...           ...    ...         ...   ...     ...   \n",
       "146             900 Broadway       Seattle     WA  98122-4340    53       8   \n",
       "147          516 High Street    Bellingham     WA  98225-9008    53       8   \n",
       "148            345 Boyer Ave   Walla Walla     WA       99362    53       8   \n",
       "149  1250 W Wisconsin Avenue     Milwaukee     WI       53233    55       3   \n",
       "150                               Stanford     CA       94305     6       8   \n",
       "\n",
       "                     CHFNM  ...                COUNTYNM CNGDSTCD    LONGITUD  \\\n",
       "0                Jay Gogue  ...              Lee County      103  -85.488258   \n",
       "1            Cathy Sandeen  ...  Anchorage Municipality      200 -149.826190   \n",
       "2    Dr. Robert C. Robbins  ...             Pima County      403 -110.950815   \n",
       "3      Joseph E. Steinmetz  ...       Washington County      503  -94.176981   \n",
       "4              Maria Klawe  ...      Los Angeles County      627 -117.709837   \n",
       "..                     ...  ...                     ...      ...         ...   \n",
       "146     Stephen V Sundborg  ...             King County     5309 -122.318851   \n",
       "147         Sabah Randhawa  ...          Whatcom County     5302 -122.485734   \n",
       "148        Kathleen Murray  ...      Walla Walla County     5305 -118.331546   \n",
       "149     Dr. Michael Lovell  ...        Milwaukee County     5504  -87.927961   \n",
       "150   Marc Tessier-Lavigne  ...      Santa Clara County      618 -122.167359   \n",
       "\n",
       "      LATITUDE  DFRCGID  DFRCUSCG      Region Starting Median Salary  \\\n",
       "0    32.599378       97         1    Southern             $45,400.00   \n",
       "1    61.190163      110         1     Western             $45,900.00   \n",
       "2    32.232672       96         1     Western             $47,500.00   \n",
       "3    36.070009       98         1    Southern             $44,100.00   \n",
       "4    34.106515      137         1  California             $71,800.00   \n",
       "..         ...      ...       ...         ...                    ...   \n",
       "146  47.608859      105         1     Western             $48,300.00   \n",
       "147  48.737812      109         1     Western             $42,700.00   \n",
       "148  46.069815      135         1     Western             $43,500.00   \n",
       "149  43.039030      103         1  Midwestern             $48,500.00   \n",
       "150  37.429434       99         1  California             $70,400.00   \n",
       "\n",
       "    Mid-Career Median Salary   School Type  \n",
       "0                 $84,700.00         State  \n",
       "1                 $72,600.00         State  \n",
       "2                 $86,100.00         State  \n",
       "3                 $82,800.00         State  \n",
       "4                $122,000.00   Engineering  \n",
       "..                       ...           ...  \n",
       "146               $82,800.00           NaN  \n",
       "147               $75,400.00         State  \n",
       "148               $80,100.00  Liberal Arts  \n",
       "149               $88,400.00           NaN  \n",
       "150              $129,000.00           NaN  \n",
       "\n",
       "[151 rows x 77 columns]"
      ],
      "text/html": "<div>\n<style scoped>\n    .dataframe tbody tr th:only-of-type {\n        vertical-align: middle;\n    }\n\n    .dataframe tbody tr th {\n        vertical-align: top;\n    }\n\n    .dataframe thead th {\n        text-align: right;\n    }\n</style>\n<table border=\"1\" class=\"dataframe\">\n  <thead>\n    <tr style=\"text-align: right;\">\n      <th></th>\n      <th>UNITID</th>\n      <th>school_name</th>\n      <th>IALIAS</th>\n      <th>ADDR</th>\n      <th>CITY</th>\n      <th>STABBR</th>\n      <th>ZIP</th>\n      <th>FIPS</th>\n      <th>OBEREG</th>\n      <th>CHFNM</th>\n      <th>...</th>\n      <th>COUNTYNM</th>\n      <th>CNGDSTCD</th>\n      <th>LONGITUD</th>\n      <th>LATITUDE</th>\n      <th>DFRCGID</th>\n      <th>DFRCUSCG</th>\n      <th>Region</th>\n      <th>Starting Median Salary</th>\n      <th>Mid-Career Median Salary</th>\n      <th>School Type</th>\n    </tr>\n  </thead>\n  <tbody>\n    <tr>\n      <th>0</th>\n      <td>100858</td>\n      <td>auburn university</td>\n      <td></td>\n      <td></td>\n      <td>Auburn</td>\n      <td>AL</td>\n      <td>36849</td>\n      <td>1</td>\n      <td>5</td>\n      <td>Jay Gogue</td>\n      <td>...</td>\n      <td>Lee County</td>\n      <td>103</td>\n      <td>-85.488258</td>\n      <td>32.599378</td>\n      <td>97</td>\n      <td>1</td>\n      <td>Southern</td>\n      <td>$45,400.00</td>\n      <td>$84,700.00</td>\n      <td>State</td>\n    </tr>\n    <tr>\n      <th>1</th>\n      <td>102553</td>\n      <td>university of alaska anchorage</td>\n      <td>UAA</td>\n      <td>3211 Providence Drive</td>\n      <td>Anchorage</td>\n      <td>AK</td>\n      <td>99508</td>\n      <td>2</td>\n      <td>8</td>\n      <td>Cathy Sandeen</td>\n      <td>...</td>\n      <td>Anchorage Municipality</td>\n      <td>200</td>\n      <td>-149.826190</td>\n      <td>61.190163</td>\n      <td>110</td>\n      <td>1</td>\n      <td>Western</td>\n      <td>$45,900.00</td>\n      <td>$72,600.00</td>\n      <td>State</td>\n    </tr>\n    <tr>\n      <th>2</th>\n      <td>104179</td>\n      <td>university of arizona</td>\n      <td>UA|U of A|Arizona|UofA|The University of Arizo...</td>\n      <td>1401 E University</td>\n      <td>Tucson</td>\n      <td>AZ</td>\n      <td>85721-0066</td>\n      <td>4</td>\n      <td>6</td>\n      <td>Dr. Robert C. Robbins</td>\n      <td>...</td>\n      <td>Pima County</td>\n      <td>403</td>\n      <td>-110.950815</td>\n      <td>32.232672</td>\n      <td>96</td>\n      <td>1</td>\n      <td>Western</td>\n      <td>$47,500.00</td>\n      <td>$86,100.00</td>\n      <td>State</td>\n    </tr>\n    <tr>\n      <th>3</th>\n      <td>106397</td>\n      <td>university of arkansas</td>\n      <td>University of Arkansas|Arkansas</td>\n      <td>Administration Bldg 425</td>\n      <td>Fayetteville</td>\n      <td>AR</td>\n      <td>72701</td>\n      <td>5</td>\n      <td>5</td>\n      <td>Joseph E. Steinmetz</td>\n      <td>...</td>\n      <td>Washington County</td>\n      <td>503</td>\n      <td>-94.176981</td>\n      <td>36.070009</td>\n      <td>98</td>\n      <td>1</td>\n      <td>Southern</td>\n      <td>$44,100.00</td>\n      <td>$82,800.00</td>\n      <td>State</td>\n    </tr>\n    <tr>\n      <th>4</th>\n      <td>115409</td>\n      <td>harvey mudd college</td>\n      <td>Mudd, HMC</td>\n      <td>301 Platt Blvd.</td>\n      <td>Claremont</td>\n      <td>CA</td>\n      <td>91711</td>\n      <td>6</td>\n      <td>8</td>\n      <td>Maria Klawe</td>\n      <td>...</td>\n      <td>Los Angeles County</td>\n      <td>627</td>\n      <td>-117.709837</td>\n      <td>34.106515</td>\n      <td>137</td>\n      <td>1</td>\n      <td>California</td>\n      <td>$71,800.00</td>\n      <td>$122,000.00</td>\n      <td>Engineering</td>\n    </tr>\n    <tr>\n      <th>...</th>\n      <td>...</td>\n      <td>...</td>\n      <td>...</td>\n      <td>...</td>\n      <td>...</td>\n      <td>...</td>\n      <td>...</td>\n      <td>...</td>\n      <td>...</td>\n      <td>...</td>\n      <td>...</td>\n      <td>...</td>\n      <td>...</td>\n      <td>...</td>\n      <td>...</td>\n      <td>...</td>\n      <td>...</td>\n      <td>...</td>\n      <td>...</td>\n      <td>...</td>\n      <td>...</td>\n    </tr>\n    <tr>\n      <th>146</th>\n      <td>236595</td>\n      <td>seattle university</td>\n      <td>Seattle U</td>\n      <td>900 Broadway</td>\n      <td>Seattle</td>\n      <td>WA</td>\n      <td>98122-4340</td>\n      <td>53</td>\n      <td>8</td>\n      <td>Stephen V Sundborg</td>\n      <td>...</td>\n      <td>King County</td>\n      <td>5309</td>\n      <td>-122.318851</td>\n      <td>47.608859</td>\n      <td>105</td>\n      <td>1</td>\n      <td>Western</td>\n      <td>$48,300.00</td>\n      <td>$82,800.00</td>\n      <td>NaN</td>\n    </tr>\n    <tr>\n      <th>147</th>\n      <td>237011</td>\n      <td>western washington university</td>\n      <td>Western Washington State College|Western Washi...</td>\n      <td>516 High Street</td>\n      <td>Bellingham</td>\n      <td>WA</td>\n      <td>98225-9008</td>\n      <td>53</td>\n      <td>8</td>\n      <td>Sabah Randhawa</td>\n      <td>...</td>\n      <td>Whatcom County</td>\n      <td>5302</td>\n      <td>-122.485734</td>\n      <td>48.737812</td>\n      <td>109</td>\n      <td>1</td>\n      <td>Western</td>\n      <td>$42,700.00</td>\n      <td>$75,400.00</td>\n      <td>State</td>\n    </tr>\n    <tr>\n      <th>148</th>\n      <td>237057</td>\n      <td>whitman college</td>\n      <td></td>\n      <td>345 Boyer Ave</td>\n      <td>Walla Walla</td>\n      <td>WA</td>\n      <td>99362</td>\n      <td>53</td>\n      <td>8</td>\n      <td>Kathleen Murray</td>\n      <td>...</td>\n      <td>Walla Walla County</td>\n      <td>5305</td>\n      <td>-118.331546</td>\n      <td>46.069815</td>\n      <td>135</td>\n      <td>1</td>\n      <td>Western</td>\n      <td>$43,500.00</td>\n      <td>$80,100.00</td>\n      <td>Liberal Arts</td>\n    </tr>\n    <tr>\n      <th>149</th>\n      <td>239105</td>\n      <td>marquette university</td>\n      <td></td>\n      <td>1250 W Wisconsin Avenue</td>\n      <td>Milwaukee</td>\n      <td>WI</td>\n      <td>53233</td>\n      <td>55</td>\n      <td>3</td>\n      <td>Dr. Michael Lovell</td>\n      <td>...</td>\n      <td>Milwaukee County</td>\n      <td>5504</td>\n      <td>-87.927961</td>\n      <td>43.039030</td>\n      <td>103</td>\n      <td>1</td>\n      <td>Midwestern</td>\n      <td>$48,500.00</td>\n      <td>$88,400.00</td>\n      <td>NaN</td>\n    </tr>\n    <tr>\n      <th>150</th>\n      <td>243744</td>\n      <td>stanford university</td>\n      <td></td>\n      <td></td>\n      <td>Stanford</td>\n      <td>CA</td>\n      <td>94305</td>\n      <td>6</td>\n      <td>8</td>\n      <td>Marc Tessier-Lavigne</td>\n      <td>...</td>\n      <td>Santa Clara County</td>\n      <td>618</td>\n      <td>-122.167359</td>\n      <td>37.429434</td>\n      <td>99</td>\n      <td>1</td>\n      <td>California</td>\n      <td>$70,400.00</td>\n      <td>$129,000.00</td>\n      <td>NaN</td>\n    </tr>\n  </tbody>\n</table>\n<p>151 rows × 77 columns</p>\n</div>"
     },
     "metadata": {},
     "execution_count": 14
    }
   ],
   "source": [
    "df1 = demographic_data.copy()\n",
    "df1.rename({'INSTNM': 'school_name'}, axis=1, inplace=True)\n",
    "df1[\"school_name\"] = df1[\"school_name\"].str.lower()\n",
    "df1[\"school_name\"] = df1[\"school_name\"].replace({'-': '', ',': ''}, regex=True)\n",
    "\n",
    "df2 = salary_data_clean.copy()\n",
    "df2.rename({'School Name': 'school_name'}, axis=1, inplace=True)\n",
    "df2[\"school_name\"] = df2[\"school_name\"].str.lower()\n",
    "df2[\"school_name\"] = df2[\"school_name\"].replace({'-': '', ',': ''}, regex=True)\n",
    "import re\n",
    "df2[\"school_name\"].str.lower()\n",
    "df2[\"school_name\"] = df2[\"school_name\"].apply(lambda x: re.sub(r\"\\(.*\\)\", \"\", x))\n",
    "df1[\"school_name\"] = df1[\"school_name\"].apply(lambda x: re.sub(r\"\\(.*\\)\", \"\", x))\n",
    "df1.merge(df2, how='inner', on='school_name')"
   ]
  },
  {
   "cell_type": "code",
   "execution_count": 15,
   "metadata": {},
   "outputs": [],
   "source": [
    "import pandas as pd\n",
    "import difflib\n",
    "\n"
   ]
  },
  {
   "cell_type": "code",
   "execution_count": 16,
   "metadata": {},
   "outputs": [
    {
     "output_type": "stream",
     "name": "stdout",
     "text": [
      "     UNITID                                        school_name  \\\n0    100663                university of alabama at birmingham   \n1    100706                university of alabama in huntsville   \n2    100858                                  auburn university   \n3    102553                     university of alaska anchorage   \n4    104179                              university of arizona   \n..      ...                                                ...   \n274  240480               university of wisconsinstevens point   \n275  240727                              university of wyoming   \n276  243744                                stanford university   \n277  438498                               stratford university   \n278  459082  virginia polytechnic institute & state university   \n\n                                                IALIAS  \\\n0                                                        \n1                UAH  University of Alabama Huntsville   \n2                                                        \n3                                                  UAA   \n4    UA|U of A|Arizona|UofA|The University of Arizo...   \n..                                                 ...   \n274                                   UW-Stevens Point   \n275                                                 UW   \n276                                                      \n277                                                      \n278                                                      \n\n                                ADDR           CITY STABBR         ZIP  FIPS  \\\n0     Administration Bldg Suite 1070     Birmingham     AL  35294-0110     1   \n1                    301 Sparkman Dr     Huntsville     AL       35899     1   \n2                                            Auburn     AL       36849     1   \n3              3211 Providence Drive      Anchorage     AK       99508     2   \n4                  1401 E University         Tucson     AZ  85721-0066     4   \n..                               ...            ...    ...         ...   ...   \n274                     2100 Main St  Stevens Point     WI  54481-3897    55   \n275      Corner of Ninth and Ivinson        Laramie     WY       82071    56   \n276                                        Stanford     CA       94305     6   \n277  3201 Jermantown Road, Suite 500        Fairfax     VA       22030    51   \n278               2 Riverside Circle        Roanoke     VA  24016-4950    51   \n\n     OBEREG                       CHFNM  ... CNGDSTCD    LONGITUD   LATITUDE  \\\n0         5                Ray L. Watts  ...      107  -86.799345  33.505697   \n1         5               Darren Dawson  ...      105  -86.640449  34.724557   \n2         5                   Jay Gogue  ...      103  -85.488258  32.599378   \n3         8               Cathy Sandeen  ...      200 -149.826190  61.190163   \n4         6       Dr. Robert C. Robbins  ...      403 -110.950815  32.232672   \n..      ...                         ...  ...      ...         ...        ...   \n274       3            Bernie Patterson  ...     5503  -89.570934  44.529582   \n275       7               Neil Theobald  ...     5600 -105.579310  41.311773   \n276       8        Marc Tessier-Lavigne  ...      618 -122.167359  37.429434   \n277       5  Dr.  Richard R. Shurtz, II  ...     5111  -77.310970  38.874798   \n278       5                              ...     5106  -79.942599  37.257489   \n\n    DFRCGID  DFRCUSCG                                        school_name  \\\n0        98         1               university of alabama at birmingham    \n1       102         2               university of alabama at huntsville    \n2        97         1                                  auburn university   \n3       110         1                     university of alaska anchorage   \n4        96         1                              university of arizona   \n..      ...       ...                                                ...   \n274     127         1            university of wisconsin   stevens point   \n275     101         1                             university of wyoming    \n276      99         1                                stanford university   \n277     119         2                                stanford university   \n278      -2        -2  virginia polytechnic institute and state unive...   \n\n         Region Starting Median Salary Mid-Career Median Salary  School Type  \n0      Southern             $39,200.00               $70,100.00        State  \n1      Southern             $43,100.00               $82,700.00        State  \n2      Southern             $45,400.00               $84,700.00        State  \n3       Western             $45,900.00               $72,600.00        State  \n4       Western             $47,500.00               $86,100.00        State  \n..          ...                    ...                      ...          ...  \n274  Midwestern             $39,800.00               $64,000.00        State  \n275     Western             $44,500.00               $78,700.00        State  \n276  California             $70,400.00              $129,000.00          NaN  \n277  California             $70,400.00              $129,000.00          NaN  \n278    Southern             $53,500.00               $95,400.00  Engineering  \n\n[279 rows x 78 columns]\n"
     ]
    }
   ],
   "source": [
    "import pandas as pd\n",
    "import fuzzy_pandas as fpd\n",
    "\n",
    "matches = fpd.fuzzy_merge(df1, df2, on = ['school_name'],\n",
    "                          ignore_case=True,\n",
    "                    method = \"levenshtein\", threshold = 0.9)\n",
    "\n",
    "print(matches)"
   ]
  },
  {
   "cell_type": "code",
   "execution_count": 17,
   "metadata": {},
   "outputs": [],
   "source": [
    "location_info = matches.copy()[[\"CITY\",\"STABBR\",\"LOCALE\",\"School Type\"]]"
   ]
  },
  {
   "cell_type": "code",
   "execution_count": 18,
   "metadata": {},
   "outputs": [],
   "source": [
    "dollar_cols = ['Starting Median Salary','Mid-Career Median Salary']\n",
    "\n",
    "for x in dollar_cols:\n",
    "    matches[x] = matches[x].str.replace(\"$\",\"\")\n",
    "    matches[x] = matches[x].str.replace(\",\",\"\")\n",
    "    matches[x] = pd.to_numeric(matches[x])"
   ]
  },
  {
   "cell_type": "code",
   "execution_count": 20,
   "metadata": {},
   "outputs": [],
   "source": [
    " df_final = matches.copy()\n"
   ]
  },
  {
   "cell_type": "code",
   "execution_count": 21,
   "metadata": {},
   "outputs": [],
   "source": [
    "df_final = df_final.groupby(['CITY','STABBR']).agg({'Mid-Career Median Salary':'mean','Starting Median Salary':\n",
    " 'mean'}).reset_index()\n"
   ]
  },
  {
   "cell_type": "code",
   "execution_count": 22,
   "metadata": {},
   "outputs": [],
   "source": [
    "final_clean_data = df_final.merge(location_info, how='inner', on=['CITY','STABBR'])"
   ]
  },
  {
   "cell_type": "code",
   "execution_count": 23,
   "metadata": {},
   "outputs": [],
   "source": [
    "final_clean_data = final_clean_data.dropna()"
   ]
  },
  {
   "cell_type": "code",
   "execution_count": 24,
   "metadata": {},
   "outputs": [],
   "source": [
    "final_clean_data.to_csv(\"Complete_full_data.csv\")"
   ]
  },
  {
   "cell_type": "code",
   "execution_count": 29,
   "metadata": {},
   "outputs": [],
   "source": [
    "#only cities data\n",
    "cities_only_data = final_clean_data.copy().loc[cities_only_data['LOCALE'].isin([13,12,11])]\n",
    "\n"
   ]
  },
  {
   "source": [
    "cities_only_data.to_csv(\"cities_only_data.csv\")"
   ],
   "cell_type": "code",
   "metadata": {},
   "execution_count": 31,
   "outputs": []
  },
  {
   "cell_type": "code",
   "execution_count": 2,
   "metadata": {},
   "outputs": [],
   "source": [
    "abbr = [\"AL\",\"AK\",\"AZ\",\"AR\",\"CA\",\"CO\",\"CT\",\"DE\",\"FL\",\"GA\",\"HI\",\"ID\",\"IL\",\"IN\",\"IA\",\"KS\",\"KY\",\"LA\",\"ME\",\"MD\",\"MA\",\"MI\",\"MN\",\"MS\",\"MO\",\"MT\",\"NE\",\"NV\",\"NH\",\"NJ\",\"NM\",\"NY\",\"NC\",\"ND\",\"OH\",\"OK\",\"OR\",\"PA\",\"RI\",\"SC\",\"SD\",\"TN\",\"TX\",\"UT\",\"VT\",\"VA\",\"WA\",\"WV\",\"WI\",\"WY\"]\n",
    "di = {\"AL\":\"Alabama\",\"AK\":\"Alaska\",\"AZ\":\"Arizona\",\"AR\":\"Arkansas\",\"CA\":\"California\",\"CO\":\"Colorado\",\"CT\":\"Connecticut\",\"DE\":\"Delaware\",\"FL\":\"Florida\",\"GA\":\"Georgia\",\"HI\":\"Hawaii\",\"ID\":\"Idaho\",\"IL\":\"Illinois\",\"IN\":\"Indiana\",\"IA\":\"Iowa\",\"KS\":\"Kansas\",\"KY\":\"Kentucky\",\"LA\":\"Louisiana\",\"ME\":\"Maine\",\"MD\":\"Maryland\",\"MA\":\"Massachusetts\",\"MI\":\"Michigan\",\"MN\":\"Minnesota\",\"MS\":\"Mississippi\",\"MO\":\"Missouri\",\"MT\":\"Montana\",\"NE\":\"Nebraska\",\"NV\":\"Nevada\",\"NH\":\"New Hampshire\",\"NJ\":\"New Jersey\",\"NM\":\"New Mexico\",\"NY\":\"New York\",\"NC\":\"North Carolina\",\"ND\":\"North Dakota\",\"OH\":\"Ohio\",\"OK\":\"Oklahoma\",\"OR\":\"Oregon\",\"PA\":\"Pennsylvania\",\"RI\":\"Rhode Island\",\"SC\":\"South Carolina\",\"SD\":\"South Dakota\",\"TN\":\"Tennessee\",\"TX\":\"Texas\",\"UT\":\"Utah\",\"VT\":\"Vermont\",\"VA\":\"Virginia\",\"WA\":\"Washington\",\"WV\":\"West Virginia\",\"WI\":\"Wisconsin\",\"WY\":\"Wyoming\"}"
   ]
  },
  {
   "cell_type": "code",
   "execution_count": 46,
   "metadata": {},
   "outputs": [],
   "source": [
    "df = pd.read_csv(\"/Users/asmaaaly/Minerva/SF_spring/SS154/SS154-assignment/Data/Most-Recent-Cohorts-All-Data-Elements.csv\")"
   ]
  },
  {
   "cell_type": "code",
   "execution_count": 47,
   "metadata": {},
   "outputs": [],
   "source": [
    "df['STABBR'] = df['STABBR'].map(di)"
   ]
  },
  {
   "cell_type": "code",
   "execution_count": 48,
   "metadata": {},
   "outputs": [],
   "source": [
    "df.rename({'CITY': 'City','STABBR':'State'}, axis=1, inplace=True)\n",
    "df['Geographic Area'] = df[['City', 'State']].apply(lambda x: ' , '.join(x[x.notnull()]), axis = 1)\n"
   ]
  },
  {
   "cell_type": "code",
   "execution_count": 49,
   "metadata": {},
   "outputs": [],
   "source": [
    "df2 = pd.read_csv(\"/Users/asmaaaly/Minerva/SF_spring/SS154/SS154-assignment/Data/Book2.csv\", header=0)\n"
   ]
  },
  {
   "cell_type": "code",
   "execution_count": 10,
   "metadata": {},
   "outputs": [],
   "source": [
    "#df2[['City','State']] = df2[\"Geographic Area\"].apply(lambda x: pd.Series(str(x).split(\",\")))"
   ]
  },
  {
   "cell_type": "code",
   "execution_count": 50,
   "metadata": {},
   "outputs": [],
   "source": [
    "df2['Geographic Area'] = df2[\"Geographic Area\"].apply(lambda x: pd.Series(str(x).replace(\"city\",\"\")))\n",
    "df2[\"Geographic Area\"] = df2[\"Geographic Area\"].str.lower()\n",
    "df[\"Geographic Area\"] = df[\"Geographic Area\"].str.lower()\n"
   ]
  },
  {
   "cell_type": "code",
   "execution_count": 51,
   "metadata": {},
   "outputs": [],
   "source": [
    "df2 = df2[['2019','Geographic Area']]\n"
   ]
  },
  {
   "cell_type": "code",
   "execution_count": 53,
   "metadata": {},
   "outputs": [
    {
     "output_type": "execute_result",
     "data": {
      "text/plain": [
       "        UNITID    OPEID  OPEID6                                    INSTNM  \\\n",
       "0       100654   100200    1002                  Alabama A & M University   \n",
       "1       100663   105200    1052       University of Alabama at Birmingham   \n",
       "2       100690  2503400   25034                        Amridge University   \n",
       "3       100706   105500    1055       University of Alabama in Huntsville   \n",
       "4       100724   100500    1005                  Alabama State University   \n",
       "...        ...      ...     ...                                       ...   \n",
       "6801  48511112   157114    1571         Georgia Military College - Dublin   \n",
       "6802  48511113   157115    1571        Georgia Military College - Eastman   \n",
       "6803  48616901  4204801   42048  American College of Barbering - Florence   \n",
       "6804  49005401  4182601   41826      HCI College - Fort Lauderdale Campus   \n",
       "6805  49146401  4227001   42270          ABC Adult School - Cabrillo Lane   \n",
       "\n",
       "                 City       State         ZIP  \\\n",
       "0              Normal     Alabama       35762   \n",
       "1          Birmingham     Alabama  35294-0110   \n",
       "2          Montgomery     Alabama  36117-3553   \n",
       "3          Huntsville     Alabama       35899   \n",
       "4          Montgomery     Alabama  36104-0271   \n",
       "...               ...         ...         ...   \n",
       "6801           Dublin     Georgia   310215149   \n",
       "6802          Eastman     Georgia   310236109   \n",
       "6803         Florence    Kentucky   410421801   \n",
       "6804  Fort Lauderdale     Florida       33309   \n",
       "6805         Cerritos  California   907037748   \n",
       "\n",
       "                                           ACCREDAGENCY  \\\n",
       "0     Southern Association of Colleges and Schools C...   \n",
       "1     Southern Association of Colleges and Schools C...   \n",
       "2     Southern Association of Colleges and Schools C...   \n",
       "3     Southern Association of Colleges and Schools C...   \n",
       "4     Southern Association of Colleges and Schools C...   \n",
       "...                                                 ...   \n",
       "6801  Southern Association of Colleges and Schools C...   \n",
       "6802  Southern Association of Colleges and Schools C...   \n",
       "6803  National Accrediting Commission of Career Arts...   \n",
       "6804  Accrediting Commission of Career Schools and C...   \n",
       "6805                  Council on Occupational Education   \n",
       "\n",
       "                            INSTURL  \\\n",
       "0                     www.aamu.edu/   \n",
       "1               https://www.uab.edu   \n",
       "2         www.amridgeuniversity.edu   \n",
       "3                       www.uah.edu   \n",
       "4                     www.alasu.edu   \n",
       "...                             ...   \n",
       "6801  https://www.gmc.edu/index.cms   \n",
       "6802  https://www.gmc.edu/index.cms   \n",
       "6803                            NaN   \n",
       "6804                   www.hci.edu/   \n",
       "6805                            NaN   \n",
       "\n",
       "                                                 NPCURL  ...  \\\n",
       "0     www.aamu.edu/admissions-aid/tuition-fees/net-p...  ...   \n",
       "1      https://uab.studentaidcalculator.com/survey.aspx  ...   \n",
       "2                      www2.amridgeuniversity.edu:9091/  ...   \n",
       "3                                       finaid.uah.edu/  ...   \n",
       "4     www.alasu.edu/cost-aid/tuition-costs/net-price...  ...   \n",
       "...                                                 ...  ...   \n",
       "6801                                                NaN  ...   \n",
       "6802                                                NaN  ...   \n",
       "6803                                                NaN  ...   \n",
       "6804                                                NaN  ...   \n",
       "6805                                                NaN  ...   \n",
       "\n",
       "      BBRR2_FED_UGCOMP_DISCHARGE_SUPP  LPSTAFFORD_CNT  LPSTAFFORD_AMT  \\\n",
       "0                   PrivacySuppressed           31374       922456254   \n",
       "1                   PrivacySuppressed           56997      1720042015   \n",
       "2                   PrivacySuppressed            4463       174222020   \n",
       "3                   PrivacySuppressed           19702       407184805   \n",
       "4                   PrivacySuppressed           34246       947070736   \n",
       "...                               ...             ...             ...   \n",
       "6801                PrivacySuppressed           31246       314378676   \n",
       "6802                PrivacySuppressed           31246       314378676   \n",
       "6803                PrivacySuppressed             288         2748963   \n",
       "6804                PrivacySuppressed            1162        19902445   \n",
       "6805                PrivacySuppressed             NaN             NaN   \n",
       "\n",
       "            LPPPLUS_CNT        LPPPLUS_AMT        LPGPLUS_CNT  \\\n",
       "0                  5201          113949554               1004   \n",
       "1                  3727           87421879               3461   \n",
       "2                    16             309618                298   \n",
       "3                  1397           29789762                144   \n",
       "4                  4602           95359062                587   \n",
       "...                 ...                ...                ...   \n",
       "6801                551            4903237  PrivacySuppressed   \n",
       "6802                551            4903237  PrivacySuppressed   \n",
       "6803  PrivacySuppressed  PrivacySuppressed  PrivacySuppressed   \n",
       "6804                 25             286863  PrivacySuppressed   \n",
       "6805                NaN                NaN                NaN   \n",
       "\n",
       "            LPGPLUS_AMT  FEDSCHCD  \\\n",
       "0              15578483      1002   \n",
       "1             134126588      1052   \n",
       "2              16290781     16885   \n",
       "3               2377759      1055   \n",
       "4              12174367      1005   \n",
       "...                 ...       ...   \n",
       "6801  PrivacySuppressed      1571   \n",
       "6802  PrivacySuppressed      1571   \n",
       "6803  PrivacySuppressed     42048   \n",
       "6804  PrivacySuppressed     41826   \n",
       "6805                NaN     42270   \n",
       "\n",
       "                                          SEARCH_STRING  \\\n",
       "0                         Alabama A & M University AAMU   \n",
       "1                  University of Alabama at Birmingham    \n",
       "2     Amridge University Southern Christian Universi...   \n",
       "3     University of Alabama in Huntsville UAH  Unive...   \n",
       "4                             Alabama State University    \n",
       "...                                                 ...   \n",
       "6801                 Georgia Military College - Dublin    \n",
       "6802                Georgia Military College - Eastman    \n",
       "6803          American College of Barbering - Florence    \n",
       "6804              HCI College - Fort Lauderdale Campus    \n",
       "6805                  ABC Adult School - Cabrillo Lane    \n",
       "\n",
       "                Geographic Area  \n",
       "0              normal , alabama  \n",
       "1          birmingham , alabama  \n",
       "2          montgomery , alabama  \n",
       "3          huntsville , alabama  \n",
       "4          montgomery , alabama  \n",
       "...                         ...  \n",
       "6801           dublin , georgia  \n",
       "6802          eastman , georgia  \n",
       "6803        florence , kentucky  \n",
       "6804  fort lauderdale , florida  \n",
       "6805      cerritos , california  \n",
       "\n",
       "[6806 rows x 2385 columns]"
      ],
      "text/html": "<div>\n<style scoped>\n    .dataframe tbody tr th:only-of-type {\n        vertical-align: middle;\n    }\n\n    .dataframe tbody tr th {\n        vertical-align: top;\n    }\n\n    .dataframe thead th {\n        text-align: right;\n    }\n</style>\n<table border=\"1\" class=\"dataframe\">\n  <thead>\n    <tr style=\"text-align: right;\">\n      <th></th>\n      <th>UNITID</th>\n      <th>OPEID</th>\n      <th>OPEID6</th>\n      <th>INSTNM</th>\n      <th>City</th>\n      <th>State</th>\n      <th>ZIP</th>\n      <th>ACCREDAGENCY</th>\n      <th>INSTURL</th>\n      <th>NPCURL</th>\n      <th>...</th>\n      <th>BBRR2_FED_UGCOMP_DISCHARGE_SUPP</th>\n      <th>LPSTAFFORD_CNT</th>\n      <th>LPSTAFFORD_AMT</th>\n      <th>LPPPLUS_CNT</th>\n      <th>LPPPLUS_AMT</th>\n      <th>LPGPLUS_CNT</th>\n      <th>LPGPLUS_AMT</th>\n      <th>FEDSCHCD</th>\n      <th>SEARCH_STRING</th>\n      <th>Geographic Area</th>\n    </tr>\n  </thead>\n  <tbody>\n    <tr>\n      <th>0</th>\n      <td>100654</td>\n      <td>100200</td>\n      <td>1002</td>\n      <td>Alabama A &amp; M University</td>\n      <td>Normal</td>\n      <td>Alabama</td>\n      <td>35762</td>\n      <td>Southern Association of Colleges and Schools C...</td>\n      <td>www.aamu.edu/</td>\n      <td>www.aamu.edu/admissions-aid/tuition-fees/net-p...</td>\n      <td>...</td>\n      <td>PrivacySuppressed</td>\n      <td>31374</td>\n      <td>922456254</td>\n      <td>5201</td>\n      <td>113949554</td>\n      <td>1004</td>\n      <td>15578483</td>\n      <td>1002</td>\n      <td>Alabama A &amp; M University AAMU</td>\n      <td>normal , alabama</td>\n    </tr>\n    <tr>\n      <th>1</th>\n      <td>100663</td>\n      <td>105200</td>\n      <td>1052</td>\n      <td>University of Alabama at Birmingham</td>\n      <td>Birmingham</td>\n      <td>Alabama</td>\n      <td>35294-0110</td>\n      <td>Southern Association of Colleges and Schools C...</td>\n      <td>https://www.uab.edu</td>\n      <td>https://uab.studentaidcalculator.com/survey.aspx</td>\n      <td>...</td>\n      <td>PrivacySuppressed</td>\n      <td>56997</td>\n      <td>1720042015</td>\n      <td>3727</td>\n      <td>87421879</td>\n      <td>3461</td>\n      <td>134126588</td>\n      <td>1052</td>\n      <td>University of Alabama at Birmingham</td>\n      <td>birmingham , alabama</td>\n    </tr>\n    <tr>\n      <th>2</th>\n      <td>100690</td>\n      <td>2503400</td>\n      <td>25034</td>\n      <td>Amridge University</td>\n      <td>Montgomery</td>\n      <td>Alabama</td>\n      <td>36117-3553</td>\n      <td>Southern Association of Colleges and Schools C...</td>\n      <td>www.amridgeuniversity.edu</td>\n      <td>www2.amridgeuniversity.edu:9091/</td>\n      <td>...</td>\n      <td>PrivacySuppressed</td>\n      <td>4463</td>\n      <td>174222020</td>\n      <td>16</td>\n      <td>309618</td>\n      <td>298</td>\n      <td>16290781</td>\n      <td>16885</td>\n      <td>Amridge University Southern Christian Universi...</td>\n      <td>montgomery , alabama</td>\n    </tr>\n    <tr>\n      <th>3</th>\n      <td>100706</td>\n      <td>105500</td>\n      <td>1055</td>\n      <td>University of Alabama in Huntsville</td>\n      <td>Huntsville</td>\n      <td>Alabama</td>\n      <td>35899</td>\n      <td>Southern Association of Colleges and Schools C...</td>\n      <td>www.uah.edu</td>\n      <td>finaid.uah.edu/</td>\n      <td>...</td>\n      <td>PrivacySuppressed</td>\n      <td>19702</td>\n      <td>407184805</td>\n      <td>1397</td>\n      <td>29789762</td>\n      <td>144</td>\n      <td>2377759</td>\n      <td>1055</td>\n      <td>University of Alabama in Huntsville UAH  Unive...</td>\n      <td>huntsville , alabama</td>\n    </tr>\n    <tr>\n      <th>4</th>\n      <td>100724</td>\n      <td>100500</td>\n      <td>1005</td>\n      <td>Alabama State University</td>\n      <td>Montgomery</td>\n      <td>Alabama</td>\n      <td>36104-0271</td>\n      <td>Southern Association of Colleges and Schools C...</td>\n      <td>www.alasu.edu</td>\n      <td>www.alasu.edu/cost-aid/tuition-costs/net-price...</td>\n      <td>...</td>\n      <td>PrivacySuppressed</td>\n      <td>34246</td>\n      <td>947070736</td>\n      <td>4602</td>\n      <td>95359062</td>\n      <td>587</td>\n      <td>12174367</td>\n      <td>1005</td>\n      <td>Alabama State University</td>\n      <td>montgomery , alabama</td>\n    </tr>\n    <tr>\n      <th>...</th>\n      <td>...</td>\n      <td>...</td>\n      <td>...</td>\n      <td>...</td>\n      <td>...</td>\n      <td>...</td>\n      <td>...</td>\n      <td>...</td>\n      <td>...</td>\n      <td>...</td>\n      <td>...</td>\n      <td>...</td>\n      <td>...</td>\n      <td>...</td>\n      <td>...</td>\n      <td>...</td>\n      <td>...</td>\n      <td>...</td>\n      <td>...</td>\n      <td>...</td>\n      <td>...</td>\n    </tr>\n    <tr>\n      <th>6801</th>\n      <td>48511112</td>\n      <td>157114</td>\n      <td>1571</td>\n      <td>Georgia Military College - Dublin</td>\n      <td>Dublin</td>\n      <td>Georgia</td>\n      <td>310215149</td>\n      <td>Southern Association of Colleges and Schools C...</td>\n      <td>https://www.gmc.edu/index.cms</td>\n      <td>NaN</td>\n      <td>...</td>\n      <td>PrivacySuppressed</td>\n      <td>31246</td>\n      <td>314378676</td>\n      <td>551</td>\n      <td>4903237</td>\n      <td>PrivacySuppressed</td>\n      <td>PrivacySuppressed</td>\n      <td>1571</td>\n      <td>Georgia Military College - Dublin</td>\n      <td>dublin , georgia</td>\n    </tr>\n    <tr>\n      <th>6802</th>\n      <td>48511113</td>\n      <td>157115</td>\n      <td>1571</td>\n      <td>Georgia Military College - Eastman</td>\n      <td>Eastman</td>\n      <td>Georgia</td>\n      <td>310236109</td>\n      <td>Southern Association of Colleges and Schools C...</td>\n      <td>https://www.gmc.edu/index.cms</td>\n      <td>NaN</td>\n      <td>...</td>\n      <td>PrivacySuppressed</td>\n      <td>31246</td>\n      <td>314378676</td>\n      <td>551</td>\n      <td>4903237</td>\n      <td>PrivacySuppressed</td>\n      <td>PrivacySuppressed</td>\n      <td>1571</td>\n      <td>Georgia Military College - Eastman</td>\n      <td>eastman , georgia</td>\n    </tr>\n    <tr>\n      <th>6803</th>\n      <td>48616901</td>\n      <td>4204801</td>\n      <td>42048</td>\n      <td>American College of Barbering - Florence</td>\n      <td>Florence</td>\n      <td>Kentucky</td>\n      <td>410421801</td>\n      <td>National Accrediting Commission of Career Arts...</td>\n      <td>NaN</td>\n      <td>NaN</td>\n      <td>...</td>\n      <td>PrivacySuppressed</td>\n      <td>288</td>\n      <td>2748963</td>\n      <td>PrivacySuppressed</td>\n      <td>PrivacySuppressed</td>\n      <td>PrivacySuppressed</td>\n      <td>PrivacySuppressed</td>\n      <td>42048</td>\n      <td>American College of Barbering - Florence</td>\n      <td>florence , kentucky</td>\n    </tr>\n    <tr>\n      <th>6804</th>\n      <td>49005401</td>\n      <td>4182601</td>\n      <td>41826</td>\n      <td>HCI College - Fort Lauderdale Campus</td>\n      <td>Fort Lauderdale</td>\n      <td>Florida</td>\n      <td>33309</td>\n      <td>Accrediting Commission of Career Schools and C...</td>\n      <td>www.hci.edu/</td>\n      <td>NaN</td>\n      <td>...</td>\n      <td>PrivacySuppressed</td>\n      <td>1162</td>\n      <td>19902445</td>\n      <td>25</td>\n      <td>286863</td>\n      <td>PrivacySuppressed</td>\n      <td>PrivacySuppressed</td>\n      <td>41826</td>\n      <td>HCI College - Fort Lauderdale Campus</td>\n      <td>fort lauderdale , florida</td>\n    </tr>\n    <tr>\n      <th>6805</th>\n      <td>49146401</td>\n      <td>4227001</td>\n      <td>42270</td>\n      <td>ABC Adult School - Cabrillo Lane</td>\n      <td>Cerritos</td>\n      <td>California</td>\n      <td>907037748</td>\n      <td>Council on Occupational Education</td>\n      <td>NaN</td>\n      <td>NaN</td>\n      <td>...</td>\n      <td>PrivacySuppressed</td>\n      <td>NaN</td>\n      <td>NaN</td>\n      <td>NaN</td>\n      <td>NaN</td>\n      <td>NaN</td>\n      <td>NaN</td>\n      <td>42270</td>\n      <td>ABC Adult School - Cabrillo Lane</td>\n      <td>cerritos , california</td>\n    </tr>\n  </tbody>\n</table>\n<p>6806 rows × 2385 columns</p>\n</div>"
     },
     "metadata": {},
     "execution_count": 53
    }
   ],
   "source": [
    "df"
   ]
  },
  {
   "cell_type": "code",
   "execution_count": 54,
   "metadata": {},
   "outputs": [
    {
     "output_type": "stream",
     "name": "stdout",
     "text": [
      "        UNITID    OPEID  OPEID6                                INSTNM  \\\n0       100663   105200    1052   University of Alabama at Birmingham   \n1       100690  2503400   25034                    Amridge University   \n2       100706   105500    1055   University of Alabama in Huntsville   \n3       100724   100500    1005              Alabama State University   \n4       100751   105100    1051             The University of Alabama   \n...        ...      ...     ...                                   ...   \n3366  48511103   157101    1571   Georgia Military College - Valdosta   \n3367  48511106   157105    1571     Georgia Military College - Robins   \n3368  48511107   157107    1571   Georgia Military College - Columbus   \n3369  49005401  4182601   41826  HCI College - Fort Lauderdale Campus   \n3370  49146401  4227001   42270      ABC Adult School - Cabrillo Lane   \n\n                 City       State         ZIP  \\\n0          Birmingham     Alabama  35294-0110   \n1          Montgomery     Alabama  36117-3553   \n2          Huntsville     Alabama       35899   \n3          Montgomery     Alabama  36104-0271   \n4          Tuscaloosa     Alabama  35487-0100   \n...               ...         ...         ...   \n3366         Valdosta     Georgia   316057084   \n3367    Warner Robins     Georgia   310930711   \n3368         Columbus     Georgia   319094460   \n3369  Fort Lauderdale     Florida       33309   \n3370         Cerritos  California   907037748   \n\n                                           ACCREDAGENCY  \\\n0     Southern Association of Colleges and Schools C...   \n1     Southern Association of Colleges and Schools C...   \n2     Southern Association of Colleges and Schools C...   \n3     Southern Association of Colleges and Schools C...   \n4     Southern Association of Colleges and Schools C...   \n...                                                 ...   \n3366  Southern Association of Colleges and Schools C...   \n3367  Southern Association of Colleges and Schools C...   \n3368  Southern Association of Colleges and Schools C...   \n3369  Accrediting Commission of Career Schools and C...   \n3370                  Council on Occupational Education   \n\n                            INSTURL  \\\n0               https://www.uab.edu   \n1         www.amridgeuniversity.edu   \n2                       www.uah.edu   \n3                     www.alasu.edu   \n4                       www.ua.edu/   \n...                             ...   \n3366  https://www.gmc.edu/index.cms   \n3367  https://www.gmc.edu/index.cms   \n3368  https://www.gmc.edu/index.cms   \n3369                   www.hci.edu/   \n3370                            NaN   \n\n                                                 NPCURL  ...  LPSTAFFORD_AMT  \\\n0      https://uab.studentaidcalculator.com/survey.aspx  ...      1720042015   \n1                      www2.amridgeuniversity.edu:9091/  ...       174222020   \n2                                       finaid.uah.edu/  ...       407184805   \n3     www.alasu.edu/cost-aid/tuition-costs/net-price...  ...       947070736   \n4             financialaid.ua.edu/net-price-calculator/  ...      1771875477   \n...                                                 ...  ...             ...   \n3366                                                NaN  ...       314378676   \n3367                                                NaN  ...       314378676   \n3368                                                NaN  ...       314378676   \n3369                                                NaN  ...        19902445   \n3370                                                NaN  ...             NaN   \n\n      LPPPLUS_CNT  LPPPLUS_AMT        LPGPLUS_CNT        LPGPLUS_AMT  \\\n0            3727     87421879               3461          134126588   \n1              16       309618                298           16290781   \n2            1397     29789762                144            2377759   \n3            4602     95359062                587           12174367   \n4           11535    619905869               2035           69504249   \n...           ...          ...                ...                ...   \n3366          551      4903237  PrivacySuppressed  PrivacySuppressed   \n3367          551      4903237  PrivacySuppressed  PrivacySuppressed   \n3368          551      4903237  PrivacySuppressed  PrivacySuppressed   \n3369           25       286863  PrivacySuppressed  PrivacySuppressed   \n3370          NaN          NaN                NaN                NaN   \n\n      FEDSCHCD                                      SEARCH_STRING  \\\n0         1052               University of Alabama at Birmingham    \n1        16885  Amridge University Southern Christian Universi...   \n2         1055  University of Alabama in Huntsville UAH  Unive...   \n3         1005                          Alabama State University    \n4         1051                         The University of Alabama    \n...        ...                                                ...   \n3366      1571               Georgia Military College - Valdosta    \n3367      1571                 Georgia Military College - Robins    \n3368      1571               Georgia Military College - Columbus    \n3369     41826              HCI College - Fort Lauderdale Campus    \n3370     42270                  ABC Adult School - Cabrillo Lane    \n\n                Geographic Area     2019            Geographic Area  \n0          birmingham , alabama  209,403       birmingham , alabama  \n1          montgomery , alabama  198,525       montgomery , alabama  \n2          huntsville , alabama  200,574       huntsville , alabama  \n3          montgomery , alabama  198,525       montgomery , alabama  \n4          tuscaloosa , alabama  101,129       tuscaloosa , alabama  \n...                         ...      ...                        ...  \n3366         valdosta , georgia   56,457         valdosta , georgia  \n3367    warner robins , georgia   77,617    warner robins , georgia  \n3368         columbus , georgia  195,769         columbus , georgia  \n3369  fort lauderdale , florida  182,437  fort lauderdale , florida  \n3370      cerritos , california   49,859      cerritos , california  \n\n[3371 rows x 2387 columns]\n"
     ]
    }
   ],
   "source": [
    "import pandas as pd\n",
    "import fuzzy_pandas as fpd\n",
    "\n",
    "matches = fpd.fuzzy_merge(df, df2, on = ['Geographic Area'],\n",
    "                          ignore_case=True,\n",
    "                    method = \"levenshtein\", threshold = 0.9)\n",
    "\n",
    "print(matches)"
   ]
  },
  {
   "cell_type": "code",
   "execution_count": 57,
   "metadata": {},
   "outputs": [
    {
     "output_type": "execute_result",
     "data": {
      "text/plain": [
       "Index(['UNITID', 'OPEID', 'OPEID6', 'INSTNM', 'City', 'State', 'ZIP',\n",
       "       'ACCREDAGENCY', 'INSTURL', 'NPCURL',\n",
       "       ...\n",
       "       'LPSTAFFORD_AMT', 'LPPPLUS_CNT', 'LPPPLUS_AMT', 'LPGPLUS_CNT',\n",
       "       'LPGPLUS_AMT', 'FEDSCHCD', 'SEARCH_STRING', 'Geographic Area', '2019',\n",
       "       'Geographic Area'],\n",
       "      dtype='object', length=2387)"
      ]
     },
     "metadata": {},
     "execution_count": 57
    }
   ],
   "source": [
    "matches.columns"
   ]
  },
  {
   "cell_type": "code",
   "execution_count": 69,
   "metadata": {},
   "outputs": [],
   "source": [
    "count = matches.isna().sum()\n",
    "new_df = (pd.concat([count.rename('missing_count'),\n",
    "                     count.div(len(df))\n",
    "                          .rename('missing_ratio')],axis = 1)\n",
    "             .loc[count.ne(0)])\n"
   ]
  },
  {
   "cell_type": "code",
   "execution_count": 75,
   "metadata": {},
   "outputs": [],
   "source": [
    "new_df = new_df.sort_values(by=['missing_count']).reset_index()"
   ]
  },
  {
   "cell_type": "code",
   "execution_count": 92,
   "metadata": {},
   "outputs": [
    {
     "output_type": "execute_result",
     "data": {
      "text/plain": [
       "0       15.0\n",
       "1       20.0\n",
       "2       16.0\n",
       "3       19.0\n",
       "4       15.0\n",
       "        ... \n",
       "3366     NaN\n",
       "3367     NaN\n",
       "3368     NaN\n",
       "3369     NaN\n",
       "3370     NaN\n",
       "Name: CCBASIC, Length: 3371, dtype: float64"
      ]
     },
     "metadata": {},
     "execution_count": 92
    }
   ],
   "source": [
    "matches[\"CCBASIC\"]"
   ]
  },
  {
   "cell_type": "code",
   "execution_count": 180,
   "metadata": {},
   "outputs": [],
   "source": [
    "columns_of_interest = \"INSTNM,HIGHDEG, REGION, ANNHI, PBI, TRIBAL, HSI, MENONLY, WOMENONLY, ADM_RATE, SATVRMID, SATMTMID, SATWRMID, ACTENMID, SAT_AVG, UGDS_BLACK, UGDS_WHITE, UGDS_HISP, UGDS_ASIAN, UGDS_AIAN, UGDS_NHPI, UGDS_2MOR, UGDS_NRA, UG_NRA, PPTUG_EF, NPT4_PUB, NPT4_PROG, NUM4_PUB, NUM4_PRIV, NUM4_PROG, COSTT4_A, TUITIONFEE_IN, TUITIONFEE_OUT, AVGFACSAL, PFTFAC, PCTPELL, C150_4, C150_L4, PFTFTUG1_EF, D150_4, INC_PCT_LO, DEP_STAT_PCT_IND, IND_INC_PCT_LO, DEP_INC_PCT_LO, PAR_ED_PCT_1STGEN, INC_PCT_M1, INC_PCT_M2, INC_PCT_H1, INC_PCT_H2, IND_INC_PCT_H2, PAR_ED_PCT_MS, PAR_ED_PCT_HS, PAR_ED_PCT_PS, DEP_INC_AVG, IND_INC_AVG, LO_INC_YR4_N, HI_INC_YR4_N, DEP_YR4_N,IND_YR4_N, LOAN_YR4_N, NOLOAN_YR4_N, FIRSTGEN_YR4_N, DEBT_MDN, GRAD_DEBT_MDN, WDRAW_DEBT_MDN, LO_INC_DEBT_MDN, MD_INC_DEBT_MDN, HI_INC_DEBT_MDN, HI_INC_DEBT_MDN, IND_DEBT_MDN, PELL_DEBT_MDN, FEMALE_DEBT_MDN, MALE_DEBT_MDN, NOTFIRSTGEN_DEBT_MDN, FIRSTGEN_DEBT_MDN, INC_N, DEP_INC_N, PAR_ED_N, PELL_EVER, AGE_ENTRY, AGE_ENTRY_SQ, AGEGE24, FEMALE, MARRIED, VETERAN, DEPENDENT, FIRST_GEN, FAMINC, MD_FAMINC, FAMINC_IND, LNFAMINC, LNFAMINC_IND, PCT_WHITE, PCT_BLACK, PCT_ASIAN, PCT_BA, PCT_GRAD_PROF, PCT_BORN_US, MEDIAN_HH_INC, POVERTY_RATE, UNEMP_RATE, LN_MEDIAN_HH_INC, MD_EARN_WNE_P10, COUNT_NWNE_P10, MN_EARN_WNE_P10, MD_EARN_WNE_P10, COUNT_WNE_INDEP1_P10, COUNT_WNE_MALE0_P10, DEBT_MDN_SUPP, HIGHDEG, CONTROL, CCBASIC, 2019\""
   ]
  },
  {
   "cell_type": "code",
   "execution_count": 181,
   "metadata": {},
   "outputs": [],
   "source": [
    "columns_of_interest = columns_of_interest.split(\",\")\n",
    "k = [x.replace(' ', '') for x in columns_of_interest]\n"
   ]
  },
  {
   "cell_type": "code",
   "execution_count": 182,
   "metadata": {},
   "outputs": [],
   "source": [
    "raw_data = matches.copy()[k]\n"
   ]
  },
  {
   "cell_type": "code",
   "execution_count": 184,
   "metadata": {},
   "outputs": [],
   "source": [
    "raw_data.rename({'2019': 'population_2019'}, axis=1, inplace=True)\n"
   ]
  },
  {
   "cell_type": "code",
   "execution_count": 186,
   "metadata": {},
   "outputs": [],
   "source": [
    "raw_data.to_csv(\"raw_data.csv\")"
   ]
  },
  {
   "cell_type": "code",
   "execution_count": 187,
   "metadata": {},
   "outputs": [],
   "source": [
    "outcomes = new_df.copy().loc[new_df['index'].isin([\"MD_EARN_WNE_P6\",\"MN_EARN_WNE_P7\",\"MD_EARN_WNE_P8\",\"MD_EARN_WNE_P10\",\"MN_EARN_WNE_P9\"])]\n"
   ]
  },
  {
   "cell_type": "code",
   "execution_count": 189,
   "metadata": {},
   "outputs": [],
   "source": [
    "outcomes.to_csv(\"outcomes.csv\")"
   ]
  },
  {
   "cell_type": "code",
   "execution_count": 169,
   "metadata": {},
   "outputs": [],
   "source": [
    "data_columns = new_df.copy().loc[new_df['index'].isin(k)]\n"
   ]
  },
  {
   "cell_type": "code",
   "execution_count": 170,
   "metadata": {},
   "outputs": [],
   "source": [
    "labels = \"Median debt, The median debt for not-first-generation students, The median debt for first-generation students, The median debt for male students, The median debt for female students, The median debt for Pell students, The median debt for independent students,  The median debt for students with family income $75001, The median debt for students with family income between 30001-$75000, The median debt for students with family income between$0-$30000,The median debt for students who have completed, The median original amount of the loan principal upon entering repayment, Number of first-generation students in overall 4-year completion,  Number of no-loan students in overall 4-year completion cohort,Number of loan students in overall 4-year completion cohort, Number of dependent students in overall 4-year completion cohort, Number of independent students in overall 4-year completion cohort, Number of high-income (above $75000 in nominal family income) students in overall 4-year completion cohort,Number of students in overall 4-year completion cohort completion.4_yr_completion.low_income,Flag for men-only college,Flag for women-only college,Carnegie Classification -- basic, Flag for Hispanic-serving institution,Flag for Alaska Native Native Hawaiian serving institution, Flag for Historically Black College and University school, Flag for predominantly black institution,Number of students in the parents' education level cohort,Average family income for independent students in real 2015 dollars,Median family income in real 2015 dollars,Average family income in real 2015 dollars, Share of first-generation students,Share of veteran students, Share of dependent students, Share of married students, Share of female students,Average age of entry,Share of students who received a Pell Grant while in school,Number of students in the family income cohort, Number of students in the family income dependent students cohort, Percentage of students who are financially independent and have family incomes between $0-30000, Percentage of students who are financially dependent and have family incomes between $0-30000,Percentage first-generation studentsstudent.share_middleincome.30001_48000, Aided students with family incomes between $30001-$48000in nominal dollars,Aided students with family incomes between $48,001-$75,000 in nominal dollars,Aided students with family incomes between $75,001-$110,000 in nominal dollars, Aided students with family incomes between $110001+ in nominal dollars, Percentage of students who are financially independent,Independent students with family incomes between $110001+ in nominal dollars, Percent of students whose parents' highest educational level is middle school,Percent of students whose parents' highest educational level is high school,Percent of students whose parents' highest educational level was is some form of postsecondary education,Average family income of dependent students in real 2015 dollars,Average family income of independent students in real 2015 dollars,Percentage of aided students whose family income is between $0-$30000,Total share of enrollment of undergraduate degree-seeking students who are white,Total share of enrollment of undergraduate degree-seeking students who are black,Total share of enrollment of undergraduate degree-seekingstudents who are American Indian/Alaska Native,Total share of enrollment of undergraduate degree-seeking students who are Asian, Total share of enrollment of undergraduate degree-seeking students who are Native Hawaiian/Pacific Islander, Total share of enrollment of undergraduate degree-seeking students who are two or more races, Total share of enrollment of undergraduate degree-seeking students who are non-resident aliens,Percentage of undergraduates who receive a Pell Grant, Share of undergraduate degree-/certificate-seeking students who are part-time, Median earnings of students working and not enrolled 10 years after entry,Mean earnings of students working and not enrolled 10 years after entry,Number of students not working and not enrolled 10 years after entry, Number of female students working and not enrolled 10 years after entry,number of independent students working and not enrolled 10 years after entry, Percent of the population from students' zip codes over 25 with a professional degree,Percent of the population from students' zip codes that is Asian,Percent of the population from students' zip codes that is black,Percent of the population from students' zip codes that is white,Poverty rate, Percent of students over 23 at entry, unempolyment rate, Percent of the population from students' zip codes that was born in the US,Log of the median household income,Median household income,Percent of the population from students' zip codes with a bachelor's degree over the age 25,Number of Title IV students (private for-profit and nonprofit institutions),Average faculty salary, In-state tuition and fees, Proportion of faculty that is full-time, Completion rate for first-time full-time students at less-than-four-year institutions (150% of expected time to completion), Out-of-state tuition and fees, Average cost of attendance (academic year institutions),Completion rate for first-time full-time students at four-year institutions (150% of expected time to completion),Adjusted cohort count for completion rate at four-year institutions, Admission rate,Average net price for Title IV institutions (public institutions),  Number of Title IV students (public institutions),Average SAT equivalent score of students admitted, Midpoint of SAT scores at the institution (math),Midpoint of the ACT English score, Midpoint of SAT scores at the institution (writing), Total share of enrollment of undergraduate students who are non-resident,Average of the age of entry squared,Number of Title IV students (program-year institutions),Average of the log of family income for independent students,Average of the log of family income, Average net price for the largest program at the institution for program-year institutions\""
   ]
  },
  {
   "cell_type": "code",
   "execution_count": 171,
   "metadata": {},
   "outputs": [],
   "source": [
    "labels = labels.split(\",\")\n",
    "#k = [x.replace(' ', '') for x in columns_of_interest]\n"
   ]
  },
  {
   "cell_type": "code",
   "execution_count": 172,
   "metadata": {},
   "outputs": [],
   "source": [
    "data_columns[\"label\"] = np.asarray(labels)"
   ]
  },
  {
   "cell_type": "code",
   "execution_count": 174,
   "metadata": {},
   "outputs": [],
   "source": [
    "data_columns.rename({'index': 'Variable'}, axis=1, inplace=True)\n"
   ]
  },
  {
   "cell_type": "code",
   "execution_count": 190,
   "metadata": {},
   "outputs": [],
   "source": [
    "data_columns.to_csv(\"Database_clean_data.csv\")"
   ]
  },
  {
   "cell_type": "code",
   "execution_count": 201,
   "metadata": {},
   "outputs": [],
   "source": [
    "df23 = pd.read_csv(\"/Users/asmaaaly/Minerva/SF_spring/SS154/SS154-assignment/Data/salaries-by-college-type.csv\",header=0)"
   ]
  },
  {
   "cell_type": "code",
   "execution_count": 239,
   "metadata": {},
   "outputs": [],
   "source": [
    "raw_data = pd.read_csv(\"/Users/asmaaaly/Minerva/SF_spring/SS154/SS154-assignment/raw_data.csv\",header=0,index_col=0)\n",
    "\n"
   ]
  },
  {
   "cell_type": "code",
   "execution_count": 240,
   "metadata": {},
   "outputs": [],
   "source": [
    "raw_data.rename({'INSTNM': 'school_name'}, axis=1, inplace=True)"
   ]
  },
  {
   "cell_type": "code",
   "execution_count": 243,
   "metadata": {},
   "outputs": [],
   "source": [
    "df23.rename({'School Name': 'school_name'}, axis=1, inplace=True)"
   ]
  },
  {
   "cell_type": "code",
   "execution_count": 223,
   "metadata": {},
   "outputs": [],
   "source": [
    "raw_data = raw_data.drop_duplicates()\n",
    "df23 = df23.drop_duplicates()\n"
   ]
  },
  {
   "cell_type": "code",
   "execution_count": 245,
   "metadata": {},
   "outputs": [],
   "source": [
    "\n",
    "school_stype = fpd.fuzzy_merge(raw_data, df23, on = ['school_name'],\n",
    "                          ignore_case=True,\n",
    "                    method = \"levenshtein\", threshold = 0.9)"
   ]
  },
  {
   "cell_type": "code",
   "execution_count": 246,
   "metadata": {},
   "outputs": [
    {
     "output_type": "execute_result",
     "data": {
      "text/plain": [
       "Occidental College        3       8    0.0  0.0   \n",
       "8                               Yale University        4       1    0.0  0.0   \n",
       "9                      Georgia State University        4       5    0.0  1.0   \n",
       "10                       Idaho State University        4       7    0.0  0.0   \n",
       "11                            DePaul University        4       3    0.0  0.0   \n",
       "12            University of Illinois at Chicago        4       3    0.0  0.0   \n",
       "13                        Iowa State University        4       4    0.0  0.0   \n",
       "14                         University of Kansas        4       4    0.0  0.0   \n",
       "15                         University of Kansas        4       4    0.0  0.0   \n",
       "16                 University of Southern Maine        4       1    0.0  0.0   \n",
       "17                           Harvard University        4       1    0.0  0.0   \n",
       "18                    College of the Holy Cross        3       1    0.0  0.0   \n",
       "19            Wentworth Institute of Technology        4       1    0.0  0.0   \n",
       "20                       Wayne State University        4       3    0.0  0.0   \n",
       "21                  Western Michigan University        4       3    0.0  0.0   \n",
       "22              University of Missouri-Columbia        4       4    0.0  0.0   \n",
       "23            Montana State University Billings        4       7    0.0  0.0   \n",
       "24              University of Nebraska at Omaha        4       4    0.0  0.0   \n",
       "25                                Union College        4       4    0.0  0.0   \n",
       "26              Stevens Institute of Technology        4       2    0.0  0.0   \n",
       "27                                Union College        3       2    0.0  0.0   \n",
       "28                   University of North Dakota        4       4    0.0  0.0   \n",
       "29                   Cleveland State University        4       3    0.0  0.0   \n",
       "30                         University of Toledo        4       3    0.0  0.0   \n",
       "31                        Wittenberg University        4       3    0.0  0.0   \n",
       "32                        Lewis & Clark College        4       8    0.0  0.0   \n",
       "33                         University of Oregon        4       8    0.0  0.0   \n",
       "34                                 Reed College        4       8    0.0  0.0   \n",
       "35                Franklin and Marshall College        3       2    0.0  0.0   \n",
       "36                             Moravian College        4       2    0.0  0.0   \n",
       "37                   University of Pennsylvania        4       2    0.0  0.0   \n",
       "38                             Brown University        4       1    0.0  0.0   \n",
       "39  South Dakota School of Mines and Technology        4       4    0.0  0.0   \n",
       "40                 Austin Peay State University        4       5    0.0  0.0   \n",
       "41                             Lamar University        4       6    0.0  0.0   \n",
       "42                        Utah State University        4       7    0.0  0.0   \n",
       "43                           University of Utah        4       7    0.0  0.0   \n",
       "44                    University of Puget Sound        4       8    0.0  0.0   \n",
       "45                Western Washington University        4       8    0.0  0.0   \n",
       "46                Western Washington University        4       8    0.0  0.0   \n",
       "\n",
       "    TRIBAL  HSI  MENONLY  WOMENONLY  ADM_RATE  ...  CCBASIC  population_2019  \\\n",
       "0      0.0  0.0      0.0        0.0    0.7543  ...     15.0           66,259   \n",
       "1      0.0  1.0      0.0        0.0    0.8442  ...     15.0          548,073   \n",
       "2      0.0  0.0      0.0        0.0    0.7747  ...     15.0           87,590   \n",
       "3      0.0  0.0      0.0        0.0    0.7747  ...     15.0           87,590   \n",
       "4      0.0  0.0      0.0        0.0    0.1484  ...     15.0          121,363   \n",
       "5      0.0  0.0      0.0        0.0    0.4107  ...     15.0           69,413   \n",
       "6      0.0  1.0      0.0        0.0    0.7679  ...     19.0           57,939   \n",
       "7      0.0  0.0      0.0        0.0    0.3730  ...     21.0        3,979,576   \n",
       "8      0.0  0.0      0.0        0.0    0.0635  ...     15.0          130,250   \n",
       "9      0.0  0.0      0.0        0.0    0.7137  ...     15.0          506,811   \n",
       "10     0.0  0.0      0.0        0.0       NaN  ...     16.0           56,637   \n",
       "11     0.0  0.0      0.0        0.0    0.6753  ...     16.0        2,693,976   \n",
       "12     0.0  1.0      0.0        0.0    0.7555  ...     15.0        2,693,976   \n",
       "13     0.0  0.0      0.0        0.0    0.9060  ...     15.0           66,258   \n",
       "14     0.0  0.0      0.0        0.0    0.9171  ...     15.0           98,193   \n",
       "15     0.0  0.0      0.0        0.0    0.9171  ...     15.0           98,193   \n",
       "16     0.0  0.0      0.0        0.0    0.8543  ...     18.0           66,215   \n",
       "17     0.0  0.0      0.0        0.0    0.0473  ...     15.0          118,927   \n",
       "18     0.0  0.0      0.0        0.0    0.3801  ...     21.0          185,428   \n",
       "19     0.0  0.0      0.0        0.0    0.7604  ...     19.0          692,600   \n",
       "20     0.0  0.0      0.0        0.0    0.7115  ...     15.0          670,031   \n",
       "21     0.0  0.0      0.0        0.0    0.8110  ...     16.0           76,200   \n",
       "22     0.0  0.0      0.0        0.0    0.7784  ...     15.0          123,195   \n",
       "23     0.0  0.0      0.0        0.0       NaN  ...     19.0          109,577   \n",
       "24     0.0  0.0      0.0        0.0    0.8168  ...     16.0          478,192   \n",
       "25     0.0  0.0      0.0        0.0    0.9606  ...     22.0          289,102   \n",
       "26     0.0  0.0      0.0        0.0    0.4142  ...     16.0           52,677   \n",
       "27     0.0  0.0      0.0        0.0    0.3868  ...     21.0           65,273   \n",
       "28     0.0  0.0      0.0        0.0    0.8221  ...     16.0           55,839   \n",
       "29     0.0  0.0      0.0        0.0    0.8834  ...     16.0          381,009   \n",
       "30     0.0  0.0      0.0        0.0    0.9365  ...     16.0          272,779   \n",
       "31     0.0  0.0      0.0        0.0    0.7373  ...     21.0           58,877   \n",
       "32     0.0  0.0      0.0        0.0    0.7376  ...     21.0          654,741   \n",
       "33     0.0  0.0      0.0        0.0    0.8337  ...     15.0          172,622   \n",
       "34     0.0  0.0      0.0        0.0    0.3503  ...     21.0          654,741   \n",
       "35     0.0  0.0      0.0        0.0    0.3532  ...     21.0           59,265   \n",
       "36     0.0  0.0      0.0        0.0    0.7282  ...     21.0           75,815   \n",
       "37     0.0  0.0      0.0        0.0    0.0841  ...     15.0        1,584,064   \n",
       "38     0.0  0.0      0.0        0.0    0.0767  ...     15.0          179,883   \n",
       "39     0.0  0.0      0.0        0.0    0.8332  ...     27.0           77,503   \n",
       "40     0.0  0.0      0.0        0.0    0.9378  ...     18.0          158,146   \n",
       "41     0.0  0.0      0.0        0.0    0.8432  ...     17.0          116,825   \n",
       "42     0.0  0.0      0.0        0.0    0.8905  ...     16.0           51,542   \n",
       "43     0.0  0.0      0.0        0.0    0.6686  ...     15.0          200,567   \n",
       "44     0.0  0.0      0.0        0.0    0.8831  ...     21.0          217,827   \n",
       "45     0.0  0.0      0.0        0.0    0.8766  ...     18.0           92,314   \n",
       "46     0.0  0.0      0.0        0.0    0.8766  ...     18.0           92,314   \n",
       "\n",
       "                                  school_name   School Type  \\\n",
       "0                           Auburn University         State   \n",
       "1                       University of Arizona         State   \n",
       "2                      University of Arkansas         State   \n",
       "3                        University of Kansas         State   \n",
       "4          University of California, Berkeley         State   \n",
       "5             University of California, Davis         State   \n",
       "6                   Humboldt State University         State   \n",
       "7                          Occidental College  Liberal Arts   \n",
       "8                             Yale University    Ivy League   \n",
       "9                    Georgia State University         State   \n",
       "10                     Idaho State University         State   \n",
       "11                          DePauw University  Liberal Arts   \n",
       "12          University of Illinois at Chicago         State   \n",
       "13                      Iowa State University         State   \n",
       "14                     University of Arkansas         State   \n",
       "15                       University of Kansas         State   \n",
       "16               University of Southern Maine         State   \n",
       "17                         Harvard University    Ivy League   \n",
       "18                  College of the Holy Cross  Liberal Arts   \n",
       "19          Wentworth Institute of Technology   Engineering   \n",
       "20                     Wayne State University         State   \n",
       "21                Eastern Michigan University         State   \n",
       "22          University of Missouri - Columbia         State   \n",
       "23        Montana State University - Billings         State   \n",
       "24            University of Nebraska at Omaha         State   \n",
       "25                              Union College  Liberal Arts   \n",
       "26            Stevens Institute of Technology   Engineering   \n",
       "27                              Union College  Liberal Arts   \n",
       "28                 University of North Dakota         State   \n",
       "29                 Cleveland State University         State   \n",
       "30                       University of Toledo         State   \n",
       "31                      Wittenberg University  Liberal Arts   \n",
       "32                      Lewis & Clark College  Liberal Arts   \n",
       "33                       University of Oregon         State   \n",
       "34                               Reed College  Liberal Arts   \n",
       "35              Franklin and Marshall College  Liberal Arts   \n",
       "36                           Moravian College  Liberal Arts   \n",
       "37                 University of Pennsylvania    Ivy League   \n",
       "38                           Brown University    Ivy League   \n",
       "39  South Dakota School of Mines & Technology   Engineering   \n",
       "40               Austin Peay State University         State   \n",
       "41                           Lamar University         State   \n",
       "42                      Utah State University         State   \n",
       "43                         University of Utah         State   \n",
       "44                  University of Puget Sound  Liberal Arts   \n",
       "45              Western Washington University         State   \n",
       "46              Eastern Washington University         State   \n",
       "\n",
       "    Starting Median Salary  Mid-Career Median Salary  \\\n",
       "0               $45,400.00                $84,700.00   \n",
       "1               $47,500.00                $86,100.00   \n",
       "2               $44,100.00                $82,800.00   \n",
       "3               $42,400.00                $81,600.00   \n",
       "4               $59,900.00               $112,000.00   \n",
       "5               $52,300.00                $99,600.00   \n",
       "6               $42,600.00                $71,300.00   \n",
       "7               $51,900.00               $105,000.00   \n",
       "8               $59,100.00               $126,000.00   \n",
       "9               $41,800.00                $74,000.00   \n",
       "10              $44,900.00                $73,400.00   \n",
       "11              $41,400.00                $88,300.00   \n",
       "12              $47,500.00                $81,700.00   \n",
       "13              $45,400.00                $84,600.00   \n",
       "14              $44,100.00                $82,800.00   \n",
       "15              $42,400.00                $81,600.00   \n",
       "16              $39,400.00                $63,600.00   \n",
       "17              $63,400.00               $124,000.00   \n",
       "18              $50,200.00               $106,000.00   \n",
       "19              $53,000.00                $96,700.00   \n",
       "20              $42,800.00                $76,100.00   \n",
       "21              $40,300.00                $72,100.00   \n",
       "22              $41,700.00                $81,000.00   \n",
       "23              $37,900.00                $50,600.00   \n",
       "24              $41,500.00                $72,600.00   \n",
       "25              $47,200.00                $95,800.00   \n",
       "26              $60,600.00               $105,000.00   \n",
       "27              $47,200.00                $95,800.00   \n",
       "28              $44,000.00                $80,600.00   \n",
       "29              $43,500.00                $73,100.00   \n",
       "30              $43,100.00                $75,900.00   \n",
       "31              $39,200.00                $78,200.00   \n",
       "32              $38,900.00                $72,600.00   \n",
       "33              $42,200.00                $78,400.00   \n",
       "34              $40,500.00                $81,100.00   \n",
       "35              $49,100.00                $92,800.00   \n",
       "36              $42,500.00                $74,400.00   \n",
       "37              $60,900.00               $120,000.00   \n",
       "38              $56,200.00               $109,000.00   \n",
       "39              $55,800.00                $93,400.00   \n",
       "40              $37,700.00                $59,200.00   \n",
       "41              $46,500.00                $79,400.00   \n",
       "42              $43,800.00                $78,700.00   \n",
       "43              $45,400.00                $83,200.00   \n",
       "44              $46,600.00                $81,500.00   \n",
       "45              $42,700.00                $75,400.00   \n",
       "46              $38,600.00                $70,900.00   \n",
       "\n",
       "    Mid-Career 10th Percentile Salary  Mid-Career 25th Percentile Salary  \\\n",
       "0                          $45,400.00                         $62,700.00   \n",
       "1                          $44,800.00                         $61,700.00   \n",
       "2                          $43,200.00                         $60,700.00   \n",
       "3                          $44,800.00                         $57,200.00   \n",
       "4                          $59,500.00                         $81,000.00   \n",
       "5                          $52,000.00                         $71,600.00   \n",
       "6                          $36,000.00                         $56,300.00   \n",
       "7                                 NaN                         $54,800.00   \n",
       "8                          $58,000.00                         $80,600.00   \n",
       "9                          $43,000.00                         $55,300.00   \n",
       "10                         $35,400.00                         $49,600.00   \n",
       "11                         $49,500.00                         $57,400.00   \n",
       "12                         $44,700.00                         $58,800.00   \n",
       "13                         $44,400.00                         $60,000.00   \n",
       "14                         $43,200.00                         $60,700.00   \n",
       "15                         $44,800.00                         $57,200.00   \n",
       "16                         $40,400.00                         $47,900.00   \n",
       "17                         $54,800.00                         $86,200.00   \n",
       "18                                NaN                         $65,600.00   \n",
       "19                         $55,200.00                         $74,000.00   \n",
       "20                         $40,100.00                         $56,200.00   \n",
       "21                         $37,900.00                         $52,800.00   \n",
       "22                         $43,500.00                         $57,100.00   \n",
       "23                         $22,600.00                         $31,800.00   \n",
       "24                         $39,500.00                         $54,400.00   \n",
       "25                         $48,700.00                         $75,200.00   \n",
       "26                         $68,700.00                         $81,900.00   \n",
       "27                         $48,700.00                         $75,200.00   \n",
       "28                         $43,400.00                         $56,400.00   \n",
       "29                         $39,500.00                         $51,600.00   \n",
       "30                         $40,100.00                         $54,100.00   \n",
       "31                                NaN                         $54,100.00   \n",
       "32                         $38,200.00                         $53,400.00   \n",
       "33                         $38,100.00                         $56,200.00   \n",
       "34                                NaN                         $67,400.00   \n",
       "35                                NaN                         $55,800.00   \n",
       "36                                NaN                         $56,700.00   \n",
       "37                         $55,900.00                         $79,200.00   \n",
       "38                         $55,400.00                         $74,400.00   \n",
       "39                         $71,500.00                         $81,900.00   \n",
       "40                         $32,200.00                         $40,500.00   \n",
       "41                         $38,700.00                         $51,600.00   \n",
       "42                         $41,600.00                         $55,400.00   \n",
       "43                         $43,000.00                         $58,400.00   \n",
       "44                         $48,900.00                         $60,100.00   \n",
       "45                         $41,300.00                         $56,700.00   \n",
       "46                         $36,000.00                         $50,500.00   \n",
       "\n",
       "    Mid-Career 75th Percentile Salary  Mid-Career 90th Percentile Salary  \n",
       "0                         $109,000.00                        $145,000.00  \n",
       "1                         $117,000.00                        $160,000.00  \n",
       "2                         $113,000.00                        $160,000.00  \n",
       "3                         $115,000.00                        $156,000.00  \n",
       "4                         $149,000.00                        $201,000.00  \n",
       "5                         $135,000.00                        $202,000.00  \n",
       "6                          $94,400.00                        $117,000.00  \n",
       "7                         $157,000.00                                NaN  \n",
       "8                         $198,000.00                        $326,000.00  \n",
       "9                          $99,900.00                        $145,000.00  \n",
       "10                        $101,000.00                        $143,000.00  \n",
       "11                        $133,000.00                        $185,000.00  \n",
       "12                        $110,000.00                        $146,000.00  \n",
       "13                        $109,000.00                        $147,000.00  \n",
       "14                        $113,000.00                        $160,000.00  \n",
       "15                        $115,000.00                        $156,000.00  \n",
       "16                         $85,700.00                        $117,000.00  \n",
       "17                        $179,000.00                        $288,000.00  \n",
       "18                        $143,000.00                                NaN  \n",
       "19                        $117,000.00                        $153,000.00  \n",
       "20                        $101,000.00                        $139,000.00  \n",
       "21                         $95,400.00                        $135,000.00  \n",
       "22                        $111,000.00                        $156,000.00  \n",
       "23                         $78,500.00                         $98,900.00  \n",
       "24                         $97,400.00                        $126,000.00  \n",
       "25                        $135,000.00                        $230,000.00  \n",
       "26                        $138,000.00                        $185,000.00  \n",
       "27                        $135,000.00                        $230,000.00  \n",
       "28                        $111,000.00                        $157,000.00  \n",
       "29                         $97,000.00                        $137,000.00  \n",
       "30                        $100,000.00                        $133,000.00  \n",
       "31                        $131,000.00                                NaN  \n",
       "32                        $104,000.00                        $140,000.00  \n",
       "33                        $117,000.00                        $186,000.00  \n",
       "34                        $101,000.00                                NaN  \n",
       "35                        $185,000.00                                NaN  \n",
       "36                         $94,900.00                                NaN  \n",
       "37                        $192,000.00                        $282,000.00  \n",
       "38                        $159,000.00                        $228,000.00  \n",
       "39                        $122,000.00                        $147,000.00  \n",
       "40                         $73,900.00                         $96,200.00  \n",
       "41                        $114,000.00                        $158,000.00  \n",
       "42                        $101,000.00                        $132,000.00  \n",
       "43                        $116,000.00                        $148,000.00  \n",
       "44                        $104,000.00                        $137,000.00  \n",
       "45                         $99,200.00                        $119,000.00  \n",
       "46                         $93,100.00                        $117,000.00  \n",
       "\n",
       "[47 rows x 121 columns]"
      ],
      "text/html": "<div>\n<style scoped>\n    .dataframe tbody tr th:only-of-type {\n        vertical-align: middle;\n    }\n\n    .dataframe tbody tr th {\n        vertical-align: top;\n    }\n\n    .dataframe thead th {\n        text-align: right;\n    }\n</style>\n<table border=\"1\" class=\"dataframe\">\n  <thead>\n    <tr style=\"text-align: right;\">\n      <th></th>\n      <th>school_name</th>\n      <th>HIGHDEG</th>\n      <th>REGION</th>\n      <th>ANNHI</th>\n      <th>PBI</th>\n      <th>TRIBAL</th>\n      <th>HSI</th>\n      <th>MENONLY</th>\n      <th>WOMENONLY</th>\n      <th>ADM_RATE</th>\n      <th>...</th>\n      <th>CCBASIC</th>\n      <th>population_2019</th>\n      <th>school_name</th>\n      <th>School Type</th>\n      <th>Starting Median Salary</th>\n      <th>Mid-Career Median Salary</th>\n      <th>Mid-Career 10th Percentile Salary</th>\n      <th>Mid-Career 25th Percentile Salary</th>\n      <th>Mid-Career 75th Percentile Salary</th>\n      <th>Mid-Career 90th Percentile Salary</th>\n    </tr>\n  </thead>\n  <tbody>\n    <tr>\n      <th>0</th>\n      <td>Auburn University</td>\n      <td>4</td>\n      <td>5</td>\n      <td>0.0</td>\n      <td>0.0</td>\n      <td>0.0</td>\n      <td>0.0</td>\n      <td>0.0</td>\n      <td>0.0</td>\n      <td>0.7543</td>\n      <td>...</td>\n      <td>15.0</td>\n      <td>66,259</td>\n      <td>Auburn University</td>\n      <td>State</td>\n      <td>$45,400.00</td>\n      <td>$84,700.00</td>\n      <td>$45,400.00</td>\n      <td>$62,700.00</td>\n      <td>$109,000.00</td>\n      <td>$145,000.00</td>\n    </tr>\n    <tr>\n      <th>1</th>\n      <td>University of Arizona</td>\n      <td>4</td>\n      <td>6</td>\n      <td>0.0</td>\n      <td>0.0</td>\n      <td>0.0</td>\n      <td>1.0</td>\n      <td>0.0</td>\n      <td>0.0</td>\n      <td>0.8442</td>\n      <td>...</td>\n      <td>15.0</td>\n      <td>548,073</td>\n      <td>University of Arizona</td>\n      <td>State</td>\n      <td>$47,500.00</td>\n      <td>$86,100.00</td>\n      <td>$44,800.00</td>\n      <td>$61,700.00</td>\n      <td>$117,000.00</td>\n      <td>$160,000.00</td>\n    </tr>\n    <tr>\n      <th>2</th>\n      <td>University of Arkansas</td>\n      <td>4</td>\n      <td>5</td>\n      <td>0.0</td>\n      <td>0.0</td>\n      <td>0.0</td>\n      <td>0.0</td>\n      <td>0.0</td>\n      <td>0.0</td>\n      <td>0.7747</td>\n      <td>...</td>\n      <td>15.0</td>\n      <td>87,590</td>\n      <td>University of Arkansas</td>\n      <td>State</td>\n      <td>$44,100.00</td>\n      <td>$82,800.00</td>\n      <td>$43,200.00</td>\n      <td>$60,700.00</td>\n      <td>$113,000.00</td>\n      <td>$160,000.00</td>\n    </tr>\n    <tr>\n      <th>3</th>\n      <td>University of Arkansas</td>\n      <td>4</td>\n      <td>5</td>\n      <td>0.0</td>\n      <td>0.0</td>\n      <td>0.0</td>\n      <td>0.0</td>\n      <td>0.0</td>\n      <td>0.0</td>\n      <td>0.7747</td>\n      <td>...</td>\n      <td>15.0</td>\n      <td>87,590</td>\n      <td>University of Kansas</td>\n      <td>State</td>\n      <td>$42,400.00</td>\n      <td>$81,600.00</td>\n      <td>$44,800.00</td>\n      <td>$57,200.00</td>\n      <td>$115,000.00</td>\n      <td>$156,000.00</td>\n    </tr>\n    <tr>\n      <th>4</th>\n      <td>University of California-Berkeley</td>\n      <td>4</td>\n      <td>8</td>\n      <td>0.0</td>\n      <td>0.0</td>\n      <td>0.0</td>\n      <td>0.0</td>\n      <td>0.0</td>\n      <td>0.0</td>\n      <td>0.1484</td>\n      <td>...</td>\n      <td>15.0</td>\n      <td>121,363</td>\n      <td>University of California, Berkeley</td>\n      <td>State</td>\n      <td>$59,900.00</td>\n      <td>$112,000.00</td>\n      <td>$59,500.00</td>\n      <td>$81,000.00</td>\n      <td>$149,000.00</td>\n      <td>$201,000.00</td>\n    </tr>\n    <tr>\n      <th>5</th>\n      <td>University of California-Davis</td>\n      <td>4</td>\n      <td>8</td>\n      <td>0.0</td>\n      <td>0.0</td>\n      <td>0.0</td>\n      <td>0.0</td>\n      <td>0.0</td>\n      <td>0.0</td>\n      <td>0.4107</td>\n      <td>...</td>\n      <td>15.0</td>\n      <td>69,413</td>\n      <td>University of California, Davis</td>\n      <td>State</td>\n      <td>$52,300.00</td>\n      <td>$99,600.00</td>\n      <td>$52,000.00</td>\n      <td>$71,600.00</td>\n      <td>$135,000.00</td>\n      <td>$202,000.00</td>\n    </tr>\n    <tr>\n      <th>6</th>\n      <td>Humboldt State University</td>\n      <td>4</td>\n      <td>8</td>\n      <td>0.0</td>\n      <td>0.0</td>\n      <td>0.0</td>\n      <td>1.0</td>\n      <td>0.0</td>\n      <td>0.0</td>\n      <td>0.7679</td>\n      <td>...</td>\n      <td>19.0</td>\n      <td>57,939</td>\n      <td>Humboldt State University</td>\n      <td>State</td>\n      <td>$42,600.00</td>\n      <td>$71,300.00</td>\n      <td>$36,000.00</td>\n      <td>$56,300.00</td>\n      <td>$94,400.00</td>\n      <td>$117,000.00</td>\n    </tr>\n    <tr>\n      <th>7</th>\n      <td>Occidental College</td>\n      <td>3</td>\n      <td>8</td>\n      <td>0.0</td>\n      <td>0.0</td>\n      <td>0.0</td>\n      <td>0.0</td>\n      <td>0.0</td>\n      <td>0.0</td>\n      <td>0.3730</td>\n      <td>...</td>\n      <td>21.0</td>\n      <td>3,979,576</td>\n      <td>Occidental College</td>\n      <td>Liberal Arts</td>\n      <td>$51,900.00</td>\n      <td>$105,000.00</td>\n      <td>NaN</td>\n      <td>$54,800.00</td>\n      <td>$157,000.00</td>\n      <td>NaN</td>\n    </tr>\n    <tr>\n      <th>8</th>\n      <td>Yale University</td>\n      <td>4</td>\n      <td>1</td>\n      <td>0.0</td>\n      <td>0.0</td>\n      <td>0.0</td>\n      <td>0.0</td>\n      <td>0.0</td>\n      <td>0.0</td>\n      <td>0.0635</td>\n      <td>...</td>\n      <td>15.0</td>\n      <td>130,250</td>\n      <td>Yale University</td>\n      <td>Ivy League</td>\n      <td>$59,100.00</td>\n      <td>$126,000.00</td>\n      <td>$58,000.00</td>\n      <td>$80,600.00</td>\n      <td>$198,000.00</td>\n      <td>$326,000.00</td>\n    </tr>\n    <tr>\n      <th>9</th>\n      <td>Georgia State University</td>\n      <td>4</td>\n      <td>5</td>\n      <td>0.0</td>\n      <td>1.0</td>\n      <td>0.0</td>\n      <td>0.0</td>\n      <td>0.0</td>\n      <td>0.0</td>\n      <td>0.7137</td>\n      <td>...</td>\n      <td>15.0</td>\n      <td>506,811</td>\n      <td>Georgia State University</td>\n      <td>State</td>\n      <td>$41,800.00</td>\n      <td>$74,000.00</td>\n      <td>$43,000.00</td>\n      <td>$55,300.00</td>\n      <td>$99,900.00</td>\n      <td>$145,000.00</td>\n    </tr>\n    <tr>\n      <th>10</th>\n      <td>Idaho State University</td>\n      <td>4</td>\n      <td>7</td>\n      <td>0.0</td>\n      <td>0.0</td>\n      <td>0.0</td>\n      <td>0.0</td>\n      <td>0.0</td>\n      <td>0.0</td>\n      <td>NaN</td>\n      <td>...</td>\n      <td>16.0</td>\n      <td>56,637</td>\n      <td>Idaho State University</td>\n      <td>State</td>\n      <td>$44,900.00</td>\n      <td>$73,400.00</td>\n      <td>$35,400.00</td>\n      <td>$49,600.00</td>\n      <td>$101,000.00</td>\n      <td>$143,000.00</td>\n    </tr>\n    <tr>\n      <th>11</th>\n      <td>DePaul University</td>\n      <td>4</td>\n      <td>3</td>\n      <td>0.0</td>\n      <td>0.0</td>\n      <td>0.0</td>\n      <td>0.0</td>\n      <td>0.0</td>\n      <td>0.0</td>\n      <td>0.6753</td>\n      <td>...</td>\n      <td>16.0</td>\n      <td>2,693,976</td>\n      <td>DePauw University</td>\n      <td>Liberal Arts</td>\n      <td>$41,400.00</td>\n      <td>$88,300.00</td>\n      <td>$49,500.00</td>\n      <td>$57,400.00</td>\n      <td>$133,000.00</td>\n      <td>$185,000.00</td>\n    </tr>\n    <tr>\n      <th>12</th>\n      <td>University of Illinois at Chicago</td>\n      <td>4</td>\n      <td>3</td>\n      <td>0.0</td>\n      <td>0.0</td>\n      <td>0.0</td>\n      <td>1.0</td>\n      <td>0.0</td>\n      <td>0.0</td>\n      <td>0.7555</td>\n      <td>...</td>\n      <td>15.0</td>\n      <td>2,693,976</td>\n      <td>University of Illinois at Chicago</td>\n      <td>State</td>\n      <td>$47,500.00</td>\n      <td>$81,700.00</td>\n      <td>$44,700.00</td>\n      <td>$58,800.00</td>\n      <td>$110,000.00</td>\n      <td>$146,000.00</td>\n    </tr>\n    <tr>\n      <th>13</th>\n      <td>Iowa State University</td>\n      <td>4</td>\n      <td>4</td>\n      <td>0.0</td>\n      <td>0.0</td>\n      <td>0.0</td>\n      <td>0.0</td>\n      <td>0.0</td>\n      <td>0.0</td>\n      <td>0.9060</td>\n      <td>...</td>\n      <td>15.0</td>\n      <td>66,258</td>\n      <td>Iowa State University</td>\n      <td>State</td>\n      <td>$45,400.00</td>\n      <td>$84,600.00</td>\n      <td>$44,400.00</td>\n      <td>$60,000.00</td>\n      <td>$109,000.00</td>\n      <td>$147,000.00</td>\n    </tr>\n    <tr>\n      <th>14</th>\n      <td>University of Kansas</td>\n      <td>4</td>\n      <td>4</td>\n      <td>0.0</td>\n      <td>0.0</td>\n      <td>0.0</td>\n      <td>0.0</td>\n      <td>0.0</td>\n      <td>0.0</td>\n      <td>0.9171</td>\n      <td>...</td>\n      <td>15.0</td>\n      <td>98,193</td>\n      <td>University of Arkansas</td>\n      <td>State</td>\n      <td>$44,100.00</td>\n      <td>$82,800.00</td>\n      <td>$43,200.00</td>\n      <td>$60,700.00</td>\n      <td>$113,000.00</td>\n      <td>$160,000.00</td>\n    </tr>\n    <tr>\n      <th>15</th>\n      <td>University of Kansas</td>\n      <td>4</td>\n      <td>4</td>\n      <td>0.0</td>\n      <td>0.0</td>\n      <td>0.0</td>\n      <td>0.0</td>\n      <td>0.0</td>\n      <td>0.0</td>\n      <td>0.9171</td>\n      <td>...</td>\n      <td>15.0</td>\n      <td>98,193</td>\n      <td>University of Kansas</td>\n      <td>State</td>\n      <td>$42,400.00</td>\n      <td>$81,600.00</td>\n      <td>$44,800.00</td>\n      <td>$57,200.00</td>\n      <td>$115,000.00</td>\n      <td>$156,000.00</td>\n    </tr>\n    <tr>\n      <th>16</th>\n      <td>University of Southern Maine</td>\n      <td>4</td>\n      <td>1</td>\n      <td>0.0</td>\n      <td>0.0</td>\n      <td>0.0</td>\n      <td>0.0</td>\n      <td>0.0</td>\n      <td>0.0</td>\n      <td>0.8543</td>\n      <td>...</td>\n      <td>18.0</td>\n      <td>66,215</td>\n      <td>University of Southern Maine</td>\n      <td>State</td>\n      <td>$39,400.00</td>\n      <td>$63,600.00</td>\n      <td>$40,400.00</td>\n      <td>$47,900.00</td>\n      <td>$85,700.00</td>\n      <td>$117,000.00</td>\n    </tr>\n    <tr>\n      <th>17</th>\n      <td>Harvard University</td>\n      <td>4</td>\n      <td>1</td>\n      <td>0.0</td>\n      <td>0.0</td>\n      <td>0.0</td>\n      <td>0.0</td>\n      <td>0.0</td>\n      <td>0.0</td>\n      <td>0.0473</td>\n      <td>...</td>\n      <td>15.0</td>\n      <td>118,927</td>\n      <td>Harvard University</td>\n      <td>Ivy League</td>\n      <td>$63,400.00</td>\n      <td>$124,000.00</td>\n      <td>$54,800.00</td>\n      <td>$86,200.00</td>\n      <td>$179,000.00</td>\n      <td>$288,000.00</td>\n    </tr>\n    <tr>\n      <th>18</th>\n      <td>College of the Holy Cross</td>\n      <td>3</td>\n      <td>1</td>\n      <td>0.0</td>\n      <td>0.0</td>\n      <td>0.0</td>\n      <td>0.0</td>\n      <td>0.0</td>\n      <td>0.0</td>\n      <td>0.3801</td>\n      <td>...</td>\n      <td>21.0</td>\n      <td>185,428</td>\n      <td>College of the Holy Cross</td>\n      <td>Liberal Arts</td>\n      <td>$50,200.00</td>\n      <td>$106,000.00</td>\n      <td>NaN</td>\n      <td>$65,600.00</td>\n      <td>$143,000.00</td>\n      <td>NaN</td>\n    </tr>\n    <tr>\n      <th>19</th>\n      <td>Wentworth Institute of Technology</td>\n      <td>4</td>\n      <td>1</td>\n      <td>0.0</td>\n      <td>0.0</td>\n      <td>0.0</td>\n      <td>0.0</td>\n      <td>0.0</td>\n      <td>0.0</td>\n      <td>0.7604</td>\n      <td>...</td>\n      <td>19.0</td>\n      <td>692,600</td>\n      <td>Wentworth Institute of Technology</td>\n      <td>Engineering</td>\n      <td>$53,000.00</td>\n      <td>$96,700.00</td>\n      <td>$55,200.00</td>\n      <td>$74,000.00</td>\n      <td>$117,000.00</td>\n      <td>$153,000.00</td>\n    </tr>\n    <tr>\n      <th>20</th>\n      <td>Wayne State University</td>\n      <td>4</td>\n      <td>3</td>\n      <td>0.0</td>\n      <td>0.0</td>\n      <td>0.0</td>\n      <td>0.0</td>\n      <td>0.0</td>\n      <td>0.0</td>\n      <td>0.7115</td>\n      <td>...</td>\n      <td>15.0</td>\n      <td>670,031</td>\n      <td>Wayne State University</td>\n      <td>State</td>\n      <td>$42,800.00</td>\n      <td>$76,100.00</td>\n      <td>$40,100.00</td>\n      <td>$56,200.00</td>\n      <td>$101,000.00</td>\n      <td>$139,000.00</td>\n    </tr>\n    <tr>\n      <th>21</th>\n      <td>Western Michigan University</td>\n      <td>4</td>\n      <td>3</td>\n      <td>0.0</td>\n      <td>0.0</td>\n      <td>0.0</td>\n      <td>0.0</td>\n      <td>0.0</td>\n      <td>0.0</td>\n      <td>0.8110</td>\n      <td>...</td>\n      <td>16.0</td>\n      <td>76,200</td>\n      <td>Eastern Michigan University</td>\n      <td>State</td>\n      <td>$40,300.00</td>\n      <td>$72,100.00</td>\n      <td>$37,900.00</td>\n      <td>$52,800.00</td>\n      <td>$95,400.00</td>\n      <td>$135,000.00</td>\n    </tr>\n    <tr>\n      <th>22</th>\n      <td>University of Missouri-Columbia</td>\n      <td>4</td>\n      <td>4</td>\n      <td>0.0</td>\n      <td>0.0</td>\n      <td>0.0</td>\n      <td>0.0</td>\n      <td>0.0</td>\n      <td>0.0</td>\n      <td>0.7784</td>\n      <td>...</td>\n      <td>15.0</td>\n      <td>123,195</td>\n      <td>University of Missouri - Columbia</td>\n      <td>State</td>\n      <td>$41,700.00</td>\n      <td>$81,000.00</td>\n      <td>$43,500.00</td>\n      <td>$57,100.00</td>\n      <td>$111,000.00</td>\n      <td>$156,000.00</td>\n    </tr>\n    <tr>\n      <th>23</th>\n      <td>Montana State University Billings</td>\n      <td>4</td>\n      <td>7</td>\n      <td>0.0</td>\n      <td>0.0</td>\n      <td>0.0</td>\n      <td>0.0</td>\n      <td>0.0</td>\n      <td>0.0</td>\n      <td>NaN</td>\n      <td>...</td>\n      <td>19.0</td>\n      <td>109,577</td>\n      <td>Montana State University - Billings</td>\n      <td>State</td>\n      <td>$37,900.00</td>\n      <td>$50,600.00</td>\n      <td>$22,600.00</td>\n      <td>$31,800.00</td>\n      <td>$78,500.00</td>\n      <td>$98,900.00</td>\n    </tr>\n    <tr>\n      <th>24</th>\n      <td>University of Nebraska at Omaha</td>\n      <td>4</td>\n      <td>4</td>\n      <td>0.0</td>\n      <td>0.0</td>\n      <td>0.0</td>\n      <td>0.0</td>\n      <td>0.0</td>\n      <td>0.0</td>\n      <td>0.8168</td>\n      <td>...</td>\n      <td>16.0</td>\n      <td>478,192</td>\n      <td>University of Nebraska at Omaha</td>\n      <td>State</td>\n      <td>$41,500.00</td>\n      <td>$72,600.00</td>\n      <td>$39,500.00</td>\n      <td>$54,400.00</td>\n      <td>$97,400.00</td>\n      <td>$126,000.00</td>\n    </tr>\n    <tr>\n      <th>25</th>\n      <td>Union College</td>\n      <td>4</td>\n      <td>4</td>\n      <td>0.0</td>\n      <td>0.0</td>\n      <td>0.0</td>\n      <td>0.0</td>\n      <td>0.0</td>\n      <td>0.0</td>\n      <td>0.9606</td>\n      <td>...</td>\n      <td>22.0</td>\n      <td>289,102</td>\n      <td>Union College</td>\n      <td>Liberal Arts</td>\n      <td>$47,200.00</td>\n      <td>$95,800.00</td>\n      <td>$48,700.00</td>\n      <td>$75,200.00</td>\n      <td>$135,000.00</td>\n      <td>$230,000.00</td>\n    </tr>\n    <tr>\n      <th>26</th>\n      <td>Stevens Institute of Technology</td>\n      <td>4</td>\n      <td>2</td>\n      <td>0.0</td>\n      <td>0.0</td>\n      <td>0.0</td>\n      <td>0.0</td>\n      <td>0.0</td>\n      <td>0.0</td>\n      <td>0.4142</td>\n      <td>...</td>\n      <td>16.0</td>\n      <td>52,677</td>\n      <td>Stevens Institute of Technology</td>\n      <td>Engineering</td>\n      <td>$60,600.00</td>\n      <td>$105,000.00</td>\n      <td>$68,700.00</td>\n      <td>$81,900.00</td>\n      <td>$138,000.00</td>\n      <td>$185,000.00</td>\n    </tr>\n    <tr>\n      <th>27</th>\n      <td>Union College</td>\n      <td>3</td>\n      <td>2</td>\n      <td>0.0</td>\n      <td>0.0</td>\n      <td>0.0</td>\n      <td>0.0</td>\n      <td>0.0</td>\n      <td>0.0</td>\n      <td>0.3868</td>\n      <td>...</td>\n      <td>21.0</td>\n      <td>65,273</td>\n      <td>Union College</td>\n      <td>Liberal Arts</td>\n      <td>$47,200.00</td>\n      <td>$95,800.00</td>\n      <td>$48,700.00</td>\n      <td>$75,200.00</td>\n      <td>$135,000.00</td>\n      <td>$230,000.00</td>\n    </tr>\n    <tr>\n      <th>28</th>\n      <td>University of North Dakota</td>\n      <td>4</td>\n      <td>4</td>\n      <td>0.0</td>\n      <td>0.0</td>\n      <td>0.0</td>\n      <td>0.0</td>\n      <td>0.0</td>\n      <td>0.0</td>\n      <td>0.8221</td>\n      <td>...</td>\n      <td>16.0</td>\n      <td>55,839</td>\n      <td>University of North Dakota</td>\n      <td>State</td>\n      <td>$44,000.00</td>\n      <td>$80,600.00</td>\n      <td>$43,400.00</td>\n      <td>$56,400.00</td>\n      <td>$111,000.00</td>\n      <td>$157,000.00</td>\n    </tr>\n    <tr>\n      <th>29</th>\n      <td>Cleveland State University</td>\n      <td>4</td>\n      <td>3</td>\n      <td>0.0</td>\n      <td>0.0</td>\n      <td>0.0</td>\n      <td>0.0</td>\n      <td>0.0</td>\n      <td>0.0</td>\n      <td>0.8834</td>\n      <td>...</td>\n      <td>16.0</td>\n      <td>381,009</td>\n      <td>Cleveland State University</td>\n      <td>State</td>\n      <td>$43,500.00</td>\n      <td>$73,100.00</td>\n      <td>$39,500.00</td>\n      <td>$51,600.00</td>\n      <td>$97,000.00</td>\n      <td>$137,000.00</td>\n    </tr>\n    <tr>\n      <th>30</th>\n      <td>University of Toledo</td>\n      <td>4</td>\n      <td>3</td>\n      <td>0.0</td>\n      <td>0.0</td>\n      <td>0.0</td>\n      <td>0.0</td>\n      <td>0.0</td>\n      <td>0.0</td>\n      <td>0.9365</td>\n      <td>...</td>\n      <td>16.0</td>\n      <td>272,779</td>\n      <td>University of Toledo</td>\n      <td>State</td>\n      <td>$43,100.00</td>\n      <td>$75,900.00</td>\n      <td>$40,100.00</td>\n      <td>$54,100.00</td>\n      <td>$100,000.00</td>\n      <td>$133,000.00</td>\n    </tr>\n    <tr>\n      <th>31</th>\n      <td>Wittenberg University</td>\n      <td>4</td>\n      <td>3</td>\n      <td>0.0</td>\n      <td>0.0</td>\n      <td>0.0</td>\n      <td>0.0</td>\n      <td>0.0</td>\n      <td>0.0</td>\n      <td>0.7373</td>\n      <td>...</td>\n      <td>21.0</td>\n      <td>58,877</td>\n      <td>Wittenberg University</td>\n      <td>Liberal Arts</td>\n      <td>$39,200.00</td>\n      <td>$78,200.00</td>\n      <td>NaN</td>\n      <td>$54,100.00</td>\n      <td>$131,000.00</td>\n      <td>NaN</td>\n    </tr>\n    <tr>\n      <th>32</th>\n      <td>Lewis &amp; Clark College</td>\n      <td>4</td>\n      <td>8</td>\n      <td>0.0</td>\n      <td>0.0</td>\n      <td>0.0</td>\n      <td>0.0</td>\n      <td>0.0</td>\n      <td>0.0</td>\n      <td>0.7376</td>\n      <td>...</td>\n      <td>21.0</td>\n      <td>654,741</td>\n      <td>Lewis &amp; Clark College</td>\n      <td>Liberal Arts</td>\n      <td>$38,900.00</td>\n      <td>$72,600.00</td>\n      <td>$38,200.00</td>\n      <td>$53,400.00</td>\n      <td>$104,000.00</td>\n      <td>$140,000.00</td>\n    </tr>\n    <tr>\n      <th>33</th>\n      <td>University of Oregon</td>\n      <td>4</td>\n      <td>8</td>\n      <td>0.0</td>\n      <td>0.0</td>\n      <td>0.0</td>\n      <td>0.0</td>\n      <td>0.0</td>\n      <td>0.0</td>\n      <td>0.8337</td>\n      <td>...</td>\n      <td>15.0</td>\n      <td>172,622</td>\n      <td>University of Oregon</td>\n      <td>State</td>\n      <td>$42,200.00</td>\n      <td>$78,400.00</td>\n      <td>$38,100.00</td>\n      <td>$56,200.00</td>\n      <td>$117,000.00</td>\n      <td>$186,000.00</td>\n    </tr>\n    <tr>\n      <th>34</th>\n      <td>Reed College</td>\n      <td>4</td>\n      <td>8</td>\n      <td>0.0</td>\n      <td>0.0</td>\n      <td>0.0</td>\n      <td>0.0</td>\n      <td>0.0</td>\n      <td>0.0</td>\n      <td>0.3503</td>\n      <td>...</td>\n      <td>21.0</td>\n      <td>654,741</td>\n      <td>Reed College</td>\n      <td>Liberal Arts</td>\n      <td>$40,500.00</td>\n      <td>$81,100.00</td>\n      <td>NaN</td>\n      <td>$67,400.00</td>\n      <td>$101,000.00</td>\n      <td>NaN</td>\n    </tr>\n    <tr>\n      <th>35</th>\n      <td>Franklin and Marshall College</td>\n      <td>3</td>\n      <td>2</td>\n      <td>0.0</td>\n      <td>0.0</td>\n      <td>0.0</td>\n      <td>0.0</td>\n      <td>0.0</td>\n      <td>0.0</td>\n      <td>0.3532</td>\n      <td>...</td>\n      <td>21.0</td>\n      <td>59,265</td>\n      <td>Franklin and Marshall College</td>\n      <td>Liberal Arts</td>\n      <td>$49,100.00</td>\n      <td>$92,800.00</td>\n      <td>NaN</td>\n      <td>$55,800.00</td>\n      <td>$185,000.00</td>\n      <td>NaN</td>\n    </tr>\n    <tr>\n      <th>36</th>\n      <td>Moravian College</td>\n      <td>4</td>\n      <td>2</td>\n      <td>0.0</td>\n      <td>0.0</td>\n      <td>0.0</td>\n      <td>0.0</td>\n      <td>0.0</td>\n      <td>0.0</td>\n      <td>0.7282</td>\n      <td>...</td>\n      <td>21.0</td>\n      <td>75,815</td>\n      <td>Moravian College</td>\n      <td>Liberal Arts</td>\n      <td>$42,500.00</td>\n      <td>$74,400.00</td>\n      <td>NaN</td>\n      <td>$56,700.00</td>\n      <td>$94,900.00</td>\n      <td>NaN</td>\n    </tr>\n    <tr>\n      <th>37</th>\n      <td>University of Pennsylvania</td>\n      <td>4</td>\n      <td>2</td>\n      <td>0.0</td>\n      <td>0.0</td>\n      <td>0.0</td>\n      <td>0.0</td>\n      <td>0.0</td>\n      <td>0.0</td>\n      <td>0.0841</td>\n      <td>...</td>\n      <td>15.0</td>\n      <td>1,584,064</td>\n      <td>University of Pennsylvania</td>\n      <td>Ivy League</td>\n      <td>$60,900.00</td>\n      <td>$120,000.00</td>\n      <td>$55,900.00</td>\n      <td>$79,200.00</td>\n      <td>$192,000.00</td>\n      <td>$282,000.00</td>\n    </tr>\n    <tr>\n      <th>38</th>\n      <td>Brown University</td>\n      <td>4</td>\n      <td>1</td>\n      <td>0.0</td>\n      <td>0.0</td>\n      <td>0.0</td>\n      <td>0.0</td>\n      <td>0.0</td>\n      <td>0.0</td>\n      <td>0.0767</td>\n      <td>...</td>\n      <td>15.0</td>\n      <td>179,883</td>\n      <td>Brown University</td>\n      <td>Ivy League</td>\n      <td>$56,200.00</td>\n      <td>$109,000.00</td>\n      <td>$55,400.00</td>\n      <td>$74,400.00</td>\n      <td>$159,000.00</td>\n      <td>$228,000.00</td>\n    </tr>\n    <tr>\n      <th>39</th>\n      <td>South Dakota School of Mines and Technology</td>\n      <td>4</td>\n      <td>4</td>\n      <td>0.0</td>\n      <td>0.0</td>\n      <td>0.0</td>\n      <td>0.0</td>\n      <td>0.0</td>\n      <td>0.0</td>\n      <td>0.8332</td>\n      <td>...</td>\n      <td>27.0</td>\n      <td>77,503</td>\n      <td>South Dakota School of Mines &amp; Technology</td>\n      <td>Engineering</td>\n      <td>$55,800.00</td>\n      <td>$93,400.00</td>\n      <td>$71,500.00</td>\n      <td>$81,900.00</td>\n      <td>$122,000.00</td>\n      <td>$147,000.00</td>\n    </tr>\n    <tr>\n      <th>40</th>\n      <td>Austin Peay State University</td>\n      <td>4</td>\n      <td>5</td>\n      <td>0.0</td>\n      <td>0.0</td>\n      <td>0.0</td>\n      <td>0.0</td>\n      <td>0.0</td>\n      <td>0.0</td>\n      <td>0.9378</td>\n      <td>...</td>\n      <td>18.0</td>\n      <td>158,146</td>\n      <td>Austin Peay State University</td>\n      <td>State</td>\n      <td>$37,700.00</td>\n      <td>$59,200.00</td>\n      <td>$32,200.00</td>\n      <td>$40,500.00</td>\n      <td>$73,900.00</td>\n      <td>$96,200.00</td>\n    </tr>\n    <tr>\n      <th>41</th>\n      <td>Lamar University</td>\n      <td>4</td>\n      <td>6</td>\n      <td>0.0</td>\n      <td>0.0</td>\n      <td>0.0</td>\n      <td>0.0</td>\n      <td>0.0</td>\n      <td>0.0</td>\n      <td>0.8432</td>\n      <td>...</td>\n      <td>17.0</td>\n      <td>116,825</td>\n      <td>Lamar University</td>\n      <td>State</td>\n      <td>$46,500.00</td>\n      <td>$79,400.00</td>\n      <td>$38,700.00</td>\n      <td>$51,600.00</td>\n      <td>$114,000.00</td>\n      <td>$158,000.00</td>\n    </tr>\n    <tr>\n      <th>42</th>\n      <td>Utah State University</td>\n      <td>4</td>\n      <td>7</td>\n      <td>0.0</td>\n      <td>0.0</td>\n      <td>0.0</td>\n      <td>0.0</td>\n      <td>0.0</td>\n      <td>0.0</td>\n      <td>0.8905</td>\n      <td>...</td>\n      <td>16.0</td>\n      <td>51,542</td>\n      <td>Utah State University</td>\n      <td>State</td>\n      <td>$43,800.00</td>\n      <td>$78,700.00</td>\n      <td>$41,600.00</td>\n      <td>$55,400.00</td>\n      <td>$101,000.00</td>\n      <td>$132,000.00</td>\n    </tr>\n    <tr>\n      <th>43</th>\n      <td>University of Utah</td>\n      <td>4</td>\n      <td>7</td>\n      <td>0.0</td>\n      <td>0.0</td>\n      <td>0.0</td>\n      <td>0.0</td>\n      <td>0.0</td>\n      <td>0.0</td>\n      <td>0.6686</td>\n      <td>...</td>\n      <td>15.0</td>\n      <td>200,567</td>\n      <td>University of Utah</td>\n      <td>State</td>\n      <td>$45,400.00</td>\n      <td>$83,200.00</td>\n      <td>$43,000.00</td>\n      <td>$58,400.00</td>\n      <td>$116,000.00</td>\n      <td>$148,000.00</td>\n    </tr>\n    <tr>\n      <th>44</th>\n      <td>University of Puget Sound</td>\n      <td>4</td>\n      <td>8</td>\n      <td>0.0</td>\n      <td>0.0</td>\n      <td>0.0</td>\n      <td>0.0</td>\n      <td>0.0</td>\n      <td>0.0</td>\n      <td>0.8831</td>\n      <td>...</td>\n      <td>21.0</td>\n      <td>217,827</td>\n      <td>University of Puget Sound</td>\n      <td>Liberal Arts</td>\n      <td>$46,600.00</td>\n      <td>$81,500.00</td>\n      <td>$48,900.00</td>\n      <td>$60,100.00</td>\n      <td>$104,000.00</td>\n      <td>$137,000.00</td>\n    </tr>\n    <tr>\n      <th>45</th>\n      <td>Western Washington University</td>\n      <td>4</td>\n      <td>8</td>\n      <td>0.0</td>\n      <td>0.0</td>\n      <td>0.0</td>\n      <td>0.0</td>\n      <td>0.0</td>\n      <td>0.0</td>\n      <td>0.8766</td>\n      <td>...</td>\n      <td>18.0</td>\n      <td>92,314</td>\n      <td>Western Washington University</td>\n      <td>State</td>\n      <td>$42,700.00</td>\n      <td>$75,400.00</td>\n      <td>$41,300.00</td>\n      <td>$56,700.00</td>\n      <td>$99,200.00</td>\n      <td>$119,000.00</td>\n    </tr>\n    <tr>\n      <th>46</th>\n      <td>Western Washington University</td>\n      <td>4</td>\n      <td>8</td>\n      <td>0.0</td>\n      <td>0.0</td>\n      <td>0.0</td>\n      <td>0.0</td>\n      <td>0.0</td>\n      <td>0.0</td>\n      <td>0.8766</td>\n      <td>...</td>\n      <td>18.0</td>\n      <td>92,314</td>\n      <td>Eastern Washington University</td>\n      <td>State</td>\n      <td>$38,600.00</td>\n      <td>$70,900.00</td>\n      <td>$36,000.00</td>\n      <td>$50,500.00</td>\n      <td>$93,100.00</td>\n      <td>$117,000.00</td>\n    </tr>\n  </tbody>\n</table>\n<p>47 rows × 121 columns</p>\n</div>"
     },
     "metadata": {},
     "execution_count": 246
    }
   ],
   "source": [
    "school_stype"
   ]
  },
  {
   "cell_type": "code",
   "execution_count": null,
   "metadata": {},
   "outputs": [],
   "source": []
  }
 ]
}